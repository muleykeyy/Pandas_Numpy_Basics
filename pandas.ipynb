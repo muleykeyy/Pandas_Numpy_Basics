{
 "cells": [
  {
   "cell_type": "code",
   "execution_count": 1,
   "id": "df8197ba",
   "metadata": {
    "_cell_guid": "b1076dfc-b9ad-4769-8c92-a6c4dae69d19",
    "_uuid": "8f2839f25d086af736a60e9eeb907d3b93b6e0e5",
    "execution": {
     "iopub.execute_input": "2022-04-22T09:14:04.928865Z",
     "iopub.status.busy": "2022-04-22T09:14:04.928036Z",
     "iopub.status.idle": "2022-04-22T09:14:04.932728Z",
     "shell.execute_reply": "2022-04-22T09:14:04.933249Z",
     "shell.execute_reply.started": "2022-02-10T16:18:37.784131Z"
    },
    "papermill": {
     "duration": 0.083495,
     "end_time": "2022-04-22T09:14:04.933567",
     "exception": false,
     "start_time": "2022-04-22T09:14:04.850072",
     "status": "completed"
    },
    "tags": []
   },
   "outputs": [],
   "source": [
    "import numpy as np \n",
    "import pandas as pd "
   ]
  },
  {
   "cell_type": "markdown",
   "id": "ae18ffb2",
   "metadata": {
    "papermill": {
     "duration": 0.067964,
     "end_time": "2022-04-22T09:14:05.075339",
     "exception": false,
     "start_time": "2022-04-22T09:14:05.007375",
     "status": "completed"
    },
    "tags": []
   },
   "source": [
    "<font color='purple'>\n",
    "    \n",
    "    \n",
    "* [Pandas Serisi Oluşturmak](#1)\n",
    "    1. [Index Belirleme & Değiştirme](#2)\n",
    "    1. [DICTIONARY ile SERIES OLUŞTURMA](#3)\n",
    "* [ELEMAN İŞLEMLERİ](#4)\n",
    "    1. [FANCY](#5)\n",
    "* [PANDAS ile Data Frame](#6)\n",
    "    1. [List ile Data Frame Oluşturma](#7)\n",
    "    1. [NumPy Array ile Data Frame Oluşturma](#8)\n",
    "    1. [Data Frame Eleman İşlemleri](#9)\n",
    "        * [Index ile Seçim İşlemi](#10)\n",
    "        * [DROP (Silme)](#11)\n",
    "        * [FANCY ile Toplu Silme](#12)\n",
    "        * [KOŞULLU İŞLEMLER](#13)\n",
    "        * [Yeni Sütun Eklemek](#14)\n",
    "* [PANDAS ÖZELLİKLERİ](#15)\n",
    "    1. [LOC & ILOC](#16)\n",
    "    1. [Koşullu Eleman İşlemleri](#17)\n",
    "    1. [CONCAT( ) Birleştirme](#18)\n",
    "        * [Index Düzenleme](#19)\n",
    "        * [Farklı Sütun İsimleri](#20)\n",
    "        * [concat(,join=\"inner\")Kesişimleri Birleştir](#21)\n",
    "    1. [İLERİ BİRLEŞTİRME İŞLEMLERİ](#22)\n",
    "        * [merge( )](#23)\n",
    "            1. [MANY to ONE](#24)\n",
    "            1. [MANY to MANY](#25)\n",
    "* [AGGREGATION (Toplulaştırma)](#26)\n",
    "* [GROUPING](#27)\n",
    "* [İLERİ TOPLULAŞTIRMA İŞLEMLERİ](#28)\n",
    "    1. [AGGREGATE](#29)\n",
    "    1. [FILTER](#30)\n",
    "    1. [TRANSFORM](#31)\n",
    "    1. [APPLY](#32)\n",
    "* [PİVOT TABLOLAR](#33)"
   ]
  },
  {
   "cell_type": "markdown",
   "id": "a66ae425",
   "metadata": {
    "papermill": {
     "duration": 0.066229,
     "end_time": "2022-04-22T09:14:05.208902",
     "exception": false,
     "start_time": "2022-04-22T09:14:05.142673",
     "status": "completed"
    },
    "tags": []
   },
   "source": [
    "<a id=\"1\"></a>\n",
    "# PANDAS SERİSİ OLUŞTURMAK"
   ]
  },
  {
   "cell_type": "code",
   "execution_count": 2,
   "id": "bdeafefb",
   "metadata": {
    "execution": {
     "iopub.execute_input": "2022-04-22T09:14:05.346620Z",
     "iopub.status.busy": "2022-04-22T09:14:05.345679Z",
     "iopub.status.idle": "2022-04-22T09:14:05.356119Z",
     "shell.execute_reply": "2022-04-22T09:14:05.356710Z",
     "shell.execute_reply.started": "2022-02-09T16:16:07.196512Z"
    },
    "papermill": {
     "duration": 0.081012,
     "end_time": "2022-04-22T09:14:05.356875",
     "exception": false,
     "start_time": "2022-04-22T09:14:05.275863",
     "status": "completed"
    },
    "tags": []
   },
   "outputs": [
    {
     "data": {
      "text/plain": [
       "0    10\n",
       "1    20\n",
       "2    30\n",
       "3    40\n",
       "4    50\n",
       "dtype: int64"
      ]
     },
     "execution_count": 2,
     "metadata": {},
     "output_type": "execute_result"
    }
   ],
   "source": [
    "seri=pd.Series([10,20,30,40,50])\n",
    "seri"
   ]
  },
  {
   "cell_type": "code",
   "execution_count": 3,
   "id": "0a059e14",
   "metadata": {
    "execution": {
     "iopub.execute_input": "2022-04-22T09:14:05.495939Z",
     "iopub.status.busy": "2022-04-22T09:14:05.495000Z",
     "iopub.status.idle": "2022-04-22T09:14:05.500091Z",
     "shell.execute_reply": "2022-04-22T09:14:05.500674Z",
     "shell.execute_reply.started": "2022-02-09T16:16:24.036223Z"
    },
    "papermill": {
     "duration": 0.075708,
     "end_time": "2022-04-22T09:14:05.500841",
     "exception": false,
     "start_time": "2022-04-22T09:14:05.425133",
     "status": "completed"
    },
    "tags": []
   },
   "outputs": [
    {
     "data": {
      "text/plain": [
       "pandas.core.series.Series"
      ]
     },
     "execution_count": 3,
     "metadata": {},
     "output_type": "execute_result"
    }
   ],
   "source": [
    "type(seri)"
   ]
  },
  {
   "cell_type": "code",
   "execution_count": 4,
   "id": "d733e086",
   "metadata": {
    "execution": {
     "iopub.execute_input": "2022-04-22T09:14:05.639618Z",
     "iopub.status.busy": "2022-04-22T09:14:05.638702Z",
     "iopub.status.idle": "2022-04-22T09:14:05.643619Z",
     "shell.execute_reply": "2022-04-22T09:14:05.644133Z",
     "shell.execute_reply.started": "2022-02-09T16:19:30.940247Z"
    },
    "papermill": {
     "duration": 0.076162,
     "end_time": "2022-04-22T09:14:05.644315",
     "exception": false,
     "start_time": "2022-04-22T09:14:05.568153",
     "status": "completed"
    },
    "tags": []
   },
   "outputs": [
    {
     "data": {
      "text/plain": [
       "[RangeIndex(start=0, stop=5, step=1)]"
      ]
     },
     "execution_count": 4,
     "metadata": {},
     "output_type": "execute_result"
    }
   ],
   "source": [
    "seri.axes\n",
    "# serinin index bilgilerine erişiriz.."
   ]
  },
  {
   "cell_type": "code",
   "execution_count": 5,
   "id": "66777961",
   "metadata": {
    "execution": {
     "iopub.execute_input": "2022-04-22T09:14:05.783478Z",
     "iopub.status.busy": "2022-04-22T09:14:05.782596Z",
     "iopub.status.idle": "2022-04-22T09:14:05.787696Z",
     "shell.execute_reply": "2022-04-22T09:14:05.788212Z",
     "shell.execute_reply.started": "2022-02-09T16:20:01.688554Z"
    },
    "papermill": {
     "duration": 0.075908,
     "end_time": "2022-04-22T09:14:05.788390",
     "exception": false,
     "start_time": "2022-04-22T09:14:05.712482",
     "status": "completed"
    },
    "tags": []
   },
   "outputs": [
    {
     "data": {
      "text/plain": [
       "dtype('int64')"
      ]
     },
     "execution_count": 5,
     "metadata": {},
     "output_type": "execute_result"
    }
   ],
   "source": [
    "seri.dtype"
   ]
  },
  {
   "cell_type": "code",
   "execution_count": 6,
   "id": "d4c7812b",
   "metadata": {
    "execution": {
     "iopub.execute_input": "2022-04-22T09:14:05.930652Z",
     "iopub.status.busy": "2022-04-22T09:14:05.929709Z",
     "iopub.status.idle": "2022-04-22T09:14:05.933111Z",
     "shell.execute_reply": "2022-04-22T09:14:05.933556Z",
     "shell.execute_reply.started": "2022-02-09T16:20:26.838607Z"
    },
    "papermill": {
     "duration": 0.077879,
     "end_time": "2022-04-22T09:14:05.933726",
     "exception": false,
     "start_time": "2022-04-22T09:14:05.855847",
     "status": "completed"
    },
    "tags": []
   },
   "outputs": [
    {
     "data": {
      "text/plain": [
       "5"
      ]
     },
     "execution_count": 6,
     "metadata": {},
     "output_type": "execute_result"
    }
   ],
   "source": [
    "seri.size\n",
    "# Eleman sayısı"
   ]
  },
  {
   "cell_type": "code",
   "execution_count": 7,
   "id": "2d1b8f08",
   "metadata": {
    "execution": {
     "iopub.execute_input": "2022-04-22T09:14:06.100056Z",
     "iopub.status.busy": "2022-04-22T09:14:06.098961Z",
     "iopub.status.idle": "2022-04-22T09:14:06.103182Z",
     "shell.execute_reply": "2022-04-22T09:14:06.100990Z",
     "shell.execute_reply.started": "2022-02-09T16:20:36.110457Z"
    },
    "papermill": {
     "duration": 0.097522,
     "end_time": "2022-04-22T09:14:06.103392",
     "exception": false,
     "start_time": "2022-04-22T09:14:06.005870",
     "status": "completed"
    },
    "tags": []
   },
   "outputs": [
    {
     "data": {
      "text/plain": [
       "array([10, 20, 30, 40, 50])"
      ]
     },
     "execution_count": 7,
     "metadata": {},
     "output_type": "execute_result"
    }
   ],
   "source": [
    "seri.values\n",
    "# Serimizi ARRAY olarak görebiliriz."
   ]
  },
  {
   "cell_type": "markdown",
   "id": "96529c36",
   "metadata": {
    "papermill": {
     "duration": 0.067915,
     "end_time": "2022-04-22T09:14:06.242067",
     "exception": false,
     "start_time": "2022-04-22T09:14:06.174152",
     "status": "completed"
    },
    "tags": []
   },
   "source": [
    "<a id=\"2\"></a>\n",
    "## Index Belirleme & Değiştirme"
   ]
  },
  {
   "cell_type": "code",
   "execution_count": 8,
   "id": "c9612fa2",
   "metadata": {
    "execution": {
     "iopub.execute_input": "2022-04-22T09:14:06.384638Z",
     "iopub.status.busy": "2022-04-22T09:14:06.381248Z",
     "iopub.status.idle": "2022-04-22T09:14:06.387787Z",
     "shell.execute_reply": "2022-04-22T09:14:06.388181Z",
     "shell.execute_reply.started": "2022-02-09T16:24:27.99075Z"
    },
    "papermill": {
     "duration": 0.077674,
     "end_time": "2022-04-22T09:14:06.388364",
     "exception": false,
     "start_time": "2022-04-22T09:14:06.310690",
     "status": "completed"
    },
    "tags": []
   },
   "outputs": [
    {
     "data": {
      "text/plain": [
       "1    50\n",
       "2    60\n",
       "3    70\n",
       "4    80\n",
       "5    90\n",
       "dtype: int64"
      ]
     },
     "execution_count": 8,
     "metadata": {},
     "output_type": "execute_result"
    }
   ],
   "source": [
    "pd.Series([50,60,70,80,90],index=[1,2,3,4,5])\n",
    "# index leri belirledik"
   ]
  },
  {
   "cell_type": "code",
   "execution_count": 9,
   "id": "82d0ac60",
   "metadata": {
    "execution": {
     "iopub.execute_input": "2022-04-22T09:14:06.534351Z",
     "iopub.status.busy": "2022-04-22T09:14:06.533710Z",
     "iopub.status.idle": "2022-04-22T09:14:06.537909Z",
     "shell.execute_reply": "2022-04-22T09:14:06.538472Z",
     "shell.execute_reply.started": "2022-02-09T16:25:28.998369Z"
    },
    "papermill": {
     "duration": 0.081912,
     "end_time": "2022-04-22T09:14:06.538632",
     "exception": false,
     "start_time": "2022-04-22T09:14:06.456720",
     "status": "completed"
    },
    "tags": []
   },
   "outputs": [
    {
     "data": {
      "text/plain": [
       "a    50\n",
       "b    60\n",
       "c    70\n",
       "d    80\n",
       "e    90\n",
       "dtype: int64"
      ]
     },
     "execution_count": 9,
     "metadata": {},
     "output_type": "execute_result"
    }
   ],
   "source": [
    "seri2=pd.Series([50,60,70,80,90],index=[\"a\",\"b\",\"c\",\"d\",\"e\"])\n",
    "seri2"
   ]
  },
  {
   "cell_type": "code",
   "execution_count": 10,
   "id": "a82b50c0",
   "metadata": {
    "execution": {
     "iopub.execute_input": "2022-04-22T09:14:06.680156Z",
     "iopub.status.busy": "2022-04-22T09:14:06.679565Z",
     "iopub.status.idle": "2022-04-22T09:14:06.687639Z",
     "shell.execute_reply": "2022-04-22T09:14:06.688163Z",
     "shell.execute_reply.started": "2022-02-09T16:25:45.429104Z"
    },
    "papermill": {
     "duration": 0.080623,
     "end_time": "2022-04-22T09:14:06.688343",
     "exception": false,
     "start_time": "2022-04-22T09:14:06.607720",
     "status": "completed"
    },
    "tags": []
   },
   "outputs": [
    {
     "data": {
      "text/plain": [
       "70"
      ]
     },
     "execution_count": 10,
     "metadata": {},
     "output_type": "execute_result"
    }
   ],
   "source": [
    "seri2[\"c\"]\n",
    "# İndex ile istediğimiz elemanı çağırabiliriz."
   ]
  },
  {
   "cell_type": "code",
   "execution_count": 11,
   "id": "be289e2a",
   "metadata": {
    "execution": {
     "iopub.execute_input": "2022-04-22T09:14:06.836278Z",
     "iopub.status.busy": "2022-04-22T09:14:06.835680Z",
     "iopub.status.idle": "2022-04-22T09:14:06.838354Z",
     "shell.execute_reply": "2022-04-22T09:14:06.838775Z",
     "shell.execute_reply.started": "2022-02-09T16:26:28.86953Z"
    },
    "papermill": {
     "duration": 0.081324,
     "end_time": "2022-04-22T09:14:06.838928",
     "exception": false,
     "start_time": "2022-04-22T09:14:06.757604",
     "status": "completed"
    },
    "tags": []
   },
   "outputs": [
    {
     "data": {
      "text/plain": [
       "b    60\n",
       "c    70\n",
       "d    80\n",
       "dtype: int64"
      ]
     },
     "execution_count": 11,
     "metadata": {},
     "output_type": "execute_result"
    }
   ],
   "source": [
    "seri2[\"b\":\"d\"]\n",
    "# Index ile istediğimiz aralıktaki değerleri çağırabiliriz."
   ]
  },
  {
   "cell_type": "markdown",
   "id": "fffc5c0c",
   "metadata": {
    "papermill": {
     "duration": 0.069447,
     "end_time": "2022-04-22T09:14:06.977972",
     "exception": false,
     "start_time": "2022-04-22T09:14:06.908525",
     "status": "completed"
    },
    "tags": []
   },
   "source": [
    "<a id=\"3\"></a>\n",
    "\n",
    "## DICTIONARY ile SERIES OLUŞTURMA"
   ]
  },
  {
   "cell_type": "code",
   "execution_count": 12,
   "id": "aeeb9b76",
   "metadata": {
    "execution": {
     "iopub.execute_input": "2022-04-22T09:14:07.143583Z",
     "iopub.status.busy": "2022-04-22T09:14:07.142942Z",
     "iopub.status.idle": "2022-04-22T09:14:07.150595Z",
     "shell.execute_reply": "2022-04-22T09:14:07.151074Z",
     "shell.execute_reply.started": "2022-02-09T16:29:39.405255Z"
    },
    "papermill": {
     "duration": 0.093759,
     "end_time": "2022-04-22T09:14:07.151255",
     "exception": false,
     "start_time": "2022-04-22T09:14:07.057496",
     "status": "completed"
    },
    "tags": []
   },
   "outputs": [
    {
     "data": {
      "text/plain": [
       "hilal     24\n",
       "sudem     17\n",
       "berkay    19\n",
       "dtype: int64"
      ]
     },
     "execution_count": 12,
     "metadata": {},
     "output_type": "execute_result"
    }
   ],
   "source": [
    "sozluk={\"hilal\":24,\"sudem\":17,\"berkay\":19}\n",
    "pd.Series(sozluk)"
   ]
  },
  {
   "cell_type": "markdown",
   "id": "9bb1dbe0",
   "metadata": {
    "papermill": {
     "duration": 0.077596,
     "end_time": "2022-04-22T09:14:07.311505",
     "exception": false,
     "start_time": "2022-04-22T09:14:07.233909",
     "status": "completed"
    },
    "tags": []
   },
   "source": [
    "<a id=\"4\"></a>\n",
    "\n",
    "# ELEMAN İŞLEMLERİ"
   ]
  },
  {
   "cell_type": "markdown",
   "id": "b7dffbc2",
   "metadata": {
    "papermill": {
     "duration": 0.070331,
     "end_time": "2022-04-22T09:14:07.468044",
     "exception": false,
     "start_time": "2022-04-22T09:14:07.397713",
     "status": "completed"
    },
    "tags": []
   },
   "source": [
    "NumPy Array ile Seri oluşturabiliriz."
   ]
  },
  {
   "cell_type": "code",
   "execution_count": 13,
   "id": "269ac43b",
   "metadata": {
    "execution": {
     "iopub.execute_input": "2022-04-22T09:14:07.613197Z",
     "iopub.status.busy": "2022-04-22T09:14:07.612278Z",
     "iopub.status.idle": "2022-04-22T09:14:07.618679Z",
     "shell.execute_reply": "2022-04-22T09:14:07.619159Z",
     "shell.execute_reply.started": "2022-02-09T16:34:05.663649Z"
    },
    "papermill": {
     "duration": 0.080683,
     "end_time": "2022-04-22T09:14:07.619347",
     "exception": false,
     "start_time": "2022-04-22T09:14:07.538664",
     "status": "completed"
    },
    "tags": []
   },
   "outputs": [
    {
     "data": {
      "text/plain": [
       "0      1\n",
       "1      2\n",
       "2     33\n",
       "3    444\n",
       "4     75\n",
       "dtype: int64"
      ]
     },
     "execution_count": 13,
     "metadata": {},
     "output_type": "execute_result"
    }
   ],
   "source": [
    "a=np.array([1,2,33,444,75])\n",
    "a\n",
    "seri3=pd.Series(a)\n",
    "seri3"
   ]
  },
  {
   "cell_type": "code",
   "execution_count": 14,
   "id": "5db03fa3",
   "metadata": {
    "execution": {
     "iopub.execute_input": "2022-04-22T09:14:07.764842Z",
     "iopub.status.busy": "2022-04-22T09:14:07.763915Z",
     "iopub.status.idle": "2022-04-22T09:14:07.768802Z",
     "shell.execute_reply": "2022-04-22T09:14:07.769251Z",
     "shell.execute_reply.started": "2022-02-09T16:35:22.563268Z"
    },
    "papermill": {
     "duration": 0.079193,
     "end_time": "2022-04-22T09:14:07.769431",
     "exception": false,
     "start_time": "2022-04-22T09:14:07.690238",
     "status": "completed"
    },
    "tags": []
   },
   "outputs": [
    {
     "data": {
      "text/plain": [
       "444"
      ]
     },
     "execution_count": 14,
     "metadata": {},
     "output_type": "execute_result"
    }
   ],
   "source": [
    "seri3[3]"
   ]
  },
  {
   "cell_type": "code",
   "execution_count": 15,
   "id": "7c851089",
   "metadata": {
    "execution": {
     "iopub.execute_input": "2022-04-22T09:14:07.919828Z",
     "iopub.status.busy": "2022-04-22T09:14:07.918953Z",
     "iopub.status.idle": "2022-04-22T09:14:07.924839Z",
     "shell.execute_reply": "2022-04-22T09:14:07.925284Z",
     "shell.execute_reply.started": "2022-02-09T16:35:35.664128Z"
    },
    "papermill": {
     "duration": 0.086093,
     "end_time": "2022-04-22T09:14:07.925472",
     "exception": false,
     "start_time": "2022-04-22T09:14:07.839379",
     "status": "completed"
    },
    "tags": []
   },
   "outputs": [
    {
     "data": {
      "text/plain": [
       "0     1\n",
       "1     2\n",
       "2    33\n",
       "dtype: int64"
      ]
     },
     "execution_count": 15,
     "metadata": {},
     "output_type": "execute_result"
    }
   ],
   "source": [
    "seri3[0:3]"
   ]
  },
  {
   "cell_type": "code",
   "execution_count": 16,
   "id": "b8637988",
   "metadata": {
    "execution": {
     "iopub.execute_input": "2022-04-22T09:14:08.075884Z",
     "iopub.status.busy": "2022-04-22T09:14:08.075258Z",
     "iopub.status.idle": "2022-04-22T09:14:08.080431Z",
     "shell.execute_reply": "2022-04-22T09:14:08.080835Z",
     "shell.execute_reply.started": "2022-02-09T16:36:05.839172Z"
    },
    "papermill": {
     "duration": 0.084058,
     "end_time": "2022-04-22T09:14:08.081009",
     "exception": false,
     "start_time": "2022-04-22T09:14:07.996951",
     "status": "completed"
    },
    "tags": []
   },
   "outputs": [
    {
     "data": {
      "text/plain": [
       "reg     121\n",
       "loj     200\n",
       "cart    150\n",
       "rf       99\n",
       "dtype: int64"
      ]
     },
     "execution_count": 16,
     "metadata": {},
     "output_type": "execute_result"
    }
   ],
   "source": [
    "seri4=pd.Series([121,200,150,99],index=[\"reg\",\"loj\",\"cart\",\"rf\"])\n",
    "seri4"
   ]
  },
  {
   "cell_type": "code",
   "execution_count": 17,
   "id": "f23771a0",
   "metadata": {
    "execution": {
     "iopub.execute_input": "2022-04-22T09:14:08.227048Z",
     "iopub.status.busy": "2022-04-22T09:14:08.226155Z",
     "iopub.status.idle": "2022-04-22T09:14:08.231174Z",
     "shell.execute_reply": "2022-04-22T09:14:08.231621Z",
     "shell.execute_reply.started": "2022-02-09T16:36:24.310647Z"
    },
    "papermill": {
     "duration": 0.079097,
     "end_time": "2022-04-22T09:14:08.231779",
     "exception": false,
     "start_time": "2022-04-22T09:14:08.152682",
     "status": "completed"
    },
    "tags": []
   },
   "outputs": [
    {
     "data": {
      "text/plain": [
       "<bound method Series.keys of reg     121\n",
       "loj     200\n",
       "cart    150\n",
       "rf       99\n",
       "dtype: int64>"
      ]
     },
     "execution_count": 17,
     "metadata": {},
     "output_type": "execute_result"
    }
   ],
   "source": [
    "seri4.keys"
   ]
  },
  {
   "cell_type": "code",
   "execution_count": 18,
   "id": "26e01405",
   "metadata": {
    "execution": {
     "iopub.execute_input": "2022-04-22T09:14:08.376827Z",
     "iopub.status.busy": "2022-04-22T09:14:08.375891Z",
     "iopub.status.idle": "2022-04-22T09:14:08.380747Z",
     "shell.execute_reply": "2022-04-22T09:14:08.381174Z",
     "shell.execute_reply.started": "2022-02-09T16:37:18.782558Z"
    },
    "papermill": {
     "duration": 0.079267,
     "end_time": "2022-04-22T09:14:08.381360",
     "exception": false,
     "start_time": "2022-04-22T09:14:08.302093",
     "status": "completed"
    },
    "tags": []
   },
   "outputs": [
    {
     "data": {
      "text/plain": [
       "[('reg', 121), ('loj', 200), ('cart', 150), ('rf', 99)]"
      ]
     },
     "execution_count": 18,
     "metadata": {},
     "output_type": "execute_result"
    }
   ],
   "source": [
    "list(seri4.items())\n",
    "# Her key i ve değerini listeler"
   ]
  },
  {
   "cell_type": "code",
   "execution_count": 19,
   "id": "d9f7a879",
   "metadata": {
    "execution": {
     "iopub.execute_input": "2022-04-22T09:14:08.528483Z",
     "iopub.status.busy": "2022-04-22T09:14:08.527660Z",
     "iopub.status.idle": "2022-04-22T09:14:08.530699Z",
     "shell.execute_reply": "2022-04-22T09:14:08.531171Z",
     "shell.execute_reply.started": "2022-02-09T16:37:56.080333Z"
    },
    "papermill": {
     "duration": 0.079496,
     "end_time": "2022-04-22T09:14:08.531354",
     "exception": false,
     "start_time": "2022-04-22T09:14:08.451858",
     "status": "completed"
    },
    "tags": []
   },
   "outputs": [
    {
     "data": {
      "text/plain": [
       "True"
      ]
     },
     "execution_count": 19,
     "metadata": {},
     "output_type": "execute_result"
    }
   ],
   "source": [
    "\"reg\" in seri4\n",
    "# reg seri4 de varsa TRUE\n",
    "# yoksa FALSE"
   ]
  },
  {
   "cell_type": "markdown",
   "id": "c311a161",
   "metadata": {
    "papermill": {
     "duration": 0.072697,
     "end_time": "2022-04-22T09:14:08.676411",
     "exception": false,
     "start_time": "2022-04-22T09:14:08.603714",
     "status": "completed"
    },
    "tags": []
   },
   "source": [
    "<a id=\"5\"></a>\n",
    "\n",
    "## FANCY"
   ]
  },
  {
   "cell_type": "code",
   "execution_count": 20,
   "id": "1c6249fd",
   "metadata": {
    "execution": {
     "iopub.execute_input": "2022-04-22T09:14:08.823061Z",
     "iopub.status.busy": "2022-04-22T09:14:08.822485Z",
     "iopub.status.idle": "2022-04-22T09:14:08.831208Z",
     "shell.execute_reply": "2022-04-22T09:14:08.831732Z",
     "shell.execute_reply.started": "2022-02-09T16:39:33.776154Z"
    },
    "papermill": {
     "duration": 0.083164,
     "end_time": "2022-04-22T09:14:08.831890",
     "exception": false,
     "start_time": "2022-04-22T09:14:08.748726",
     "status": "completed"
    },
    "tags": []
   },
   "outputs": [
    {
     "data": {
      "text/plain": [
       "rf      99\n",
       "reg    121\n",
       "dtype: int64"
      ]
     },
     "execution_count": 20,
     "metadata": {},
     "output_type": "execute_result"
    }
   ],
   "source": [
    "seri4[[\"rf\",\"reg\"]]"
   ]
  },
  {
   "cell_type": "code",
   "execution_count": 21,
   "id": "4a939952",
   "metadata": {
    "execution": {
     "iopub.execute_input": "2022-04-22T09:14:08.981899Z",
     "iopub.status.busy": "2022-04-22T09:14:08.980947Z",
     "iopub.status.idle": "2022-04-22T09:14:08.987790Z",
     "shell.execute_reply": "2022-04-22T09:14:08.987329Z",
     "shell.execute_reply.started": "2022-02-09T16:39:57.254843Z"
    },
    "papermill": {
     "duration": 0.084007,
     "end_time": "2022-04-22T09:14:08.987922",
     "exception": false,
     "start_time": "2022-04-22T09:14:08.903915",
     "status": "completed"
    },
    "tags": []
   },
   "outputs": [
    {
     "data": {
      "text/plain": [
       "reg      97\n",
       "loj     200\n",
       "cart    150\n",
       "rf       99\n",
       "dtype: int64"
      ]
     },
     "execution_count": 21,
     "metadata": {},
     "output_type": "execute_result"
    }
   ],
   "source": [
    "seri4[\"reg\"]=97\n",
    "# Değer değiştirdik\n",
    "seri4"
   ]
  },
  {
   "cell_type": "code",
   "execution_count": 22,
   "id": "ff7b63aa",
   "metadata": {
    "execution": {
     "iopub.execute_input": "2022-04-22T09:14:09.138599Z",
     "iopub.status.busy": "2022-04-22T09:14:09.137963Z",
     "iopub.status.idle": "2022-04-22T09:14:09.140261Z",
     "shell.execute_reply": "2022-04-22T09:14:09.140698Z",
     "shell.execute_reply.started": "2022-02-09T16:40:43.060542Z"
    },
    "papermill": {
     "duration": 0.080713,
     "end_time": "2022-04-22T09:14:09.140854",
     "exception": false,
     "start_time": "2022-04-22T09:14:09.060141",
     "status": "completed"
    },
    "tags": []
   },
   "outputs": [
    {
     "data": {
      "text/plain": [
       "loj     200\n",
       "cart    150\n",
       "rf       99\n",
       "dtype: int64"
      ]
     },
     "execution_count": 22,
     "metadata": {},
     "output_type": "execute_result"
    }
   ],
   "source": [
    "seri4[\"loj\":\"rf\"]"
   ]
  },
  {
   "cell_type": "markdown",
   "id": "787dabe6",
   "metadata": {
    "papermill": {
     "duration": 0.071424,
     "end_time": "2022-04-22T09:14:09.284670",
     "exception": false,
     "start_time": "2022-04-22T09:14:09.213246",
     "status": "completed"
    },
    "tags": []
   },
   "source": [
    "<a id=\"6\"></a>\n",
    "\n",
    "# PANDAS ile Data Frame"
   ]
  },
  {
   "cell_type": "markdown",
   "id": "82369c6c",
   "metadata": {
    "papermill": {
     "duration": 0.071437,
     "end_time": "2022-04-22T09:14:09.427784",
     "exception": false,
     "start_time": "2022-04-22T09:14:09.356347",
     "status": "completed"
    },
    "tags": []
   },
   "source": [
    "<a id=\"7\"></a>\n",
    "\n",
    "## List ile Data Frame Oluşturma"
   ]
  },
  {
   "cell_type": "code",
   "execution_count": 23,
   "id": "eff3dc47",
   "metadata": {
    "execution": {
     "iopub.execute_input": "2022-04-22T09:14:09.575877Z",
     "iopub.status.busy": "2022-04-22T09:14:09.574962Z",
     "iopub.status.idle": "2022-04-22T09:14:09.586871Z",
     "shell.execute_reply": "2022-04-22T09:14:09.587393Z",
     "shell.execute_reply.started": "2022-02-09T16:43:40.489425Z"
    },
    "papermill": {
     "duration": 0.088037,
     "end_time": "2022-04-22T09:14:09.587571",
     "exception": false,
     "start_time": "2022-04-22T09:14:09.499534",
     "status": "completed"
    },
    "tags": []
   },
   "outputs": [
    {
     "data": {
      "text/html": [
       "<div>\n",
       "<style scoped>\n",
       "    .dataframe tbody tr th:only-of-type {\n",
       "        vertical-align: middle;\n",
       "    }\n",
       "\n",
       "    .dataframe tbody tr th {\n",
       "        vertical-align: top;\n",
       "    }\n",
       "\n",
       "    .dataframe thead th {\n",
       "        text-align: right;\n",
       "    }\n",
       "</style>\n",
       "<table border=\"1\" class=\"dataframe\">\n",
       "  <thead>\n",
       "    <tr style=\"text-align: right;\">\n",
       "      <th></th>\n",
       "      <th>degisken_adi</th>\n",
       "    </tr>\n",
       "  </thead>\n",
       "  <tbody>\n",
       "    <tr>\n",
       "      <th>0</th>\n",
       "      <td>1</td>\n",
       "    </tr>\n",
       "    <tr>\n",
       "      <th>1</th>\n",
       "      <td>3</td>\n",
       "    </tr>\n",
       "    <tr>\n",
       "      <th>2</th>\n",
       "      <td>2</td>\n",
       "    </tr>\n",
       "    <tr>\n",
       "      <th>3</th>\n",
       "      <td>7</td>\n",
       "    </tr>\n",
       "    <tr>\n",
       "      <th>4</th>\n",
       "      <td>8</td>\n",
       "    </tr>\n",
       "    <tr>\n",
       "      <th>5</th>\n",
       "      <td>12</td>\n",
       "    </tr>\n",
       "  </tbody>\n",
       "</table>\n",
       "</div>"
      ],
      "text/plain": [
       "   degisken_adi\n",
       "0             1\n",
       "1             3\n",
       "2             2\n",
       "3             7\n",
       "4             8\n",
       "5            12"
      ]
     },
     "execution_count": 23,
     "metadata": {},
     "output_type": "execute_result"
    }
   ],
   "source": [
    "l=([1,3,2,7,8,12])\n",
    "pd.DataFrame(l,columns=[\"degisken_adi\"])"
   ]
  },
  {
   "cell_type": "markdown",
   "id": "9595b0bd",
   "metadata": {
    "papermill": {
     "duration": 0.074294,
     "end_time": "2022-04-22T09:14:09.735826",
     "exception": false,
     "start_time": "2022-04-22T09:14:09.661532",
     "status": "completed"
    },
    "tags": []
   },
   "source": [
    "<a id=\"8\"></a>\n",
    "\n",
    "## NumPy Array ile Data Frame Oluşturma"
   ]
  },
  {
   "cell_type": "code",
   "execution_count": 24,
   "id": "5fb5a969",
   "metadata": {
    "execution": {
     "iopub.execute_input": "2022-04-22T09:14:09.885635Z",
     "iopub.status.busy": "2022-04-22T09:14:09.884745Z",
     "iopub.status.idle": "2022-04-22T09:14:09.893428Z",
     "shell.execute_reply": "2022-04-22T09:14:09.893846Z",
     "shell.execute_reply.started": "2022-02-09T16:47:28.175489Z"
    },
    "papermill": {
     "duration": 0.084394,
     "end_time": "2022-04-22T09:14:09.894012",
     "exception": false,
     "start_time": "2022-04-22T09:14:09.809618",
     "status": "completed"
    },
    "tags": []
   },
   "outputs": [
    {
     "data": {
      "text/html": [
       "<div>\n",
       "<style scoped>\n",
       "    .dataframe tbody tr th:only-of-type {\n",
       "        vertical-align: middle;\n",
       "    }\n",
       "\n",
       "    .dataframe tbody tr th {\n",
       "        vertical-align: top;\n",
       "    }\n",
       "\n",
       "    .dataframe thead th {\n",
       "        text-align: right;\n",
       "    }\n",
       "</style>\n",
       "<table border=\"1\" class=\"dataframe\">\n",
       "  <thead>\n",
       "    <tr style=\"text-align: right;\">\n",
       "      <th></th>\n",
       "      <th>birinci</th>\n",
       "      <th>ikinci</th>\n",
       "      <th>ücüncü</th>\n",
       "    </tr>\n",
       "  </thead>\n",
       "  <tbody>\n",
       "    <tr>\n",
       "      <th>0</th>\n",
       "      <td>1</td>\n",
       "      <td>2</td>\n",
       "      <td>3</td>\n",
       "    </tr>\n",
       "    <tr>\n",
       "      <th>1</th>\n",
       "      <td>4</td>\n",
       "      <td>5</td>\n",
       "      <td>6</td>\n",
       "    </tr>\n",
       "    <tr>\n",
       "      <th>2</th>\n",
       "      <td>7</td>\n",
       "      <td>8</td>\n",
       "      <td>9</td>\n",
       "    </tr>\n",
       "  </tbody>\n",
       "</table>\n",
       "</div>"
      ],
      "text/plain": [
       "   birinci  ikinci  ücüncü\n",
       "0        1       2       3\n",
       "1        4       5       6\n",
       "2        7       8       9"
      ]
     },
     "execution_count": 24,
     "metadata": {},
     "output_type": "execute_result"
    }
   ],
   "source": [
    "m=np.arange(1,10).reshape((3,3))\n",
    "pd.DataFrame(m,columns=[\"birinci\",\"ikinci\",\"ücüncü\"])"
   ]
  },
  {
   "cell_type": "markdown",
   "id": "0b8ee898",
   "metadata": {
    "papermill": {
     "duration": 0.076314,
     "end_time": "2022-04-22T09:14:10.044772",
     "exception": false,
     "start_time": "2022-04-22T09:14:09.968458",
     "status": "completed"
    },
    "tags": []
   },
   "source": [
    "### Data Frame İsimlendirme"
   ]
  },
  {
   "cell_type": "code",
   "execution_count": 25,
   "id": "a73e6412",
   "metadata": {
    "execution": {
     "iopub.execute_input": "2022-04-22T09:14:10.196154Z",
     "iopub.status.busy": "2022-04-22T09:14:10.195251Z",
     "iopub.status.idle": "2022-04-22T09:14:10.203400Z",
     "shell.execute_reply": "2022-04-22T09:14:10.203821Z",
     "shell.execute_reply.started": "2022-02-09T16:50:29.269902Z"
    },
    "papermill": {
     "duration": 0.085756,
     "end_time": "2022-04-22T09:14:10.203996",
     "exception": false,
     "start_time": "2022-04-22T09:14:10.118240",
     "status": "completed"
    },
    "tags": []
   },
   "outputs": [
    {
     "data": {
      "text/html": [
       "<div>\n",
       "<style scoped>\n",
       "    .dataframe tbody tr th:only-of-type {\n",
       "        vertical-align: middle;\n",
       "    }\n",
       "\n",
       "    .dataframe tbody tr th {\n",
       "        vertical-align: top;\n",
       "    }\n",
       "\n",
       "    .dataframe thead th {\n",
       "        text-align: right;\n",
       "    }\n",
       "</style>\n",
       "<table border=\"1\" class=\"dataframe\">\n",
       "  <thead>\n",
       "    <tr style=\"text-align: right;\">\n",
       "      <th></th>\n",
       "      <th>birinci</th>\n",
       "      <th>ikinci</th>\n",
       "      <th>ücüncü</th>\n",
       "    </tr>\n",
       "  </thead>\n",
       "  <tbody>\n",
       "    <tr>\n",
       "      <th>0</th>\n",
       "      <td>1</td>\n",
       "      <td>2</td>\n",
       "      <td>3</td>\n",
       "    </tr>\n",
       "    <tr>\n",
       "      <th>1</th>\n",
       "      <td>4</td>\n",
       "      <td>5</td>\n",
       "      <td>6</td>\n",
       "    </tr>\n",
       "    <tr>\n",
       "      <th>2</th>\n",
       "      <td>7</td>\n",
       "      <td>8</td>\n",
       "      <td>9</td>\n",
       "    </tr>\n",
       "  </tbody>\n",
       "</table>\n",
       "</div>"
      ],
      "text/plain": [
       "   birinci  ikinci  ücüncü\n",
       "0        1       2       3\n",
       "1        4       5       6\n",
       "2        7       8       9"
      ]
     },
     "execution_count": 25,
     "metadata": {},
     "output_type": "execute_result"
    }
   ],
   "source": [
    "df=pd.DataFrame(m,columns=[\"birinci\",\"ikinci\",\"ücüncü\"])\n",
    "df"
   ]
  },
  {
   "cell_type": "code",
   "execution_count": 26,
   "id": "52e67e24",
   "metadata": {
    "execution": {
     "iopub.execute_input": "2022-04-22T09:14:10.353900Z",
     "iopub.status.busy": "2022-04-22T09:14:10.352988Z",
     "iopub.status.idle": "2022-04-22T09:14:10.363673Z",
     "shell.execute_reply": "2022-04-22T09:14:10.364082Z",
     "shell.execute_reply.started": "2022-02-09T16:50:53.014881Z"
    },
    "papermill": {
     "duration": 0.087107,
     "end_time": "2022-04-22T09:14:10.364254",
     "exception": false,
     "start_time": "2022-04-22T09:14:10.277147",
     "status": "completed"
    },
    "tags": []
   },
   "outputs": [
    {
     "data": {
      "text/html": [
       "<div>\n",
       "<style scoped>\n",
       "    .dataframe tbody tr th:only-of-type {\n",
       "        vertical-align: middle;\n",
       "    }\n",
       "\n",
       "    .dataframe tbody tr th {\n",
       "        vertical-align: top;\n",
       "    }\n",
       "\n",
       "    .dataframe thead th {\n",
       "        text-align: right;\n",
       "    }\n",
       "</style>\n",
       "<table border=\"1\" class=\"dataframe\">\n",
       "  <thead>\n",
       "    <tr style=\"text-align: right;\">\n",
       "      <th></th>\n",
       "      <th>h</th>\n",
       "      <th>m</th>\n",
       "      <th>y</th>\n",
       "    </tr>\n",
       "  </thead>\n",
       "  <tbody>\n",
       "    <tr>\n",
       "      <th>0</th>\n",
       "      <td>1</td>\n",
       "      <td>2</td>\n",
       "      <td>3</td>\n",
       "    </tr>\n",
       "    <tr>\n",
       "      <th>1</th>\n",
       "      <td>4</td>\n",
       "      <td>5</td>\n",
       "      <td>6</td>\n",
       "    </tr>\n",
       "    <tr>\n",
       "      <th>2</th>\n",
       "      <td>7</td>\n",
       "      <td>8</td>\n",
       "      <td>9</td>\n",
       "    </tr>\n",
       "  </tbody>\n",
       "</table>\n",
       "</div>"
      ],
      "text/plain": [
       "   h  m  y\n",
       "0  1  2  3\n",
       "1  4  5  6\n",
       "2  7  8  9"
      ]
     },
     "execution_count": 26,
     "metadata": {},
     "output_type": "execute_result"
    }
   ],
   "source": [
    "df.columns=[\"h\",\"m\",\"y\"]\n",
    "df"
   ]
  },
  {
   "cell_type": "markdown",
   "id": "d4db6e01",
   "metadata": {
    "papermill": {
     "duration": 0.072762,
     "end_time": "2022-04-22T09:14:10.511169",
     "exception": false,
     "start_time": "2022-04-22T09:14:10.438407",
     "status": "completed"
    },
    "tags": []
   },
   "source": [
    "<a id=\"9\"></a>\n",
    "# Data Frame Eleman İşlemleri"
   ]
  },
  {
   "cell_type": "code",
   "execution_count": 27,
   "id": "a37eb8b7",
   "metadata": {
    "execution": {
     "iopub.execute_input": "2022-04-22T09:14:10.660646Z",
     "iopub.status.busy": "2022-04-22T09:14:10.659637Z",
     "iopub.status.idle": "2022-04-22T09:14:10.666365Z",
     "shell.execute_reply": "2022-04-22T09:14:10.666765Z",
     "shell.execute_reply.started": "2022-02-10T12:47:12.507864Z"
    },
    "papermill": {
     "duration": 0.0829,
     "end_time": "2022-04-22T09:14:10.666931",
     "exception": false,
     "start_time": "2022-04-22T09:14:10.584031",
     "status": "completed"
    },
    "tags": []
   },
   "outputs": [
    {
     "data": {
      "text/plain": [
       "{'var1': array([8, 4, 9, 8, 6]),\n",
       " 'var2': array([5, 1, 5, 2, 1]),\n",
       " 'var3': array([5, 4, 4, 4, 8])}"
      ]
     },
     "execution_count": 27,
     "metadata": {},
     "output_type": "execute_result"
    }
   ],
   "source": [
    "s1=np.random.randint(10,size=5)\n",
    "s2=np.random.randint(10,size=5)\n",
    "s3=np.random.randint(10,size=5)\n",
    "\n",
    "sozluk={\"var1\":s1,\"var2\":s2,\"var3\":s3}\n",
    "sozluk"
   ]
  },
  {
   "cell_type": "code",
   "execution_count": 28,
   "id": "5e489ba2",
   "metadata": {
    "execution": {
     "iopub.execute_input": "2022-04-22T09:14:10.817899Z",
     "iopub.status.busy": "2022-04-22T09:14:10.817027Z",
     "iopub.status.idle": "2022-04-22T09:14:10.825023Z",
     "shell.execute_reply": "2022-04-22T09:14:10.825422Z",
     "shell.execute_reply.started": "2022-02-10T13:08:33.01157Z"
    },
    "papermill": {
     "duration": 0.084509,
     "end_time": "2022-04-22T09:14:10.825594",
     "exception": false,
     "start_time": "2022-04-22T09:14:10.741085",
     "status": "completed"
    },
    "tags": []
   },
   "outputs": [
    {
     "data": {
      "text/html": [
       "<div>\n",
       "<style scoped>\n",
       "    .dataframe tbody tr th:only-of-type {\n",
       "        vertical-align: middle;\n",
       "    }\n",
       "\n",
       "    .dataframe tbody tr th {\n",
       "        vertical-align: top;\n",
       "    }\n",
       "\n",
       "    .dataframe thead th {\n",
       "        text-align: right;\n",
       "    }\n",
       "</style>\n",
       "<table border=\"1\" class=\"dataframe\">\n",
       "  <thead>\n",
       "    <tr style=\"text-align: right;\">\n",
       "      <th></th>\n",
       "      <th>var1</th>\n",
       "      <th>var2</th>\n",
       "      <th>var3</th>\n",
       "    </tr>\n",
       "  </thead>\n",
       "  <tbody>\n",
       "    <tr>\n",
       "      <th>0</th>\n",
       "      <td>8</td>\n",
       "      <td>5</td>\n",
       "      <td>5</td>\n",
       "    </tr>\n",
       "    <tr>\n",
       "      <th>1</th>\n",
       "      <td>4</td>\n",
       "      <td>1</td>\n",
       "      <td>4</td>\n",
       "    </tr>\n",
       "    <tr>\n",
       "      <th>2</th>\n",
       "      <td>9</td>\n",
       "      <td>5</td>\n",
       "      <td>4</td>\n",
       "    </tr>\n",
       "    <tr>\n",
       "      <th>3</th>\n",
       "      <td>8</td>\n",
       "      <td>2</td>\n",
       "      <td>4</td>\n",
       "    </tr>\n",
       "    <tr>\n",
       "      <th>4</th>\n",
       "      <td>6</td>\n",
       "      <td>1</td>\n",
       "      <td>8</td>\n",
       "    </tr>\n",
       "  </tbody>\n",
       "</table>\n",
       "</div>"
      ],
      "text/plain": [
       "   var1  var2  var3\n",
       "0     8     5     5\n",
       "1     4     1     4\n",
       "2     9     5     4\n",
       "3     8     2     4\n",
       "4     6     1     8"
      ]
     },
     "execution_count": 28,
     "metadata": {},
     "output_type": "execute_result"
    }
   ],
   "source": [
    "df2=pd.DataFrame(sozluk)\n",
    "df2"
   ]
  },
  {
   "cell_type": "markdown",
   "id": "77ed41b9",
   "metadata": {
    "papermill": {
     "duration": 0.076723,
     "end_time": "2022-04-22T09:14:10.976070",
     "exception": false,
     "start_time": "2022-04-22T09:14:10.899347",
     "status": "completed"
    },
    "tags": []
   },
   "source": [
    "<a id=\"10\"></a>\n",
    "\n",
    "# Index ile Seçim İşlemi"
   ]
  },
  {
   "cell_type": "code",
   "execution_count": 29,
   "id": "fc08696d",
   "metadata": {
    "execution": {
     "iopub.execute_input": "2022-04-22T09:14:11.129563Z",
     "iopub.status.busy": "2022-04-22T09:14:11.128682Z",
     "iopub.status.idle": "2022-04-22T09:14:11.136158Z",
     "shell.execute_reply": "2022-04-22T09:14:11.136603Z",
     "shell.execute_reply.started": "2022-02-10T12:49:31.929527Z"
    },
    "papermill": {
     "duration": 0.085784,
     "end_time": "2022-04-22T09:14:11.136768",
     "exception": false,
     "start_time": "2022-04-22T09:14:11.050984",
     "status": "completed"
    },
    "tags": []
   },
   "outputs": [
    {
     "data": {
      "text/html": [
       "<div>\n",
       "<style scoped>\n",
       "    .dataframe tbody tr th:only-of-type {\n",
       "        vertical-align: middle;\n",
       "    }\n",
       "\n",
       "    .dataframe tbody tr th {\n",
       "        vertical-align: top;\n",
       "    }\n",
       "\n",
       "    .dataframe thead th {\n",
       "        text-align: right;\n",
       "    }\n",
       "</style>\n",
       "<table border=\"1\" class=\"dataframe\">\n",
       "  <thead>\n",
       "    <tr style=\"text-align: right;\">\n",
       "      <th></th>\n",
       "      <th>var1</th>\n",
       "      <th>var2</th>\n",
       "      <th>var3</th>\n",
       "    </tr>\n",
       "  </thead>\n",
       "  <tbody>\n",
       "    <tr>\n",
       "      <th>0</th>\n",
       "      <td>8</td>\n",
       "      <td>5</td>\n",
       "      <td>5</td>\n",
       "    </tr>\n",
       "    <tr>\n",
       "      <th>1</th>\n",
       "      <td>4</td>\n",
       "      <td>1</td>\n",
       "      <td>4</td>\n",
       "    </tr>\n",
       "    <tr>\n",
       "      <th>2</th>\n",
       "      <td>9</td>\n",
       "      <td>5</td>\n",
       "      <td>4</td>\n",
       "    </tr>\n",
       "  </tbody>\n",
       "</table>\n",
       "</div>"
      ],
      "text/plain": [
       "   var1  var2  var3\n",
       "0     8     5     5\n",
       "1     4     1     4\n",
       "2     9     5     4"
      ]
     },
     "execution_count": 29,
     "metadata": {},
     "output_type": "execute_result"
    }
   ],
   "source": [
    "df2[0:3]"
   ]
  },
  {
   "cell_type": "code",
   "execution_count": 30,
   "id": "88738f85",
   "metadata": {
    "execution": {
     "iopub.execute_input": "2022-04-22T09:14:11.294624Z",
     "iopub.status.busy": "2022-04-22T09:14:11.293795Z",
     "iopub.status.idle": "2022-04-22T09:14:11.297783Z",
     "shell.execute_reply": "2022-04-22T09:14:11.297131Z",
     "shell.execute_reply.started": "2022-02-10T13:08:36.731459Z"
    },
    "papermill": {
     "duration": 0.08615,
     "end_time": "2022-04-22T09:14:11.297926",
     "exception": false,
     "start_time": "2022-04-22T09:14:11.211776",
     "status": "completed"
    },
    "tags": []
   },
   "outputs": [
    {
     "data": {
      "text/html": [
       "<div>\n",
       "<style scoped>\n",
       "    .dataframe tbody tr th:only-of-type {\n",
       "        vertical-align: middle;\n",
       "    }\n",
       "\n",
       "    .dataframe tbody tr th {\n",
       "        vertical-align: top;\n",
       "    }\n",
       "\n",
       "    .dataframe thead th {\n",
       "        text-align: right;\n",
       "    }\n",
       "</style>\n",
       "<table border=\"1\" class=\"dataframe\">\n",
       "  <thead>\n",
       "    <tr style=\"text-align: right;\">\n",
       "      <th></th>\n",
       "      <th>var1</th>\n",
       "      <th>var2</th>\n",
       "      <th>var3</th>\n",
       "    </tr>\n",
       "  </thead>\n",
       "  <tbody>\n",
       "    <tr>\n",
       "      <th>a</th>\n",
       "      <td>8</td>\n",
       "      <td>5</td>\n",
       "      <td>5</td>\n",
       "    </tr>\n",
       "    <tr>\n",
       "      <th>b</th>\n",
       "      <td>4</td>\n",
       "      <td>1</td>\n",
       "      <td>4</td>\n",
       "    </tr>\n",
       "    <tr>\n",
       "      <th>c</th>\n",
       "      <td>9</td>\n",
       "      <td>5</td>\n",
       "      <td>4</td>\n",
       "    </tr>\n",
       "    <tr>\n",
       "      <th>d</th>\n",
       "      <td>8</td>\n",
       "      <td>2</td>\n",
       "      <td>4</td>\n",
       "    </tr>\n",
       "    <tr>\n",
       "      <th>e</th>\n",
       "      <td>6</td>\n",
       "      <td>1</td>\n",
       "      <td>8</td>\n",
       "    </tr>\n",
       "  </tbody>\n",
       "</table>\n",
       "</div>"
      ],
      "text/plain": [
       "   var1  var2  var3\n",
       "a     8     5     5\n",
       "b     4     1     4\n",
       "c     9     5     4\n",
       "d     8     2     4\n",
       "e     6     1     8"
      ]
     },
     "execution_count": 30,
     "metadata": {},
     "output_type": "execute_result"
    }
   ],
   "source": [
    "df2.index=[\"a\",\"b\",\"c\",\"d\",\"e\"]\n",
    "# index isimlerini değiştirdik\n",
    "df2"
   ]
  },
  {
   "cell_type": "code",
   "execution_count": 31,
   "id": "1181b46b",
   "metadata": {
    "execution": {
     "iopub.execute_input": "2022-04-22T09:14:11.457670Z",
     "iopub.status.busy": "2022-04-22T09:14:11.457025Z",
     "iopub.status.idle": "2022-04-22T09:14:11.459398Z",
     "shell.execute_reply": "2022-04-22T09:14:11.459832Z",
     "shell.execute_reply.started": "2022-02-10T12:51:11.834498Z"
    },
    "papermill": {
     "duration": 0.085562,
     "end_time": "2022-04-22T09:14:11.460004",
     "exception": false,
     "start_time": "2022-04-22T09:14:11.374442",
     "status": "completed"
    },
    "tags": []
   },
   "outputs": [
    {
     "data": {
      "text/html": [
       "<div>\n",
       "<style scoped>\n",
       "    .dataframe tbody tr th:only-of-type {\n",
       "        vertical-align: middle;\n",
       "    }\n",
       "\n",
       "    .dataframe tbody tr th {\n",
       "        vertical-align: top;\n",
       "    }\n",
       "\n",
       "    .dataframe thead th {\n",
       "        text-align: right;\n",
       "    }\n",
       "</style>\n",
       "<table border=\"1\" class=\"dataframe\">\n",
       "  <thead>\n",
       "    <tr style=\"text-align: right;\">\n",
       "      <th></th>\n",
       "      <th>var1</th>\n",
       "      <th>var2</th>\n",
       "      <th>var3</th>\n",
       "    </tr>\n",
       "  </thead>\n",
       "  <tbody>\n",
       "    <tr>\n",
       "      <th>b</th>\n",
       "      <td>4</td>\n",
       "      <td>1</td>\n",
       "      <td>4</td>\n",
       "    </tr>\n",
       "    <tr>\n",
       "      <th>c</th>\n",
       "      <td>9</td>\n",
       "      <td>5</td>\n",
       "      <td>4</td>\n",
       "    </tr>\n",
       "    <tr>\n",
       "      <th>d</th>\n",
       "      <td>8</td>\n",
       "      <td>2</td>\n",
       "      <td>4</td>\n",
       "    </tr>\n",
       "  </tbody>\n",
       "</table>\n",
       "</div>"
      ],
      "text/plain": [
       "   var1  var2  var3\n",
       "b     4     1     4\n",
       "c     9     5     4\n",
       "d     8     2     4"
      ]
     },
     "execution_count": 31,
     "metadata": {},
     "output_type": "execute_result"
    }
   ],
   "source": [
    "df2[\"b\":\"d\"]"
   ]
  },
  {
   "cell_type": "markdown",
   "id": "45544bd4",
   "metadata": {
    "papermill": {
     "duration": 0.073889,
     "end_time": "2022-04-22T09:14:11.608471",
     "exception": false,
     "start_time": "2022-04-22T09:14:11.534582",
     "status": "completed"
    },
    "tags": []
   },
   "source": [
    "<a id=\"11\"></a>\n",
    "\n",
    "# DROP (Silme)"
   ]
  },
  {
   "cell_type": "markdown",
   "id": "5c4eab9b",
   "metadata": {
    "papermill": {
     "duration": 0.076188,
     "end_time": "2022-04-22T09:14:11.759068",
     "exception": false,
     "start_time": "2022-04-22T09:14:11.682880",
     "status": "completed"
    },
    "tags": []
   },
   "source": [
    "##### drop() fonksiyonu kalıcı olarak silme işlemi geçekleştirmez. Kalıcı olması için yeniden atama yapmamız gerekir."
   ]
  },
  {
   "cell_type": "code",
   "execution_count": 32,
   "id": "bf4a1a76",
   "metadata": {
    "execution": {
     "iopub.execute_input": "2022-04-22T09:14:11.911617Z",
     "iopub.status.busy": "2022-04-22T09:14:11.911016Z",
     "iopub.status.idle": "2022-04-22T09:14:11.919190Z",
     "shell.execute_reply": "2022-04-22T09:14:11.919729Z",
     "shell.execute_reply.started": "2022-02-10T13:04:42.88073Z"
    },
    "papermill": {
     "duration": 0.085906,
     "end_time": "2022-04-22T09:14:11.919905",
     "exception": false,
     "start_time": "2022-04-22T09:14:11.833999",
     "status": "completed"
    },
    "tags": []
   },
   "outputs": [
    {
     "data": {
      "text/html": [
       "<div>\n",
       "<style scoped>\n",
       "    .dataframe tbody tr th:only-of-type {\n",
       "        vertical-align: middle;\n",
       "    }\n",
       "\n",
       "    .dataframe tbody tr th {\n",
       "        vertical-align: top;\n",
       "    }\n",
       "\n",
       "    .dataframe thead th {\n",
       "        text-align: right;\n",
       "    }\n",
       "</style>\n",
       "<table border=\"1\" class=\"dataframe\">\n",
       "  <thead>\n",
       "    <tr style=\"text-align: right;\">\n",
       "      <th></th>\n",
       "      <th>var1</th>\n",
       "      <th>var2</th>\n",
       "      <th>var3</th>\n",
       "    </tr>\n",
       "  </thead>\n",
       "  <tbody>\n",
       "    <tr>\n",
       "      <th>b</th>\n",
       "      <td>4</td>\n",
       "      <td>1</td>\n",
       "      <td>4</td>\n",
       "    </tr>\n",
       "    <tr>\n",
       "      <th>c</th>\n",
       "      <td>9</td>\n",
       "      <td>5</td>\n",
       "      <td>4</td>\n",
       "    </tr>\n",
       "    <tr>\n",
       "      <th>d</th>\n",
       "      <td>8</td>\n",
       "      <td>2</td>\n",
       "      <td>4</td>\n",
       "    </tr>\n",
       "    <tr>\n",
       "      <th>e</th>\n",
       "      <td>6</td>\n",
       "      <td>1</td>\n",
       "      <td>8</td>\n",
       "    </tr>\n",
       "  </tbody>\n",
       "</table>\n",
       "</div>"
      ],
      "text/plain": [
       "   var1  var2  var3\n",
       "b     4     1     4\n",
       "c     9     5     4\n",
       "d     8     2     4\n",
       "e     6     1     8"
      ]
     },
     "execution_count": 32,
     "metadata": {},
     "output_type": "execute_result"
    }
   ],
   "source": [
    "df2.drop(\"a\",axis=0)\n",
    "# AXIS=0 -> Satır"
   ]
  },
  {
   "cell_type": "markdown",
   "id": "4632e74b",
   "metadata": {
    "papermill": {
     "duration": 0.075594,
     "end_time": "2022-04-22T09:14:12.070815",
     "exception": false,
     "start_time": "2022-04-22T09:14:11.995221",
     "status": "completed"
    },
    "tags": []
   },
   "source": [
    "#### Yada yeniden atama yapmadan drop() fonksiyonu içindeki inplace argümanını True yapabiliriz. "
   ]
  },
  {
   "cell_type": "code",
   "execution_count": 33,
   "id": "6874753c",
   "metadata": {
    "execution": {
     "iopub.execute_input": "2022-04-22T09:14:12.226276Z",
     "iopub.status.busy": "2022-04-22T09:14:12.225678Z",
     "iopub.status.idle": "2022-04-22T09:14:12.229601Z",
     "shell.execute_reply": "2022-04-22T09:14:12.230136Z",
     "shell.execute_reply.started": "2022-02-10T13:08:40.911958Z"
    },
    "papermill": {
     "duration": 0.082541,
     "end_time": "2022-04-22T09:14:12.230323",
     "exception": false,
     "start_time": "2022-04-22T09:14:12.147782",
     "status": "completed"
    },
    "tags": []
   },
   "outputs": [],
   "source": [
    "df2.drop(\"b\",axis=0,inplace=True)\n"
   ]
  },
  {
   "cell_type": "code",
   "execution_count": 34,
   "id": "48cd1316",
   "metadata": {
    "execution": {
     "iopub.execute_input": "2022-04-22T09:14:12.383669Z",
     "iopub.status.busy": "2022-04-22T09:14:12.383078Z",
     "iopub.status.idle": "2022-04-22T09:14:12.391397Z",
     "shell.execute_reply": "2022-04-22T09:14:12.390935Z",
     "shell.execute_reply.started": "2022-02-10T13:08:43.317064Z"
    },
    "papermill": {
     "duration": 0.085748,
     "end_time": "2022-04-22T09:14:12.391533",
     "exception": false,
     "start_time": "2022-04-22T09:14:12.305785",
     "status": "completed"
    },
    "tags": []
   },
   "outputs": [
    {
     "data": {
      "text/html": [
       "<div>\n",
       "<style scoped>\n",
       "    .dataframe tbody tr th:only-of-type {\n",
       "        vertical-align: middle;\n",
       "    }\n",
       "\n",
       "    .dataframe tbody tr th {\n",
       "        vertical-align: top;\n",
       "    }\n",
       "\n",
       "    .dataframe thead th {\n",
       "        text-align: right;\n",
       "    }\n",
       "</style>\n",
       "<table border=\"1\" class=\"dataframe\">\n",
       "  <thead>\n",
       "    <tr style=\"text-align: right;\">\n",
       "      <th></th>\n",
       "      <th>var1</th>\n",
       "      <th>var2</th>\n",
       "      <th>var3</th>\n",
       "    </tr>\n",
       "  </thead>\n",
       "  <tbody>\n",
       "    <tr>\n",
       "      <th>a</th>\n",
       "      <td>8</td>\n",
       "      <td>5</td>\n",
       "      <td>5</td>\n",
       "    </tr>\n",
       "    <tr>\n",
       "      <th>c</th>\n",
       "      <td>9</td>\n",
       "      <td>5</td>\n",
       "      <td>4</td>\n",
       "    </tr>\n",
       "    <tr>\n",
       "      <th>d</th>\n",
       "      <td>8</td>\n",
       "      <td>2</td>\n",
       "      <td>4</td>\n",
       "    </tr>\n",
       "    <tr>\n",
       "      <th>e</th>\n",
       "      <td>6</td>\n",
       "      <td>1</td>\n",
       "      <td>8</td>\n",
       "    </tr>\n",
       "  </tbody>\n",
       "</table>\n",
       "</div>"
      ],
      "text/plain": [
       "   var1  var2  var3\n",
       "a     8     5     5\n",
       "c     9     5     4\n",
       "d     8     2     4\n",
       "e     6     1     8"
      ]
     },
     "execution_count": 34,
     "metadata": {},
     "output_type": "execute_result"
    }
   ],
   "source": [
    "df2 # \"b\" indexi kalıcı olarak silindi."
   ]
  },
  {
   "cell_type": "markdown",
   "id": "07a584a2",
   "metadata": {
    "papermill": {
     "duration": 0.075425,
     "end_time": "2022-04-22T09:14:12.543028",
     "exception": false,
     "start_time": "2022-04-22T09:14:12.467603",
     "status": "completed"
    },
    "tags": []
   },
   "source": [
    "<a id=\"12\"></a>\n",
    "\n",
    "# FANCY ile Toplu Silme"
   ]
  },
  {
   "cell_type": "code",
   "execution_count": 35,
   "id": "1acc03c3",
   "metadata": {
    "execution": {
     "iopub.execute_input": "2022-04-22T09:14:12.697068Z",
     "iopub.status.busy": "2022-04-22T09:14:12.696493Z",
     "iopub.status.idle": "2022-04-22T09:14:12.699132Z",
     "shell.execute_reply": "2022-04-22T09:14:12.699601Z",
     "shell.execute_reply.started": "2022-02-10T13:13:22.94575Z"
    },
    "papermill": {
     "duration": 0.081485,
     "end_time": "2022-04-22T09:14:12.699756",
     "exception": false,
     "start_time": "2022-04-22T09:14:12.618271",
     "status": "completed"
    },
    "tags": []
   },
   "outputs": [],
   "source": [
    "l=[\"c\",\"e\"]"
   ]
  },
  {
   "cell_type": "code",
   "execution_count": 36,
   "id": "f2f9dee9",
   "metadata": {
    "execution": {
     "iopub.execute_input": "2022-04-22T09:14:12.865202Z",
     "iopub.status.busy": "2022-04-22T09:14:12.864590Z",
     "iopub.status.idle": "2022-04-22T09:14:12.866993Z",
     "shell.execute_reply": "2022-04-22T09:14:12.867423Z",
     "shell.execute_reply.started": "2022-02-10T13:13:40.442295Z"
    },
    "papermill": {
     "duration": 0.089977,
     "end_time": "2022-04-22T09:14:12.867592",
     "exception": false,
     "start_time": "2022-04-22T09:14:12.777615",
     "status": "completed"
    },
    "tags": []
   },
   "outputs": [
    {
     "data": {
      "text/html": [
       "<div>\n",
       "<style scoped>\n",
       "    .dataframe tbody tr th:only-of-type {\n",
       "        vertical-align: middle;\n",
       "    }\n",
       "\n",
       "    .dataframe tbody tr th {\n",
       "        vertical-align: top;\n",
       "    }\n",
       "\n",
       "    .dataframe thead th {\n",
       "        text-align: right;\n",
       "    }\n",
       "</style>\n",
       "<table border=\"1\" class=\"dataframe\">\n",
       "  <thead>\n",
       "    <tr style=\"text-align: right;\">\n",
       "      <th></th>\n",
       "      <th>var1</th>\n",
       "      <th>var2</th>\n",
       "      <th>var3</th>\n",
       "    </tr>\n",
       "  </thead>\n",
       "  <tbody>\n",
       "    <tr>\n",
       "      <th>a</th>\n",
       "      <td>8</td>\n",
       "      <td>5</td>\n",
       "      <td>5</td>\n",
       "    </tr>\n",
       "    <tr>\n",
       "      <th>d</th>\n",
       "      <td>8</td>\n",
       "      <td>2</td>\n",
       "      <td>4</td>\n",
       "    </tr>\n",
       "  </tbody>\n",
       "</table>\n",
       "</div>"
      ],
      "text/plain": [
       "   var1  var2  var3\n",
       "a     8     5     5\n",
       "d     8     2     4"
      ]
     },
     "execution_count": 36,
     "metadata": {},
     "output_type": "execute_result"
    }
   ],
   "source": [
    "df2.drop(l,axis=0)"
   ]
  },
  {
   "cell_type": "markdown",
   "id": "f536151e",
   "metadata": {
    "papermill": {
     "duration": 0.076436,
     "end_time": "2022-04-22T09:14:13.020382",
     "exception": false,
     "start_time": "2022-04-22T09:14:12.943946",
     "status": "completed"
    },
    "tags": []
   },
   "source": [
    "<a id=\"13\"></a>\n",
    "# KOŞULLU İŞLEMLER"
   ]
  },
  {
   "cell_type": "code",
   "execution_count": 37,
   "id": "f1696c6b",
   "metadata": {
    "execution": {
     "iopub.execute_input": "2022-04-22T09:14:13.178523Z",
     "iopub.status.busy": "2022-04-22T09:14:13.177604Z",
     "iopub.status.idle": "2022-04-22T09:14:13.182516Z",
     "shell.execute_reply": "2022-04-22T09:14:13.182989Z",
     "shell.execute_reply.started": "2022-02-10T13:34:32.438514Z"
    },
    "papermill": {
     "duration": 0.085412,
     "end_time": "2022-04-22T09:14:13.183144",
     "exception": false,
     "start_time": "2022-04-22T09:14:13.097732",
     "status": "completed"
    },
    "tags": []
   },
   "outputs": [
    {
     "data": {
      "text/plain": [
       "True"
      ]
     },
     "execution_count": 37,
     "metadata": {},
     "output_type": "execute_result"
    }
   ],
   "source": [
    "\"var1\" in df2"
   ]
  },
  {
   "cell_type": "code",
   "execution_count": 38,
   "id": "2fe9b1a5",
   "metadata": {
    "execution": {
     "iopub.execute_input": "2022-04-22T09:14:13.341079Z",
     "iopub.status.busy": "2022-04-22T09:14:13.340468Z",
     "iopub.status.idle": "2022-04-22T09:14:13.343237Z",
     "shell.execute_reply": "2022-04-22T09:14:13.343729Z",
     "shell.execute_reply.started": "2022-02-10T13:35:24.688123Z"
    },
    "papermill": {
     "duration": 0.084955,
     "end_time": "2022-04-22T09:14:13.343891",
     "exception": false,
     "start_time": "2022-04-22T09:14:13.258936",
     "status": "completed"
    },
    "tags": []
   },
   "outputs": [
    {
     "name": "stdout",
     "output_type": "stream",
     "text": [
      "True\n",
      "False\n",
      "True\n"
     ]
    }
   ],
   "source": [
    "l2=[\"var1\",\"var4\",\"var2\"]\n",
    "\n",
    "for i in l2:\n",
    "    print(i in df2)"
   ]
  },
  {
   "cell_type": "markdown",
   "id": "4d2cf1a7",
   "metadata": {
    "papermill": {
     "duration": 0.075888,
     "end_time": "2022-04-22T09:14:13.496070",
     "exception": false,
     "start_time": "2022-04-22T09:14:13.420182",
     "status": "completed"
    },
    "tags": []
   },
   "source": [
    "<a id=\"14\"></a>\n",
    "# Yeni Sütun Eklemek"
   ]
  },
  {
   "cell_type": "code",
   "execution_count": 39,
   "id": "b4bc2a01",
   "metadata": {
    "execution": {
     "iopub.execute_input": "2022-04-22T09:14:13.658596Z",
     "iopub.status.busy": "2022-04-22T09:14:13.657670Z",
     "iopub.status.idle": "2022-04-22T09:14:13.660847Z",
     "shell.execute_reply": "2022-04-22T09:14:13.661339Z",
     "shell.execute_reply.started": "2022-02-10T13:42:15.131805Z"
    },
    "papermill": {
     "duration": 0.089365,
     "end_time": "2022-04-22T09:14:13.661505",
     "exception": false,
     "start_time": "2022-04-22T09:14:13.572140",
     "status": "completed"
    },
    "tags": []
   },
   "outputs": [
    {
     "data": {
      "text/html": [
       "<div>\n",
       "<style scoped>\n",
       "    .dataframe tbody tr th:only-of-type {\n",
       "        vertical-align: middle;\n",
       "    }\n",
       "\n",
       "    .dataframe tbody tr th {\n",
       "        vertical-align: top;\n",
       "    }\n",
       "\n",
       "    .dataframe thead th {\n",
       "        text-align: right;\n",
       "    }\n",
       "</style>\n",
       "<table border=\"1\" class=\"dataframe\">\n",
       "  <thead>\n",
       "    <tr style=\"text-align: right;\">\n",
       "      <th></th>\n",
       "      <th>var1</th>\n",
       "      <th>var2</th>\n",
       "      <th>var3</th>\n",
       "      <th>var4</th>\n",
       "    </tr>\n",
       "  </thead>\n",
       "  <tbody>\n",
       "    <tr>\n",
       "      <th>a</th>\n",
       "      <td>8</td>\n",
       "      <td>5</td>\n",
       "      <td>5</td>\n",
       "      <td>1.6</td>\n",
       "    </tr>\n",
       "    <tr>\n",
       "      <th>c</th>\n",
       "      <td>9</td>\n",
       "      <td>5</td>\n",
       "      <td>4</td>\n",
       "      <td>1.8</td>\n",
       "    </tr>\n",
       "    <tr>\n",
       "      <th>d</th>\n",
       "      <td>8</td>\n",
       "      <td>2</td>\n",
       "      <td>4</td>\n",
       "      <td>4.0</td>\n",
       "    </tr>\n",
       "    <tr>\n",
       "      <th>e</th>\n",
       "      <td>6</td>\n",
       "      <td>1</td>\n",
       "      <td>8</td>\n",
       "      <td>6.0</td>\n",
       "    </tr>\n",
       "  </tbody>\n",
       "</table>\n",
       "</div>"
      ],
      "text/plain": [
       "   var1  var2  var3  var4\n",
       "a     8     5     5   1.6\n",
       "c     9     5     4   1.8\n",
       "d     8     2     4   4.0\n",
       "e     6     1     8   6.0"
      ]
     },
     "execution_count": 39,
     "metadata": {},
     "output_type": "execute_result"
    }
   ],
   "source": [
    "df2[\"var4\"]=df2[\"var1\"]/df2[\"var2\"]\n",
    "df2"
   ]
  },
  {
   "cell_type": "code",
   "execution_count": 40,
   "id": "41aa761b",
   "metadata": {
    "execution": {
     "iopub.execute_input": "2022-04-22T09:14:13.829327Z",
     "iopub.status.busy": "2022-04-22T09:14:13.828481Z",
     "iopub.status.idle": "2022-04-22T09:14:13.831519Z",
     "shell.execute_reply": "2022-04-22T09:14:13.831977Z",
     "shell.execute_reply.started": "2022-02-10T13:42:19.080674Z"
    },
    "papermill": {
     "duration": 0.094347,
     "end_time": "2022-04-22T09:14:13.832146",
     "exception": false,
     "start_time": "2022-04-22T09:14:13.737799",
     "status": "completed"
    },
    "tags": []
   },
   "outputs": [
    {
     "data": {
      "text/html": [
       "<div>\n",
       "<style scoped>\n",
       "    .dataframe tbody tr th:only-of-type {\n",
       "        vertical-align: middle;\n",
       "    }\n",
       "\n",
       "    .dataframe tbody tr th {\n",
       "        vertical-align: top;\n",
       "    }\n",
       "\n",
       "    .dataframe thead th {\n",
       "        text-align: right;\n",
       "    }\n",
       "</style>\n",
       "<table border=\"1\" class=\"dataframe\">\n",
       "  <thead>\n",
       "    <tr style=\"text-align: right;\">\n",
       "      <th></th>\n",
       "      <th>var1</th>\n",
       "      <th>var2</th>\n",
       "      <th>var3</th>\n",
       "    </tr>\n",
       "  </thead>\n",
       "  <tbody>\n",
       "    <tr>\n",
       "      <th>a</th>\n",
       "      <td>8</td>\n",
       "      <td>5</td>\n",
       "      <td>5</td>\n",
       "    </tr>\n",
       "    <tr>\n",
       "      <th>c</th>\n",
       "      <td>9</td>\n",
       "      <td>5</td>\n",
       "      <td>4</td>\n",
       "    </tr>\n",
       "    <tr>\n",
       "      <th>d</th>\n",
       "      <td>8</td>\n",
       "      <td>2</td>\n",
       "      <td>4</td>\n",
       "    </tr>\n",
       "    <tr>\n",
       "      <th>e</th>\n",
       "      <td>6</td>\n",
       "      <td>1</td>\n",
       "      <td>8</td>\n",
       "    </tr>\n",
       "  </tbody>\n",
       "</table>\n",
       "</div>"
      ],
      "text/plain": [
       "   var1  var2  var3\n",
       "a     8     5     5\n",
       "c     9     5     4\n",
       "d     8     2     4\n",
       "e     6     1     8"
      ]
     },
     "execution_count": 40,
     "metadata": {},
     "output_type": "execute_result"
    }
   ],
   "source": [
    "df2.drop(\"var4\",axis=1,inplace=True)\n",
    "df2"
   ]
  },
  {
   "cell_type": "markdown",
   "id": "78a2c321",
   "metadata": {
    "papermill": {
     "duration": 0.076601,
     "end_time": "2022-04-22T09:14:13.985522",
     "exception": false,
     "start_time": "2022-04-22T09:14:13.908921",
     "status": "completed"
    },
    "tags": []
   },
   "source": [
    "<a id=\"15\"></a>\n",
    "# PANDAS ÖZELLİKLERİ"
   ]
  },
  {
   "cell_type": "markdown",
   "id": "cc9590e0",
   "metadata": {
    "papermill": {
     "duration": 0.077469,
     "end_time": "2022-04-22T09:14:14.144457",
     "exception": false,
     "start_time": "2022-04-22T09:14:14.066988",
     "status": "completed"
    },
    "tags": []
   },
   "source": [
    "<a id=\"16\"></a>\n",
    "\n",
    "## LOC & ILOC"
   ]
  },
  {
   "cell_type": "code",
   "execution_count": 41,
   "id": "6b4d61f4",
   "metadata": {
    "execution": {
     "iopub.execute_input": "2022-04-22T09:14:14.301888Z",
     "iopub.status.busy": "2022-04-22T09:14:14.300992Z",
     "iopub.status.idle": "2022-04-22T09:14:14.311105Z",
     "shell.execute_reply": "2022-04-22T09:14:14.310646Z",
     "shell.execute_reply.started": "2022-02-10T13:54:04.616504Z"
    },
    "papermill": {
     "duration": 0.089772,
     "end_time": "2022-04-22T09:14:14.311241",
     "exception": false,
     "start_time": "2022-04-22T09:14:14.221469",
     "status": "completed"
    },
    "tags": []
   },
   "outputs": [
    {
     "data": {
      "text/html": [
       "<div>\n",
       "<style scoped>\n",
       "    .dataframe tbody tr th:only-of-type {\n",
       "        vertical-align: middle;\n",
       "    }\n",
       "\n",
       "    .dataframe tbody tr th {\n",
       "        vertical-align: top;\n",
       "    }\n",
       "\n",
       "    .dataframe thead th {\n",
       "        text-align: right;\n",
       "    }\n",
       "</style>\n",
       "<table border=\"1\" class=\"dataframe\">\n",
       "  <thead>\n",
       "    <tr style=\"text-align: right;\">\n",
       "      <th></th>\n",
       "      <th>deg1</th>\n",
       "      <th>deg2</th>\n",
       "      <th>deg3</th>\n",
       "    </tr>\n",
       "  </thead>\n",
       "  <tbody>\n",
       "    <tr>\n",
       "      <th>0</th>\n",
       "      <td>10</td>\n",
       "      <td>5</td>\n",
       "      <td>11</td>\n",
       "    </tr>\n",
       "    <tr>\n",
       "      <th>1</th>\n",
       "      <td>20</td>\n",
       "      <td>10</td>\n",
       "      <td>26</td>\n",
       "    </tr>\n",
       "    <tr>\n",
       "      <th>2</th>\n",
       "      <td>24</td>\n",
       "      <td>7</td>\n",
       "      <td>20</td>\n",
       "    </tr>\n",
       "    <tr>\n",
       "      <th>3</th>\n",
       "      <td>8</td>\n",
       "      <td>27</td>\n",
       "      <td>11</td>\n",
       "    </tr>\n",
       "    <tr>\n",
       "      <th>4</th>\n",
       "      <td>25</td>\n",
       "      <td>21</td>\n",
       "      <td>29</td>\n",
       "    </tr>\n",
       "    <tr>\n",
       "      <th>5</th>\n",
       "      <td>23</td>\n",
       "      <td>16</td>\n",
       "      <td>18</td>\n",
       "    </tr>\n",
       "    <tr>\n",
       "      <th>6</th>\n",
       "      <td>7</td>\n",
       "      <td>19</td>\n",
       "      <td>7</td>\n",
       "    </tr>\n",
       "    <tr>\n",
       "      <th>7</th>\n",
       "      <td>25</td>\n",
       "      <td>28</td>\n",
       "      <td>15</td>\n",
       "    </tr>\n",
       "    <tr>\n",
       "      <th>8</th>\n",
       "      <td>6</td>\n",
       "      <td>8</td>\n",
       "      <td>3</td>\n",
       "    </tr>\n",
       "    <tr>\n",
       "      <th>9</th>\n",
       "      <td>2</td>\n",
       "      <td>24</td>\n",
       "      <td>5</td>\n",
       "    </tr>\n",
       "  </tbody>\n",
       "</table>\n",
       "</div>"
      ],
      "text/plain": [
       "   deg1  deg2  deg3\n",
       "0    10     5    11\n",
       "1    20    10    26\n",
       "2    24     7    20\n",
       "3     8    27    11\n",
       "4    25    21    29\n",
       "5    23    16    18\n",
       "6     7    19     7\n",
       "7    25    28    15\n",
       "8     6     8     3\n",
       "9     2    24     5"
      ]
     },
     "execution_count": 41,
     "metadata": {},
     "output_type": "execute_result"
    }
   ],
   "source": [
    "array=np.random.randint(1,30,size=(10,3))\n",
    "d_f=pd.DataFrame(array,columns=[\"deg1\",\"deg2\",\"deg3\"])\n",
    "d_f"
   ]
  },
  {
   "cell_type": "markdown",
   "id": "db8b56e0",
   "metadata": {
    "papermill": {
     "duration": 0.07685,
     "end_time": "2022-04-22T09:14:14.465970",
     "exception": false,
     "start_time": "2022-04-22T09:14:14.389120",
     "status": "completed"
    },
    "tags": []
   },
   "source": [
    "<font color='red'>\n",
    "\n",
    "### **loc[ ]**: Tanımlandığı şekli ile seçin yapmak için kullanılır."
   ]
  },
  {
   "cell_type": "code",
   "execution_count": 42,
   "id": "75d8e8d7",
   "metadata": {
    "execution": {
     "iopub.execute_input": "2022-04-22T09:14:14.626770Z",
     "iopub.status.busy": "2022-04-22T09:14:14.625868Z",
     "iopub.status.idle": "2022-04-22T09:14:14.633529Z",
     "shell.execute_reply": "2022-04-22T09:14:14.633925Z",
     "shell.execute_reply.started": "2022-02-10T13:56:05.410438Z"
    },
    "papermill": {
     "duration": 0.090659,
     "end_time": "2022-04-22T09:14:14.634089",
     "exception": false,
     "start_time": "2022-04-22T09:14:14.543430",
     "status": "completed"
    },
    "tags": []
   },
   "outputs": [
    {
     "data": {
      "text/html": [
       "<div>\n",
       "<style scoped>\n",
       "    .dataframe tbody tr th:only-of-type {\n",
       "        vertical-align: middle;\n",
       "    }\n",
       "\n",
       "    .dataframe tbody tr th {\n",
       "        vertical-align: top;\n",
       "    }\n",
       "\n",
       "    .dataframe thead th {\n",
       "        text-align: right;\n",
       "    }\n",
       "</style>\n",
       "<table border=\"1\" class=\"dataframe\">\n",
       "  <thead>\n",
       "    <tr style=\"text-align: right;\">\n",
       "      <th></th>\n",
       "      <th>deg1</th>\n",
       "      <th>deg2</th>\n",
       "      <th>deg3</th>\n",
       "    </tr>\n",
       "  </thead>\n",
       "  <tbody>\n",
       "    <tr>\n",
       "      <th>0</th>\n",
       "      <td>10</td>\n",
       "      <td>5</td>\n",
       "      <td>11</td>\n",
       "    </tr>\n",
       "    <tr>\n",
       "      <th>1</th>\n",
       "      <td>20</td>\n",
       "      <td>10</td>\n",
       "      <td>26</td>\n",
       "    </tr>\n",
       "    <tr>\n",
       "      <th>2</th>\n",
       "      <td>24</td>\n",
       "      <td>7</td>\n",
       "      <td>20</td>\n",
       "    </tr>\n",
       "    <tr>\n",
       "      <th>3</th>\n",
       "      <td>8</td>\n",
       "      <td>27</td>\n",
       "      <td>11</td>\n",
       "    </tr>\n",
       "  </tbody>\n",
       "</table>\n",
       "</div>"
      ],
      "text/plain": [
       "   deg1  deg2  deg3\n",
       "0    10     5    11\n",
       "1    20    10    26\n",
       "2    24     7    20\n",
       "3     8    27    11"
      ]
     },
     "execution_count": 42,
     "metadata": {},
     "output_type": "execute_result"
    }
   ],
   "source": [
    "d_f.loc[0:3]\n",
    "# 0 dan 3 e kadar (0 ve 3 dahil!!) secilen indexleri gösterir"
   ]
  },
  {
   "cell_type": "markdown",
   "id": "26da573d",
   "metadata": {
    "papermill": {
     "duration": 0.079496,
     "end_time": "2022-04-22T09:14:14.791405",
     "exception": false,
     "start_time": "2022-04-22T09:14:14.711909",
     "status": "completed"
    },
    "tags": []
   },
   "source": [
    "<font color='red'>\n",
    "\n",
    "### **iloc[ ]**: Bildiğimiz indexleme mantığı ile seçim yapar."
   ]
  },
  {
   "cell_type": "code",
   "execution_count": 43,
   "id": "54f10b5a",
   "metadata": {
    "execution": {
     "iopub.execute_input": "2022-04-22T09:14:14.965251Z",
     "iopub.status.busy": "2022-04-22T09:14:14.964423Z",
     "iopub.status.idle": "2022-04-22T09:14:14.967563Z",
     "shell.execute_reply": "2022-04-22T09:14:14.968006Z",
     "shell.execute_reply.started": "2022-02-10T13:59:18.956916Z"
    },
    "papermill": {
     "duration": 0.090437,
     "end_time": "2022-04-22T09:14:14.968170",
     "exception": false,
     "start_time": "2022-04-22T09:14:14.877733",
     "status": "completed"
    },
    "tags": []
   },
   "outputs": [
    {
     "data": {
      "text/html": [
       "<div>\n",
       "<style scoped>\n",
       "    .dataframe tbody tr th:only-of-type {\n",
       "        vertical-align: middle;\n",
       "    }\n",
       "\n",
       "    .dataframe tbody tr th {\n",
       "        vertical-align: top;\n",
       "    }\n",
       "\n",
       "    .dataframe thead th {\n",
       "        text-align: right;\n",
       "    }\n",
       "</style>\n",
       "<table border=\"1\" class=\"dataframe\">\n",
       "  <thead>\n",
       "    <tr style=\"text-align: right;\">\n",
       "      <th></th>\n",
       "      <th>deg1</th>\n",
       "      <th>deg2</th>\n",
       "      <th>deg3</th>\n",
       "    </tr>\n",
       "  </thead>\n",
       "  <tbody>\n",
       "    <tr>\n",
       "      <th>0</th>\n",
       "      <td>10</td>\n",
       "      <td>5</td>\n",
       "      <td>11</td>\n",
       "    </tr>\n",
       "    <tr>\n",
       "      <th>1</th>\n",
       "      <td>20</td>\n",
       "      <td>10</td>\n",
       "      <td>26</td>\n",
       "    </tr>\n",
       "    <tr>\n",
       "      <th>2</th>\n",
       "      <td>24</td>\n",
       "      <td>7</td>\n",
       "      <td>20</td>\n",
       "    </tr>\n",
       "  </tbody>\n",
       "</table>\n",
       "</div>"
      ],
      "text/plain": [
       "   deg1  deg2  deg3\n",
       "0    10     5    11\n",
       "1    20    10    26\n",
       "2    24     7    20"
      ]
     },
     "execution_count": 43,
     "metadata": {},
     "output_type": "execute_result"
    }
   ],
   "source": [
    "d_f.iloc[0:3]\n",
    "# 0-1-2 . indexleri gösterir. 3 dahil değil."
   ]
  },
  {
   "cell_type": "markdown",
   "id": "8d5dffbb",
   "metadata": {
    "papermill": {
     "duration": 0.085795,
     "end_time": "2022-04-22T09:14:15.133883",
     "exception": false,
     "start_time": "2022-04-22T09:14:15.048088",
     "status": "completed"
    },
    "tags": []
   },
   "source": [
    "<a id=\"17\"></a>\n",
    "\n",
    "# Koşullu Eleman İşlemleri"
   ]
  },
  {
   "cell_type": "code",
   "execution_count": 44,
   "id": "73638d8c",
   "metadata": {
    "execution": {
     "iopub.execute_input": "2022-04-22T09:14:15.297799Z",
     "iopub.status.busy": "2022-04-22T09:14:15.297138Z",
     "iopub.status.idle": "2022-04-22T09:14:15.302626Z",
     "shell.execute_reply": "2022-04-22T09:14:15.303142Z",
     "shell.execute_reply.started": "2022-02-10T14:03:13.824601Z"
    },
    "papermill": {
     "duration": 0.089778,
     "end_time": "2022-04-22T09:14:15.303323",
     "exception": false,
     "start_time": "2022-04-22T09:14:15.213545",
     "status": "completed"
    },
    "tags": []
   },
   "outputs": [
    {
     "data": {
      "text/html": [
       "<div>\n",
       "<style scoped>\n",
       "    .dataframe tbody tr th:only-of-type {\n",
       "        vertical-align: middle;\n",
       "    }\n",
       "\n",
       "    .dataframe tbody tr th {\n",
       "        vertical-align: top;\n",
       "    }\n",
       "\n",
       "    .dataframe thead th {\n",
       "        text-align: right;\n",
       "    }\n",
       "</style>\n",
       "<table border=\"1\" class=\"dataframe\">\n",
       "  <thead>\n",
       "    <tr style=\"text-align: right;\">\n",
       "      <th></th>\n",
       "      <th>deg1</th>\n",
       "      <th>deg2</th>\n",
       "      <th>deg3</th>\n",
       "    </tr>\n",
       "  </thead>\n",
       "  <tbody>\n",
       "    <tr>\n",
       "      <th>1</th>\n",
       "      <td>20</td>\n",
       "      <td>10</td>\n",
       "      <td>26</td>\n",
       "    </tr>\n",
       "    <tr>\n",
       "      <th>2</th>\n",
       "      <td>24</td>\n",
       "      <td>7</td>\n",
       "      <td>20</td>\n",
       "    </tr>\n",
       "    <tr>\n",
       "      <th>4</th>\n",
       "      <td>25</td>\n",
       "      <td>21</td>\n",
       "      <td>29</td>\n",
       "    </tr>\n",
       "    <tr>\n",
       "      <th>5</th>\n",
       "      <td>23</td>\n",
       "      <td>16</td>\n",
       "      <td>18</td>\n",
       "    </tr>\n",
       "    <tr>\n",
       "      <th>7</th>\n",
       "      <td>25</td>\n",
       "      <td>28</td>\n",
       "      <td>15</td>\n",
       "    </tr>\n",
       "  </tbody>\n",
       "</table>\n",
       "</div>"
      ],
      "text/plain": [
       "   deg1  deg2  deg3\n",
       "1    20    10    26\n",
       "2    24     7    20\n",
       "4    25    21    29\n",
       "5    23    16    18\n",
       "7    25    28    15"
      ]
     },
     "execution_count": 44,
     "metadata": {},
     "output_type": "execute_result"
    }
   ],
   "source": [
    "d_f[d_f.deg1>15]\n",
    "# deg1 in 15 den büyük olduğu satırları filtre olarak kullandık."
   ]
  },
  {
   "cell_type": "code",
   "execution_count": 45,
   "id": "0821996c",
   "metadata": {
    "execution": {
     "iopub.execute_input": "2022-04-22T09:14:15.463090Z",
     "iopub.status.busy": "2022-04-22T09:14:15.462511Z",
     "iopub.status.idle": "2022-04-22T09:14:15.471156Z",
     "shell.execute_reply": "2022-04-22T09:14:15.471674Z",
     "shell.execute_reply.started": "2022-02-10T14:07:08.786719Z"
    },
    "papermill": {
     "duration": 0.090189,
     "end_time": "2022-04-22T09:14:15.471838",
     "exception": false,
     "start_time": "2022-04-22T09:14:15.381649",
     "status": "completed"
    },
    "tags": []
   },
   "outputs": [
    {
     "data": {
      "text/html": [
       "<div>\n",
       "<style scoped>\n",
       "    .dataframe tbody tr th:only-of-type {\n",
       "        vertical-align: middle;\n",
       "    }\n",
       "\n",
       "    .dataframe tbody tr th {\n",
       "        vertical-align: top;\n",
       "    }\n",
       "\n",
       "    .dataframe thead th {\n",
       "        text-align: right;\n",
       "    }\n",
       "</style>\n",
       "<table border=\"1\" class=\"dataframe\">\n",
       "  <thead>\n",
       "    <tr style=\"text-align: right;\">\n",
       "      <th></th>\n",
       "      <th>deg1</th>\n",
       "      <th>deg2</th>\n",
       "      <th>deg3</th>\n",
       "    </tr>\n",
       "  </thead>\n",
       "  <tbody>\n",
       "    <tr>\n",
       "      <th>3</th>\n",
       "      <td>8</td>\n",
       "      <td>27</td>\n",
       "      <td>11</td>\n",
       "    </tr>\n",
       "    <tr>\n",
       "      <th>6</th>\n",
       "      <td>7</td>\n",
       "      <td>19</td>\n",
       "      <td>7</td>\n",
       "    </tr>\n",
       "    <tr>\n",
       "      <th>9</th>\n",
       "      <td>2</td>\n",
       "      <td>24</td>\n",
       "      <td>5</td>\n",
       "    </tr>\n",
       "  </tbody>\n",
       "</table>\n",
       "</div>"
      ],
      "text/plain": [
       "   deg1  deg2  deg3\n",
       "3     8    27    11\n",
       "6     7    19     7\n",
       "9     2    24     5"
      ]
     },
     "execution_count": 45,
     "metadata": {},
     "output_type": "execute_result"
    }
   ],
   "source": [
    "d_f[(d_f.deg1<20)&(d_f.deg2>10)]"
   ]
  },
  {
   "cell_type": "markdown",
   "id": "80e0551d",
   "metadata": {
    "papermill": {
     "duration": 0.078674,
     "end_time": "2022-04-22T09:14:15.629285",
     "exception": false,
     "start_time": "2022-04-22T09:14:15.550611",
     "status": "completed"
    },
    "tags": []
   },
   "source": [
    "<a id=\"18\"></a>\n",
    "\n",
    "# CONCAT( ) Birleştirme"
   ]
  },
  {
   "cell_type": "code",
   "execution_count": 46,
   "id": "85c6c3c1",
   "metadata": {
    "execution": {
     "iopub.execute_input": "2022-04-22T09:14:15.789757Z",
     "iopub.status.busy": "2022-04-22T09:14:15.789170Z",
     "iopub.status.idle": "2022-04-22T09:14:15.797220Z",
     "shell.execute_reply": "2022-04-22T09:14:15.797763Z",
     "shell.execute_reply.started": "2022-02-10T14:09:42.979864Z"
    },
    "papermill": {
     "duration": 0.089957,
     "end_time": "2022-04-22T09:14:15.797924",
     "exception": false,
     "start_time": "2022-04-22T09:14:15.707967",
     "status": "completed"
    },
    "tags": []
   },
   "outputs": [
    {
     "data": {
      "text/html": [
       "<div>\n",
       "<style scoped>\n",
       "    .dataframe tbody tr th:only-of-type {\n",
       "        vertical-align: middle;\n",
       "    }\n",
       "\n",
       "    .dataframe tbody tr th {\n",
       "        vertical-align: top;\n",
       "    }\n",
       "\n",
       "    .dataframe thead th {\n",
       "        text-align: right;\n",
       "    }\n",
       "</style>\n",
       "<table border=\"1\" class=\"dataframe\">\n",
       "  <thead>\n",
       "    <tr style=\"text-align: right;\">\n",
       "      <th></th>\n",
       "      <th>deg1</th>\n",
       "      <th>deg2</th>\n",
       "      <th>deg3</th>\n",
       "    </tr>\n",
       "  </thead>\n",
       "  <tbody>\n",
       "    <tr>\n",
       "      <th>0</th>\n",
       "      <td>110</td>\n",
       "      <td>105</td>\n",
       "      <td>111</td>\n",
       "    </tr>\n",
       "    <tr>\n",
       "      <th>1</th>\n",
       "      <td>120</td>\n",
       "      <td>110</td>\n",
       "      <td>126</td>\n",
       "    </tr>\n",
       "    <tr>\n",
       "      <th>2</th>\n",
       "      <td>124</td>\n",
       "      <td>107</td>\n",
       "      <td>120</td>\n",
       "    </tr>\n",
       "    <tr>\n",
       "      <th>3</th>\n",
       "      <td>108</td>\n",
       "      <td>127</td>\n",
       "      <td>111</td>\n",
       "    </tr>\n",
       "    <tr>\n",
       "      <th>4</th>\n",
       "      <td>125</td>\n",
       "      <td>121</td>\n",
       "      <td>129</td>\n",
       "    </tr>\n",
       "    <tr>\n",
       "      <th>5</th>\n",
       "      <td>123</td>\n",
       "      <td>116</td>\n",
       "      <td>118</td>\n",
       "    </tr>\n",
       "    <tr>\n",
       "      <th>6</th>\n",
       "      <td>107</td>\n",
       "      <td>119</td>\n",
       "      <td>107</td>\n",
       "    </tr>\n",
       "    <tr>\n",
       "      <th>7</th>\n",
       "      <td>125</td>\n",
       "      <td>128</td>\n",
       "      <td>115</td>\n",
       "    </tr>\n",
       "    <tr>\n",
       "      <th>8</th>\n",
       "      <td>106</td>\n",
       "      <td>108</td>\n",
       "      <td>103</td>\n",
       "    </tr>\n",
       "    <tr>\n",
       "      <th>9</th>\n",
       "      <td>102</td>\n",
       "      <td>124</td>\n",
       "      <td>105</td>\n",
       "    </tr>\n",
       "  </tbody>\n",
       "</table>\n",
       "</div>"
      ],
      "text/plain": [
       "   deg1  deg2  deg3\n",
       "0   110   105   111\n",
       "1   120   110   126\n",
       "2   124   107   120\n",
       "3   108   127   111\n",
       "4   125   121   129\n",
       "5   123   116   118\n",
       "6   107   119   107\n",
       "7   125   128   115\n",
       "8   106   108   103\n",
       "9   102   124   105"
      ]
     },
     "execution_count": 46,
     "metadata": {},
     "output_type": "execute_result"
    }
   ],
   "source": [
    "d_f2=d_f+100\n",
    "d_f2"
   ]
  },
  {
   "cell_type": "markdown",
   "id": "9cc18698",
   "metadata": {
    "papermill": {
     "duration": 0.079305,
     "end_time": "2022-04-22T09:14:15.956089",
     "exception": false,
     "start_time": "2022-04-22T09:14:15.876784",
     "status": "completed"
    },
    "tags": []
   },
   "source": [
    "##### İki Data Frame i alt alta birleştirelim."
   ]
  },
  {
   "cell_type": "code",
   "execution_count": 47,
   "id": "edec92cc",
   "metadata": {
    "execution": {
     "iopub.execute_input": "2022-04-22T09:14:16.121432Z",
     "iopub.status.busy": "2022-04-22T09:14:16.120830Z",
     "iopub.status.idle": "2022-04-22T09:14:16.130054Z",
     "shell.execute_reply": "2022-04-22T09:14:16.130605Z",
     "shell.execute_reply.started": "2022-02-10T14:10:19.711938Z"
    },
    "papermill": {
     "duration": 0.094136,
     "end_time": "2022-04-22T09:14:16.130766",
     "exception": false,
     "start_time": "2022-04-22T09:14:16.036630",
     "status": "completed"
    },
    "tags": []
   },
   "outputs": [
    {
     "data": {
      "text/html": [
       "<div>\n",
       "<style scoped>\n",
       "    .dataframe tbody tr th:only-of-type {\n",
       "        vertical-align: middle;\n",
       "    }\n",
       "\n",
       "    .dataframe tbody tr th {\n",
       "        vertical-align: top;\n",
       "    }\n",
       "\n",
       "    .dataframe thead th {\n",
       "        text-align: right;\n",
       "    }\n",
       "</style>\n",
       "<table border=\"1\" class=\"dataframe\">\n",
       "  <thead>\n",
       "    <tr style=\"text-align: right;\">\n",
       "      <th></th>\n",
       "      <th>deg1</th>\n",
       "      <th>deg2</th>\n",
       "      <th>deg3</th>\n",
       "    </tr>\n",
       "  </thead>\n",
       "  <tbody>\n",
       "    <tr>\n",
       "      <th>0</th>\n",
       "      <td>10</td>\n",
       "      <td>5</td>\n",
       "      <td>11</td>\n",
       "    </tr>\n",
       "    <tr>\n",
       "      <th>1</th>\n",
       "      <td>20</td>\n",
       "      <td>10</td>\n",
       "      <td>26</td>\n",
       "    </tr>\n",
       "    <tr>\n",
       "      <th>2</th>\n",
       "      <td>24</td>\n",
       "      <td>7</td>\n",
       "      <td>20</td>\n",
       "    </tr>\n",
       "    <tr>\n",
       "      <th>3</th>\n",
       "      <td>8</td>\n",
       "      <td>27</td>\n",
       "      <td>11</td>\n",
       "    </tr>\n",
       "    <tr>\n",
       "      <th>4</th>\n",
       "      <td>25</td>\n",
       "      <td>21</td>\n",
       "      <td>29</td>\n",
       "    </tr>\n",
       "    <tr>\n",
       "      <th>5</th>\n",
       "      <td>23</td>\n",
       "      <td>16</td>\n",
       "      <td>18</td>\n",
       "    </tr>\n",
       "    <tr>\n",
       "      <th>6</th>\n",
       "      <td>7</td>\n",
       "      <td>19</td>\n",
       "      <td>7</td>\n",
       "    </tr>\n",
       "    <tr>\n",
       "      <th>7</th>\n",
       "      <td>25</td>\n",
       "      <td>28</td>\n",
       "      <td>15</td>\n",
       "    </tr>\n",
       "    <tr>\n",
       "      <th>8</th>\n",
       "      <td>6</td>\n",
       "      <td>8</td>\n",
       "      <td>3</td>\n",
       "    </tr>\n",
       "    <tr>\n",
       "      <th>9</th>\n",
       "      <td>2</td>\n",
       "      <td>24</td>\n",
       "      <td>5</td>\n",
       "    </tr>\n",
       "    <tr>\n",
       "      <th>0</th>\n",
       "      <td>110</td>\n",
       "      <td>105</td>\n",
       "      <td>111</td>\n",
       "    </tr>\n",
       "    <tr>\n",
       "      <th>1</th>\n",
       "      <td>120</td>\n",
       "      <td>110</td>\n",
       "      <td>126</td>\n",
       "    </tr>\n",
       "    <tr>\n",
       "      <th>2</th>\n",
       "      <td>124</td>\n",
       "      <td>107</td>\n",
       "      <td>120</td>\n",
       "    </tr>\n",
       "    <tr>\n",
       "      <th>3</th>\n",
       "      <td>108</td>\n",
       "      <td>127</td>\n",
       "      <td>111</td>\n",
       "    </tr>\n",
       "    <tr>\n",
       "      <th>4</th>\n",
       "      <td>125</td>\n",
       "      <td>121</td>\n",
       "      <td>129</td>\n",
       "    </tr>\n",
       "    <tr>\n",
       "      <th>5</th>\n",
       "      <td>123</td>\n",
       "      <td>116</td>\n",
       "      <td>118</td>\n",
       "    </tr>\n",
       "    <tr>\n",
       "      <th>6</th>\n",
       "      <td>107</td>\n",
       "      <td>119</td>\n",
       "      <td>107</td>\n",
       "    </tr>\n",
       "    <tr>\n",
       "      <th>7</th>\n",
       "      <td>125</td>\n",
       "      <td>128</td>\n",
       "      <td>115</td>\n",
       "    </tr>\n",
       "    <tr>\n",
       "      <th>8</th>\n",
       "      <td>106</td>\n",
       "      <td>108</td>\n",
       "      <td>103</td>\n",
       "    </tr>\n",
       "    <tr>\n",
       "      <th>9</th>\n",
       "      <td>102</td>\n",
       "      <td>124</td>\n",
       "      <td>105</td>\n",
       "    </tr>\n",
       "  </tbody>\n",
       "</table>\n",
       "</div>"
      ],
      "text/plain": [
       "   deg1  deg2  deg3\n",
       "0    10     5    11\n",
       "1    20    10    26\n",
       "2    24     7    20\n",
       "3     8    27    11\n",
       "4    25    21    29\n",
       "5    23    16    18\n",
       "6     7    19     7\n",
       "7    25    28    15\n",
       "8     6     8     3\n",
       "9     2    24     5\n",
       "0   110   105   111\n",
       "1   120   110   126\n",
       "2   124   107   120\n",
       "3   108   127   111\n",
       "4   125   121   129\n",
       "5   123   116   118\n",
       "6   107   119   107\n",
       "7   125   128   115\n",
       "8   106   108   103\n",
       "9   102   124   105"
      ]
     },
     "execution_count": 47,
     "metadata": {},
     "output_type": "execute_result"
    }
   ],
   "source": [
    "pd.concat([d_f,d_f2])"
   ]
  },
  {
   "cell_type": "markdown",
   "id": "5028773f",
   "metadata": {
    "papermill": {
     "duration": 0.079194,
     "end_time": "2022-04-22T09:14:16.289682",
     "exception": false,
     "start_time": "2022-04-22T09:14:16.210488",
     "status": "completed"
    },
    "tags": []
   },
   "source": [
    "<a id=\"19\"></a>\n",
    "\n",
    "### Index Düzenleme\n",
    "\n",
    "##### index lerde ki uyumsuzluğu çözmek için ignore_index argümanını True yaparız."
   ]
  },
  {
   "cell_type": "code",
   "execution_count": 48,
   "id": "88328b12",
   "metadata": {
    "execution": {
     "iopub.execute_input": "2022-04-22T09:14:16.451932Z",
     "iopub.status.busy": "2022-04-22T09:14:16.451381Z",
     "iopub.status.idle": "2022-04-22T09:14:16.459708Z",
     "shell.execute_reply": "2022-04-22T09:14:16.460261Z",
     "shell.execute_reply.started": "2022-02-10T14:12:57.219477Z"
    },
    "papermill": {
     "duration": 0.090394,
     "end_time": "2022-04-22T09:14:16.460441",
     "exception": false,
     "start_time": "2022-04-22T09:14:16.370047",
     "status": "completed"
    },
    "tags": []
   },
   "outputs": [
    {
     "data": {
      "text/html": [
       "<div>\n",
       "<style scoped>\n",
       "    .dataframe tbody tr th:only-of-type {\n",
       "        vertical-align: middle;\n",
       "    }\n",
       "\n",
       "    .dataframe tbody tr th {\n",
       "        vertical-align: top;\n",
       "    }\n",
       "\n",
       "    .dataframe thead th {\n",
       "        text-align: right;\n",
       "    }\n",
       "</style>\n",
       "<table border=\"1\" class=\"dataframe\">\n",
       "  <thead>\n",
       "    <tr style=\"text-align: right;\">\n",
       "      <th></th>\n",
       "      <th>deg1</th>\n",
       "      <th>deg2</th>\n",
       "      <th>deg3</th>\n",
       "    </tr>\n",
       "  </thead>\n",
       "  <tbody>\n",
       "    <tr>\n",
       "      <th>0</th>\n",
       "      <td>10</td>\n",
       "      <td>5</td>\n",
       "      <td>11</td>\n",
       "    </tr>\n",
       "    <tr>\n",
       "      <th>1</th>\n",
       "      <td>20</td>\n",
       "      <td>10</td>\n",
       "      <td>26</td>\n",
       "    </tr>\n",
       "    <tr>\n",
       "      <th>2</th>\n",
       "      <td>24</td>\n",
       "      <td>7</td>\n",
       "      <td>20</td>\n",
       "    </tr>\n",
       "    <tr>\n",
       "      <th>3</th>\n",
       "      <td>8</td>\n",
       "      <td>27</td>\n",
       "      <td>11</td>\n",
       "    </tr>\n",
       "    <tr>\n",
       "      <th>4</th>\n",
       "      <td>25</td>\n",
       "      <td>21</td>\n",
       "      <td>29</td>\n",
       "    </tr>\n",
       "    <tr>\n",
       "      <th>5</th>\n",
       "      <td>23</td>\n",
       "      <td>16</td>\n",
       "      <td>18</td>\n",
       "    </tr>\n",
       "    <tr>\n",
       "      <th>6</th>\n",
       "      <td>7</td>\n",
       "      <td>19</td>\n",
       "      <td>7</td>\n",
       "    </tr>\n",
       "    <tr>\n",
       "      <th>7</th>\n",
       "      <td>25</td>\n",
       "      <td>28</td>\n",
       "      <td>15</td>\n",
       "    </tr>\n",
       "    <tr>\n",
       "      <th>8</th>\n",
       "      <td>6</td>\n",
       "      <td>8</td>\n",
       "      <td>3</td>\n",
       "    </tr>\n",
       "    <tr>\n",
       "      <th>9</th>\n",
       "      <td>2</td>\n",
       "      <td>24</td>\n",
       "      <td>5</td>\n",
       "    </tr>\n",
       "    <tr>\n",
       "      <th>10</th>\n",
       "      <td>110</td>\n",
       "      <td>105</td>\n",
       "      <td>111</td>\n",
       "    </tr>\n",
       "    <tr>\n",
       "      <th>11</th>\n",
       "      <td>120</td>\n",
       "      <td>110</td>\n",
       "      <td>126</td>\n",
       "    </tr>\n",
       "    <tr>\n",
       "      <th>12</th>\n",
       "      <td>124</td>\n",
       "      <td>107</td>\n",
       "      <td>120</td>\n",
       "    </tr>\n",
       "    <tr>\n",
       "      <th>13</th>\n",
       "      <td>108</td>\n",
       "      <td>127</td>\n",
       "      <td>111</td>\n",
       "    </tr>\n",
       "    <tr>\n",
       "      <th>14</th>\n",
       "      <td>125</td>\n",
       "      <td>121</td>\n",
       "      <td>129</td>\n",
       "    </tr>\n",
       "    <tr>\n",
       "      <th>15</th>\n",
       "      <td>123</td>\n",
       "      <td>116</td>\n",
       "      <td>118</td>\n",
       "    </tr>\n",
       "    <tr>\n",
       "      <th>16</th>\n",
       "      <td>107</td>\n",
       "      <td>119</td>\n",
       "      <td>107</td>\n",
       "    </tr>\n",
       "    <tr>\n",
       "      <th>17</th>\n",
       "      <td>125</td>\n",
       "      <td>128</td>\n",
       "      <td>115</td>\n",
       "    </tr>\n",
       "    <tr>\n",
       "      <th>18</th>\n",
       "      <td>106</td>\n",
       "      <td>108</td>\n",
       "      <td>103</td>\n",
       "    </tr>\n",
       "    <tr>\n",
       "      <th>19</th>\n",
       "      <td>102</td>\n",
       "      <td>124</td>\n",
       "      <td>105</td>\n",
       "    </tr>\n",
       "  </tbody>\n",
       "</table>\n",
       "</div>"
      ],
      "text/plain": [
       "    deg1  deg2  deg3\n",
       "0     10     5    11\n",
       "1     20    10    26\n",
       "2     24     7    20\n",
       "3      8    27    11\n",
       "4     25    21    29\n",
       "5     23    16    18\n",
       "6      7    19     7\n",
       "7     25    28    15\n",
       "8      6     8     3\n",
       "9      2    24     5\n",
       "10   110   105   111\n",
       "11   120   110   126\n",
       "12   124   107   120\n",
       "13   108   127   111\n",
       "14   125   121   129\n",
       "15   123   116   118\n",
       "16   107   119   107\n",
       "17   125   128   115\n",
       "18   106   108   103\n",
       "19   102   124   105"
      ]
     },
     "execution_count": 48,
     "metadata": {},
     "output_type": "execute_result"
    }
   ],
   "source": [
    "pd.concat([d_f,d_f2],ignore_index=True)"
   ]
  },
  {
   "cell_type": "markdown",
   "id": "db0d5eeb",
   "metadata": {
    "papermill": {
     "duration": 0.079494,
     "end_time": "2022-04-22T09:14:16.619489",
     "exception": false,
     "start_time": "2022-04-22T09:14:16.539995",
     "status": "completed"
    },
    "tags": []
   },
   "source": [
    "<a id=\"20\"></a>\n",
    "\n",
    "### Farklı Sütun İsimleri\n",
    "\n",
    "#### Sütun isimleri FARKLI olursa:"
   ]
  },
  {
   "cell_type": "code",
   "execution_count": 49,
   "id": "dc05e1c4",
   "metadata": {
    "execution": {
     "iopub.execute_input": "2022-04-22T09:14:16.782528Z",
     "iopub.status.busy": "2022-04-22T09:14:16.781937Z",
     "iopub.status.idle": "2022-04-22T09:14:16.790162Z",
     "shell.execute_reply": "2022-04-22T09:14:16.790716Z",
     "shell.execute_reply.started": "2022-02-10T14:15:08.384938Z"
    },
    "papermill": {
     "duration": 0.090429,
     "end_time": "2022-04-22T09:14:16.790881",
     "exception": false,
     "start_time": "2022-04-22T09:14:16.700452",
     "status": "completed"
    },
    "tags": []
   },
   "outputs": [
    {
     "data": {
      "text/html": [
       "<div>\n",
       "<style scoped>\n",
       "    .dataframe tbody tr th:only-of-type {\n",
       "        vertical-align: middle;\n",
       "    }\n",
       "\n",
       "    .dataframe tbody tr th {\n",
       "        vertical-align: top;\n",
       "    }\n",
       "\n",
       "    .dataframe thead th {\n",
       "        text-align: right;\n",
       "    }\n",
       "</style>\n",
       "<table border=\"1\" class=\"dataframe\">\n",
       "  <thead>\n",
       "    <tr style=\"text-align: right;\">\n",
       "      <th></th>\n",
       "      <th>deg1</th>\n",
       "      <th>deg2</th>\n",
       "      <th>value</th>\n",
       "    </tr>\n",
       "  </thead>\n",
       "  <tbody>\n",
       "    <tr>\n",
       "      <th>0</th>\n",
       "      <td>110</td>\n",
       "      <td>105</td>\n",
       "      <td>111</td>\n",
       "    </tr>\n",
       "    <tr>\n",
       "      <th>1</th>\n",
       "      <td>120</td>\n",
       "      <td>110</td>\n",
       "      <td>126</td>\n",
       "    </tr>\n",
       "    <tr>\n",
       "      <th>2</th>\n",
       "      <td>124</td>\n",
       "      <td>107</td>\n",
       "      <td>120</td>\n",
       "    </tr>\n",
       "    <tr>\n",
       "      <th>3</th>\n",
       "      <td>108</td>\n",
       "      <td>127</td>\n",
       "      <td>111</td>\n",
       "    </tr>\n",
       "    <tr>\n",
       "      <th>4</th>\n",
       "      <td>125</td>\n",
       "      <td>121</td>\n",
       "      <td>129</td>\n",
       "    </tr>\n",
       "    <tr>\n",
       "      <th>5</th>\n",
       "      <td>123</td>\n",
       "      <td>116</td>\n",
       "      <td>118</td>\n",
       "    </tr>\n",
       "    <tr>\n",
       "      <th>6</th>\n",
       "      <td>107</td>\n",
       "      <td>119</td>\n",
       "      <td>107</td>\n",
       "    </tr>\n",
       "    <tr>\n",
       "      <th>7</th>\n",
       "      <td>125</td>\n",
       "      <td>128</td>\n",
       "      <td>115</td>\n",
       "    </tr>\n",
       "    <tr>\n",
       "      <th>8</th>\n",
       "      <td>106</td>\n",
       "      <td>108</td>\n",
       "      <td>103</td>\n",
       "    </tr>\n",
       "    <tr>\n",
       "      <th>9</th>\n",
       "      <td>102</td>\n",
       "      <td>124</td>\n",
       "      <td>105</td>\n",
       "    </tr>\n",
       "  </tbody>\n",
       "</table>\n",
       "</div>"
      ],
      "text/plain": [
       "   deg1  deg2  value\n",
       "0   110   105    111\n",
       "1   120   110    126\n",
       "2   124   107    120\n",
       "3   108   127    111\n",
       "4   125   121    129\n",
       "5   123   116    118\n",
       "6   107   119    107\n",
       "7   125   128    115\n",
       "8   106   108    103\n",
       "9   102   124    105"
      ]
     },
     "execution_count": 49,
     "metadata": {},
     "output_type": "execute_result"
    }
   ],
   "source": [
    "d_f2.columns=[\"deg1\",\"deg2\",\"value\"]\n",
    "d_f2"
   ]
  },
  {
   "cell_type": "code",
   "execution_count": 50,
   "id": "9b80e837",
   "metadata": {
    "execution": {
     "iopub.execute_input": "2022-04-22T09:14:16.954478Z",
     "iopub.status.busy": "2022-04-22T09:14:16.953907Z",
     "iopub.status.idle": "2022-04-22T09:14:16.966429Z",
     "shell.execute_reply": "2022-04-22T09:14:16.966945Z",
     "shell.execute_reply.started": "2022-02-10T14:15:39.317508Z"
    },
    "papermill": {
     "duration": 0.095945,
     "end_time": "2022-04-22T09:14:16.967120",
     "exception": false,
     "start_time": "2022-04-22T09:14:16.871175",
     "status": "completed"
    },
    "tags": []
   },
   "outputs": [
    {
     "data": {
      "text/html": [
       "<div>\n",
       "<style scoped>\n",
       "    .dataframe tbody tr th:only-of-type {\n",
       "        vertical-align: middle;\n",
       "    }\n",
       "\n",
       "    .dataframe tbody tr th {\n",
       "        vertical-align: top;\n",
       "    }\n",
       "\n",
       "    .dataframe thead th {\n",
       "        text-align: right;\n",
       "    }\n",
       "</style>\n",
       "<table border=\"1\" class=\"dataframe\">\n",
       "  <thead>\n",
       "    <tr style=\"text-align: right;\">\n",
       "      <th></th>\n",
       "      <th>deg1</th>\n",
       "      <th>deg2</th>\n",
       "      <th>deg3</th>\n",
       "      <th>value</th>\n",
       "    </tr>\n",
       "  </thead>\n",
       "  <tbody>\n",
       "    <tr>\n",
       "      <th>0</th>\n",
       "      <td>10</td>\n",
       "      <td>5</td>\n",
       "      <td>11.0</td>\n",
       "      <td>NaN</td>\n",
       "    </tr>\n",
       "    <tr>\n",
       "      <th>1</th>\n",
       "      <td>20</td>\n",
       "      <td>10</td>\n",
       "      <td>26.0</td>\n",
       "      <td>NaN</td>\n",
       "    </tr>\n",
       "    <tr>\n",
       "      <th>2</th>\n",
       "      <td>24</td>\n",
       "      <td>7</td>\n",
       "      <td>20.0</td>\n",
       "      <td>NaN</td>\n",
       "    </tr>\n",
       "    <tr>\n",
       "      <th>3</th>\n",
       "      <td>8</td>\n",
       "      <td>27</td>\n",
       "      <td>11.0</td>\n",
       "      <td>NaN</td>\n",
       "    </tr>\n",
       "    <tr>\n",
       "      <th>4</th>\n",
       "      <td>25</td>\n",
       "      <td>21</td>\n",
       "      <td>29.0</td>\n",
       "      <td>NaN</td>\n",
       "    </tr>\n",
       "    <tr>\n",
       "      <th>5</th>\n",
       "      <td>23</td>\n",
       "      <td>16</td>\n",
       "      <td>18.0</td>\n",
       "      <td>NaN</td>\n",
       "    </tr>\n",
       "    <tr>\n",
       "      <th>6</th>\n",
       "      <td>7</td>\n",
       "      <td>19</td>\n",
       "      <td>7.0</td>\n",
       "      <td>NaN</td>\n",
       "    </tr>\n",
       "    <tr>\n",
       "      <th>7</th>\n",
       "      <td>25</td>\n",
       "      <td>28</td>\n",
       "      <td>15.0</td>\n",
       "      <td>NaN</td>\n",
       "    </tr>\n",
       "    <tr>\n",
       "      <th>8</th>\n",
       "      <td>6</td>\n",
       "      <td>8</td>\n",
       "      <td>3.0</td>\n",
       "      <td>NaN</td>\n",
       "    </tr>\n",
       "    <tr>\n",
       "      <th>9</th>\n",
       "      <td>2</td>\n",
       "      <td>24</td>\n",
       "      <td>5.0</td>\n",
       "      <td>NaN</td>\n",
       "    </tr>\n",
       "    <tr>\n",
       "      <th>0</th>\n",
       "      <td>110</td>\n",
       "      <td>105</td>\n",
       "      <td>NaN</td>\n",
       "      <td>111.0</td>\n",
       "    </tr>\n",
       "    <tr>\n",
       "      <th>1</th>\n",
       "      <td>120</td>\n",
       "      <td>110</td>\n",
       "      <td>NaN</td>\n",
       "      <td>126.0</td>\n",
       "    </tr>\n",
       "    <tr>\n",
       "      <th>2</th>\n",
       "      <td>124</td>\n",
       "      <td>107</td>\n",
       "      <td>NaN</td>\n",
       "      <td>120.0</td>\n",
       "    </tr>\n",
       "    <tr>\n",
       "      <th>3</th>\n",
       "      <td>108</td>\n",
       "      <td>127</td>\n",
       "      <td>NaN</td>\n",
       "      <td>111.0</td>\n",
       "    </tr>\n",
       "    <tr>\n",
       "      <th>4</th>\n",
       "      <td>125</td>\n",
       "      <td>121</td>\n",
       "      <td>NaN</td>\n",
       "      <td>129.0</td>\n",
       "    </tr>\n",
       "    <tr>\n",
       "      <th>5</th>\n",
       "      <td>123</td>\n",
       "      <td>116</td>\n",
       "      <td>NaN</td>\n",
       "      <td>118.0</td>\n",
       "    </tr>\n",
       "    <tr>\n",
       "      <th>6</th>\n",
       "      <td>107</td>\n",
       "      <td>119</td>\n",
       "      <td>NaN</td>\n",
       "      <td>107.0</td>\n",
       "    </tr>\n",
       "    <tr>\n",
       "      <th>7</th>\n",
       "      <td>125</td>\n",
       "      <td>128</td>\n",
       "      <td>NaN</td>\n",
       "      <td>115.0</td>\n",
       "    </tr>\n",
       "    <tr>\n",
       "      <th>8</th>\n",
       "      <td>106</td>\n",
       "      <td>108</td>\n",
       "      <td>NaN</td>\n",
       "      <td>103.0</td>\n",
       "    </tr>\n",
       "    <tr>\n",
       "      <th>9</th>\n",
       "      <td>102</td>\n",
       "      <td>124</td>\n",
       "      <td>NaN</td>\n",
       "      <td>105.0</td>\n",
       "    </tr>\n",
       "  </tbody>\n",
       "</table>\n",
       "</div>"
      ],
      "text/plain": [
       "   deg1  deg2  deg3  value\n",
       "0    10     5  11.0    NaN\n",
       "1    20    10  26.0    NaN\n",
       "2    24     7  20.0    NaN\n",
       "3     8    27  11.0    NaN\n",
       "4    25    21  29.0    NaN\n",
       "5    23    16  18.0    NaN\n",
       "6     7    19   7.0    NaN\n",
       "7    25    28  15.0    NaN\n",
       "8     6     8   3.0    NaN\n",
       "9     2    24   5.0    NaN\n",
       "0   110   105   NaN  111.0\n",
       "1   120   110   NaN  126.0\n",
       "2   124   107   NaN  120.0\n",
       "3   108   127   NaN  111.0\n",
       "4   125   121   NaN  129.0\n",
       "5   123   116   NaN  118.0\n",
       "6   107   119   NaN  107.0\n",
       "7   125   128   NaN  115.0\n",
       "8   106   108   NaN  103.0\n",
       "9   102   124   NaN  105.0"
      ]
     },
     "execution_count": 50,
     "metadata": {},
     "output_type": "execute_result"
    }
   ],
   "source": [
    "pd.concat([d_f,d_f2])"
   ]
  },
  {
   "cell_type": "markdown",
   "id": "693cf3a5",
   "metadata": {
    "papermill": {
     "duration": 0.094351,
     "end_time": "2022-04-22T09:14:17.152339",
     "exception": false,
     "start_time": "2022-04-22T09:14:17.057988",
     "status": "completed"
    },
    "tags": []
   },
   "source": [
    "<a id=\"21\"></a>\n",
    "\n",
    "### concat(,join=\"inner\")\n",
    "\n",
    "#### Kesişimleri birleştirmek için join argümanını kullanırız."
   ]
  },
  {
   "cell_type": "code",
   "execution_count": 51,
   "id": "837a07b6",
   "metadata": {
    "execution": {
     "iopub.execute_input": "2022-04-22T09:14:17.318124Z",
     "iopub.status.busy": "2022-04-22T09:14:17.317571Z",
     "iopub.status.idle": "2022-04-22T09:14:17.332555Z",
     "shell.execute_reply": "2022-04-22T09:14:17.332086Z",
     "shell.execute_reply.started": "2022-02-10T14:24:08.911509Z"
    },
    "papermill": {
     "duration": 0.098739,
     "end_time": "2022-04-22T09:14:17.332696",
     "exception": false,
     "start_time": "2022-04-22T09:14:17.233957",
     "status": "completed"
    },
    "tags": []
   },
   "outputs": [
    {
     "data": {
      "text/html": [
       "<div>\n",
       "<style scoped>\n",
       "    .dataframe tbody tr th:only-of-type {\n",
       "        vertical-align: middle;\n",
       "    }\n",
       "\n",
       "    .dataframe tbody tr th {\n",
       "        vertical-align: top;\n",
       "    }\n",
       "\n",
       "    .dataframe thead th {\n",
       "        text-align: right;\n",
       "    }\n",
       "</style>\n",
       "<table border=\"1\" class=\"dataframe\">\n",
       "  <thead>\n",
       "    <tr style=\"text-align: right;\">\n",
       "      <th></th>\n",
       "      <th>deg1</th>\n",
       "      <th>deg2</th>\n",
       "    </tr>\n",
       "  </thead>\n",
       "  <tbody>\n",
       "    <tr>\n",
       "      <th>0</th>\n",
       "      <td>10</td>\n",
       "      <td>5</td>\n",
       "    </tr>\n",
       "    <tr>\n",
       "      <th>1</th>\n",
       "      <td>20</td>\n",
       "      <td>10</td>\n",
       "    </tr>\n",
       "    <tr>\n",
       "      <th>2</th>\n",
       "      <td>24</td>\n",
       "      <td>7</td>\n",
       "    </tr>\n",
       "    <tr>\n",
       "      <th>3</th>\n",
       "      <td>8</td>\n",
       "      <td>27</td>\n",
       "    </tr>\n",
       "    <tr>\n",
       "      <th>4</th>\n",
       "      <td>25</td>\n",
       "      <td>21</td>\n",
       "    </tr>\n",
       "    <tr>\n",
       "      <th>5</th>\n",
       "      <td>23</td>\n",
       "      <td>16</td>\n",
       "    </tr>\n",
       "    <tr>\n",
       "      <th>6</th>\n",
       "      <td>7</td>\n",
       "      <td>19</td>\n",
       "    </tr>\n",
       "    <tr>\n",
       "      <th>7</th>\n",
       "      <td>25</td>\n",
       "      <td>28</td>\n",
       "    </tr>\n",
       "    <tr>\n",
       "      <th>8</th>\n",
       "      <td>6</td>\n",
       "      <td>8</td>\n",
       "    </tr>\n",
       "    <tr>\n",
       "      <th>9</th>\n",
       "      <td>2</td>\n",
       "      <td>24</td>\n",
       "    </tr>\n",
       "    <tr>\n",
       "      <th>0</th>\n",
       "      <td>110</td>\n",
       "      <td>105</td>\n",
       "    </tr>\n",
       "    <tr>\n",
       "      <th>1</th>\n",
       "      <td>120</td>\n",
       "      <td>110</td>\n",
       "    </tr>\n",
       "    <tr>\n",
       "      <th>2</th>\n",
       "      <td>124</td>\n",
       "      <td>107</td>\n",
       "    </tr>\n",
       "    <tr>\n",
       "      <th>3</th>\n",
       "      <td>108</td>\n",
       "      <td>127</td>\n",
       "    </tr>\n",
       "    <tr>\n",
       "      <th>4</th>\n",
       "      <td>125</td>\n",
       "      <td>121</td>\n",
       "    </tr>\n",
       "    <tr>\n",
       "      <th>5</th>\n",
       "      <td>123</td>\n",
       "      <td>116</td>\n",
       "    </tr>\n",
       "    <tr>\n",
       "      <th>6</th>\n",
       "      <td>107</td>\n",
       "      <td>119</td>\n",
       "    </tr>\n",
       "    <tr>\n",
       "      <th>7</th>\n",
       "      <td>125</td>\n",
       "      <td>128</td>\n",
       "    </tr>\n",
       "    <tr>\n",
       "      <th>8</th>\n",
       "      <td>106</td>\n",
       "      <td>108</td>\n",
       "    </tr>\n",
       "    <tr>\n",
       "      <th>9</th>\n",
       "      <td>102</td>\n",
       "      <td>124</td>\n",
       "    </tr>\n",
       "  </tbody>\n",
       "</table>\n",
       "</div>"
      ],
      "text/plain": [
       "   deg1  deg2\n",
       "0    10     5\n",
       "1    20    10\n",
       "2    24     7\n",
       "3     8    27\n",
       "4    25    21\n",
       "5    23    16\n",
       "6     7    19\n",
       "7    25    28\n",
       "8     6     8\n",
       "9     2    24\n",
       "0   110   105\n",
       "1   120   110\n",
       "2   124   107\n",
       "3   108   127\n",
       "4   125   121\n",
       "5   123   116\n",
       "6   107   119\n",
       "7   125   128\n",
       "8   106   108\n",
       "9   102   124"
      ]
     },
     "execution_count": 51,
     "metadata": {},
     "output_type": "execute_result"
    }
   ],
   "source": [
    "pd.concat([d_f,d_f2],join=\"inner\")"
   ]
  },
  {
   "cell_type": "markdown",
   "id": "544ab60e",
   "metadata": {
    "papermill": {
     "duration": 0.080639,
     "end_time": "2022-04-22T09:14:17.494792",
     "exception": false,
     "start_time": "2022-04-22T09:14:17.414153",
     "status": "completed"
    },
    "tags": []
   },
   "source": [
    "<a id=\"22\"></a>\n",
    "\n",
    "# İLERİ BİRLEŞTİRME İŞLEMLERİ"
   ]
  },
  {
   "cell_type": "code",
   "execution_count": 52,
   "id": "6d115e79",
   "metadata": {
    "execution": {
     "iopub.execute_input": "2022-04-22T09:14:17.660434Z",
     "iopub.status.busy": "2022-04-22T09:14:17.659770Z",
     "iopub.status.idle": "2022-04-22T09:14:17.668856Z",
     "shell.execute_reply": "2022-04-22T09:14:17.669277Z",
     "shell.execute_reply.started": "2022-02-10T14:26:44.020267Z"
    },
    "papermill": {
     "duration": 0.093255,
     "end_time": "2022-04-22T09:14:17.669467",
     "exception": false,
     "start_time": "2022-04-22T09:14:17.576212",
     "status": "completed"
    },
    "tags": []
   },
   "outputs": [
    {
     "data": {
      "text/html": [
       "<div>\n",
       "<style scoped>\n",
       "    .dataframe tbody tr th:only-of-type {\n",
       "        vertical-align: middle;\n",
       "    }\n",
       "\n",
       "    .dataframe tbody tr th {\n",
       "        vertical-align: top;\n",
       "    }\n",
       "\n",
       "    .dataframe thead th {\n",
       "        text-align: right;\n",
       "    }\n",
       "</style>\n",
       "<table border=\"1\" class=\"dataframe\">\n",
       "  <thead>\n",
       "    <tr style=\"text-align: right;\">\n",
       "      <th></th>\n",
       "      <th>calisanlar</th>\n",
       "      <th>grup</th>\n",
       "    </tr>\n",
       "  </thead>\n",
       "  <tbody>\n",
       "    <tr>\n",
       "      <th>0</th>\n",
       "      <td>Ali</td>\n",
       "      <td>Muhasebe</td>\n",
       "    </tr>\n",
       "    <tr>\n",
       "      <th>1</th>\n",
       "      <td>Veli</td>\n",
       "      <td>Muhendislik</td>\n",
       "    </tr>\n",
       "    <tr>\n",
       "      <th>2</th>\n",
       "      <td>Aysr</td>\n",
       "      <td>Muhendislik</td>\n",
       "    </tr>\n",
       "    <tr>\n",
       "      <th>3</th>\n",
       "      <td>Fatma</td>\n",
       "      <td>İK</td>\n",
       "    </tr>\n",
       "  </tbody>\n",
       "</table>\n",
       "</div>"
      ],
      "text/plain": [
       "  calisanlar         grup\n",
       "0        Ali     Muhasebe\n",
       "1       Veli  Muhendislik\n",
       "2       Aysr  Muhendislik\n",
       "3      Fatma           İK"
      ]
     },
     "execution_count": 52,
     "metadata": {},
     "output_type": "execute_result"
    }
   ],
   "source": [
    "df3=pd.DataFrame({'calisanlar':[\"Ali\",\"Veli\",\"Aysr\",\"Fatma\"],\n",
    "                 \"grup\":[\"Muhasebe\",\"Muhendislik\",\"Muhendislik\",\"İK\"]})\n",
    "df3"
   ]
  },
  {
   "cell_type": "code",
   "execution_count": 53,
   "id": "0288e03f",
   "metadata": {
    "execution": {
     "iopub.execute_input": "2022-04-22T09:14:17.838941Z",
     "iopub.status.busy": "2022-04-22T09:14:17.838387Z",
     "iopub.status.idle": "2022-04-22T09:14:17.846680Z",
     "shell.execute_reply": "2022-04-22T09:14:17.847150Z",
     "shell.execute_reply.started": "2022-02-10T14:40:19.95161Z"
    },
    "papermill": {
     "duration": 0.095205,
     "end_time": "2022-04-22T09:14:17.847325",
     "exception": false,
     "start_time": "2022-04-22T09:14:17.752120",
     "status": "completed"
    },
    "tags": []
   },
   "outputs": [
    {
     "data": {
      "text/html": [
       "<div>\n",
       "<style scoped>\n",
       "    .dataframe tbody tr th:only-of-type {\n",
       "        vertical-align: middle;\n",
       "    }\n",
       "\n",
       "    .dataframe tbody tr th {\n",
       "        vertical-align: top;\n",
       "    }\n",
       "\n",
       "    .dataframe thead th {\n",
       "        text-align: right;\n",
       "    }\n",
       "</style>\n",
       "<table border=\"1\" class=\"dataframe\">\n",
       "  <thead>\n",
       "    <tr style=\"text-align: right;\">\n",
       "      <th></th>\n",
       "      <th>calisanlar</th>\n",
       "      <th>ilk_giris</th>\n",
       "    </tr>\n",
       "  </thead>\n",
       "  <tbody>\n",
       "    <tr>\n",
       "      <th>0</th>\n",
       "      <td>Ali</td>\n",
       "      <td>2010</td>\n",
       "    </tr>\n",
       "    <tr>\n",
       "      <th>1</th>\n",
       "      <td>Veli</td>\n",
       "      <td>2009</td>\n",
       "    </tr>\n",
       "    <tr>\n",
       "      <th>2</th>\n",
       "      <td>Aysr</td>\n",
       "      <td>2014</td>\n",
       "    </tr>\n",
       "    <tr>\n",
       "      <th>3</th>\n",
       "      <td>Fatma</td>\n",
       "      <td>2019</td>\n",
       "    </tr>\n",
       "  </tbody>\n",
       "</table>\n",
       "</div>"
      ],
      "text/plain": [
       "  calisanlar  ilk_giris\n",
       "0        Ali       2010\n",
       "1       Veli       2009\n",
       "2       Aysr       2014\n",
       "3      Fatma       2019"
      ]
     },
     "execution_count": 53,
     "metadata": {},
     "output_type": "execute_result"
    }
   ],
   "source": [
    "df4=pd.DataFrame({'calisanlar':[\"Ali\",\"Veli\",\"Aysr\",\"Fatma\"],\n",
    "                 \"ilk_giris\":[2010,2009,2014,2019]})\n",
    "df4"
   ]
  },
  {
   "cell_type": "markdown",
   "id": "dbd83ddc",
   "metadata": {
    "papermill": {
     "duration": 0.081398,
     "end_time": "2022-04-22T09:14:18.010507",
     "exception": false,
     "start_time": "2022-04-22T09:14:17.929109",
     "status": "completed"
    },
    "tags": []
   },
   "source": [
    "<a id=\"23\"></a>\n",
    "\n",
    "## merge( )"
   ]
  },
  {
   "cell_type": "code",
   "execution_count": 54,
   "id": "3573c1ab",
   "metadata": {
    "execution": {
     "iopub.execute_input": "2022-04-22T09:14:18.180871Z",
     "iopub.status.busy": "2022-04-22T09:14:18.179973Z",
     "iopub.status.idle": "2022-04-22T09:14:18.194170Z",
     "shell.execute_reply": "2022-04-22T09:14:18.194720Z",
     "shell.execute_reply.started": "2022-02-10T14:43:47.064085Z"
    },
    "papermill": {
     "duration": 0.101958,
     "end_time": "2022-04-22T09:14:18.194883",
     "exception": false,
     "start_time": "2022-04-22T09:14:18.092925",
     "status": "completed"
    },
    "tags": []
   },
   "outputs": [
    {
     "data": {
      "text/html": [
       "<div>\n",
       "<style scoped>\n",
       "    .dataframe tbody tr th:only-of-type {\n",
       "        vertical-align: middle;\n",
       "    }\n",
       "\n",
       "    .dataframe tbody tr th {\n",
       "        vertical-align: top;\n",
       "    }\n",
       "\n",
       "    .dataframe thead th {\n",
       "        text-align: right;\n",
       "    }\n",
       "</style>\n",
       "<table border=\"1\" class=\"dataframe\">\n",
       "  <thead>\n",
       "    <tr style=\"text-align: right;\">\n",
       "      <th></th>\n",
       "      <th>calisanlar</th>\n",
       "      <th>grup</th>\n",
       "      <th>ilk_giris</th>\n",
       "    </tr>\n",
       "  </thead>\n",
       "  <tbody>\n",
       "    <tr>\n",
       "      <th>0</th>\n",
       "      <td>Ali</td>\n",
       "      <td>Muhasebe</td>\n",
       "      <td>2010</td>\n",
       "    </tr>\n",
       "    <tr>\n",
       "      <th>1</th>\n",
       "      <td>Veli</td>\n",
       "      <td>Muhendislik</td>\n",
       "      <td>2009</td>\n",
       "    </tr>\n",
       "    <tr>\n",
       "      <th>2</th>\n",
       "      <td>Aysr</td>\n",
       "      <td>Muhendislik</td>\n",
       "      <td>2014</td>\n",
       "    </tr>\n",
       "    <tr>\n",
       "      <th>3</th>\n",
       "      <td>Fatma</td>\n",
       "      <td>İK</td>\n",
       "      <td>2019</td>\n",
       "    </tr>\n",
       "  </tbody>\n",
       "</table>\n",
       "</div>"
      ],
      "text/plain": [
       "  calisanlar         grup  ilk_giris\n",
       "0        Ali     Muhasebe       2010\n",
       "1       Veli  Muhendislik       2009\n",
       "2       Aysr  Muhendislik       2014\n",
       "3      Fatma           İK       2019"
      ]
     },
     "execution_count": 54,
     "metadata": {},
     "output_type": "execute_result"
    }
   ],
   "source": [
    "pd.merge(df3,df4)\n",
    "# calisanlar ortak sütunu ile birleştirdi"
   ]
  },
  {
   "cell_type": "markdown",
   "id": "3d3de3ad",
   "metadata": {
    "papermill": {
     "duration": 0.082579,
     "end_time": "2022-04-22T09:14:18.360087",
     "exception": false,
     "start_time": "2022-04-22T09:14:18.277508",
     "status": "completed"
    },
    "tags": []
   },
   "source": [
    "<a id=\"24\"></a>\n",
    "### MANY to ONE"
   ]
  },
  {
   "cell_type": "code",
   "execution_count": 55,
   "id": "3fb11376",
   "metadata": {
    "execution": {
     "iopub.execute_input": "2022-04-22T09:14:18.528169Z",
     "iopub.status.busy": "2022-04-22T09:14:18.527285Z",
     "iopub.status.idle": "2022-04-22T09:14:18.537893Z",
     "shell.execute_reply": "2022-04-22T09:14:18.538369Z",
     "shell.execute_reply.started": "2022-02-10T14:46:24.369059Z"
    },
    "papermill": {
     "duration": 0.096163,
     "end_time": "2022-04-22T09:14:18.538541",
     "exception": false,
     "start_time": "2022-04-22T09:14:18.442378",
     "status": "completed"
    },
    "tags": []
   },
   "outputs": [
    {
     "data": {
      "text/html": [
       "<div>\n",
       "<style scoped>\n",
       "    .dataframe tbody tr th:only-of-type {\n",
       "        vertical-align: middle;\n",
       "    }\n",
       "\n",
       "    .dataframe tbody tr th {\n",
       "        vertical-align: top;\n",
       "    }\n",
       "\n",
       "    .dataframe thead th {\n",
       "        text-align: right;\n",
       "    }\n",
       "</style>\n",
       "<table border=\"1\" class=\"dataframe\">\n",
       "  <thead>\n",
       "    <tr style=\"text-align: right;\">\n",
       "      <th></th>\n",
       "      <th>calisanlar</th>\n",
       "      <th>grup</th>\n",
       "      <th>ilk_giris</th>\n",
       "    </tr>\n",
       "  </thead>\n",
       "  <tbody>\n",
       "    <tr>\n",
       "      <th>0</th>\n",
       "      <td>Ali</td>\n",
       "      <td>Muhasebe</td>\n",
       "      <td>2010</td>\n",
       "    </tr>\n",
       "    <tr>\n",
       "      <th>1</th>\n",
       "      <td>Veli</td>\n",
       "      <td>Muhendislik</td>\n",
       "      <td>2009</td>\n",
       "    </tr>\n",
       "    <tr>\n",
       "      <th>2</th>\n",
       "      <td>Aysr</td>\n",
       "      <td>Muhendislik</td>\n",
       "      <td>2014</td>\n",
       "    </tr>\n",
       "    <tr>\n",
       "      <th>3</th>\n",
       "      <td>Fatma</td>\n",
       "      <td>İK</td>\n",
       "      <td>2019</td>\n",
       "    </tr>\n",
       "  </tbody>\n",
       "</table>\n",
       "</div>"
      ],
      "text/plain": [
       "  calisanlar         grup  ilk_giris\n",
       "0        Ali     Muhasebe       2010\n",
       "1       Veli  Muhendislik       2009\n",
       "2       Aysr  Muhendislik       2014\n",
       "3      Fatma           İK       2019"
      ]
     },
     "execution_count": 55,
     "metadata": {},
     "output_type": "execute_result"
    }
   ],
   "source": [
    "# MANY (ÇOKLU YAPI)\n",
    "df5=pd.merge(df3,df4)\n",
    "df5"
   ]
  },
  {
   "cell_type": "code",
   "execution_count": 56,
   "id": "d05961f7",
   "metadata": {
    "execution": {
     "iopub.execute_input": "2022-04-22T09:14:18.768093Z",
     "iopub.status.busy": "2022-04-22T09:14:18.767497Z",
     "iopub.status.idle": "2022-04-22T09:14:18.775806Z",
     "shell.execute_reply": "2022-04-22T09:14:18.776396Z",
     "shell.execute_reply.started": "2022-02-10T14:46:49.797319Z"
    },
    "papermill": {
     "duration": 0.094329,
     "end_time": "2022-04-22T09:14:18.776563",
     "exception": false,
     "start_time": "2022-04-22T09:14:18.682234",
     "status": "completed"
    },
    "tags": []
   },
   "outputs": [
    {
     "data": {
      "text/html": [
       "<div>\n",
       "<style scoped>\n",
       "    .dataframe tbody tr th:only-of-type {\n",
       "        vertical-align: middle;\n",
       "    }\n",
       "\n",
       "    .dataframe tbody tr th {\n",
       "        vertical-align: top;\n",
       "    }\n",
       "\n",
       "    .dataframe thead th {\n",
       "        text-align: right;\n",
       "    }\n",
       "</style>\n",
       "<table border=\"1\" class=\"dataframe\">\n",
       "  <thead>\n",
       "    <tr style=\"text-align: right;\">\n",
       "      <th></th>\n",
       "      <th>grup</th>\n",
       "      <th>mudur</th>\n",
       "    </tr>\n",
       "  </thead>\n",
       "  <tbody>\n",
       "    <tr>\n",
       "      <th>0</th>\n",
       "      <td>Muhasebe</td>\n",
       "      <td>Caner</td>\n",
       "    </tr>\n",
       "    <tr>\n",
       "      <th>1</th>\n",
       "      <td>Muhendislik</td>\n",
       "      <td>Mustafa</td>\n",
       "    </tr>\n",
       "    <tr>\n",
       "      <th>2</th>\n",
       "      <td>İK</td>\n",
       "      <td>Berkcan</td>\n",
       "    </tr>\n",
       "  </tbody>\n",
       "</table>\n",
       "</div>"
      ],
      "text/plain": [
       "          grup    mudur\n",
       "0     Muhasebe    Caner\n",
       "1  Muhendislik  Mustafa\n",
       "2           İK  Berkcan"
      ]
     },
     "execution_count": 56,
     "metadata": {},
     "output_type": "execute_result"
    }
   ],
   "source": [
    "# ONE (TEKLİ YAPI)\n",
    "df6=pd.DataFrame({\"grup\":[\"Muhasebe\",\"Muhendislik\",\"İK\"],\n",
    "                 \"mudur\":[\"Caner\",\"Mustafa\",\"Berkcan\"]})\n",
    "df6"
   ]
  },
  {
   "cell_type": "code",
   "execution_count": 57,
   "id": "611b974b",
   "metadata": {
    "execution": {
     "iopub.execute_input": "2022-04-22T09:14:18.947876Z",
     "iopub.status.busy": "2022-04-22T09:14:18.947222Z",
     "iopub.status.idle": "2022-04-22T09:14:18.958263Z",
     "shell.execute_reply": "2022-04-22T09:14:18.958793Z",
     "shell.execute_reply.started": "2022-02-10T14:47:21.771745Z"
    },
    "papermill": {
     "duration": 0.09812,
     "end_time": "2022-04-22T09:14:18.958951",
     "exception": false,
     "start_time": "2022-04-22T09:14:18.860831",
     "status": "completed"
    },
    "tags": []
   },
   "outputs": [
    {
     "data": {
      "text/html": [
       "<div>\n",
       "<style scoped>\n",
       "    .dataframe tbody tr th:only-of-type {\n",
       "        vertical-align: middle;\n",
       "    }\n",
       "\n",
       "    .dataframe tbody tr th {\n",
       "        vertical-align: top;\n",
       "    }\n",
       "\n",
       "    .dataframe thead th {\n",
       "        text-align: right;\n",
       "    }\n",
       "</style>\n",
       "<table border=\"1\" class=\"dataframe\">\n",
       "  <thead>\n",
       "    <tr style=\"text-align: right;\">\n",
       "      <th></th>\n",
       "      <th>calisanlar</th>\n",
       "      <th>grup</th>\n",
       "      <th>ilk_giris</th>\n",
       "      <th>mudur</th>\n",
       "    </tr>\n",
       "  </thead>\n",
       "  <tbody>\n",
       "    <tr>\n",
       "      <th>0</th>\n",
       "      <td>Ali</td>\n",
       "      <td>Muhasebe</td>\n",
       "      <td>2010</td>\n",
       "      <td>Caner</td>\n",
       "    </tr>\n",
       "    <tr>\n",
       "      <th>1</th>\n",
       "      <td>Veli</td>\n",
       "      <td>Muhendislik</td>\n",
       "      <td>2009</td>\n",
       "      <td>Mustafa</td>\n",
       "    </tr>\n",
       "    <tr>\n",
       "      <th>2</th>\n",
       "      <td>Aysr</td>\n",
       "      <td>Muhendislik</td>\n",
       "      <td>2014</td>\n",
       "      <td>Mustafa</td>\n",
       "    </tr>\n",
       "    <tr>\n",
       "      <th>3</th>\n",
       "      <td>Fatma</td>\n",
       "      <td>İK</td>\n",
       "      <td>2019</td>\n",
       "      <td>Berkcan</td>\n",
       "    </tr>\n",
       "  </tbody>\n",
       "</table>\n",
       "</div>"
      ],
      "text/plain": [
       "  calisanlar         grup  ilk_giris    mudur\n",
       "0        Ali     Muhasebe       2010    Caner\n",
       "1       Veli  Muhendislik       2009  Mustafa\n",
       "2       Aysr  Muhendislik       2014  Mustafa\n",
       "3      Fatma           İK       2019  Berkcan"
      ]
     },
     "execution_count": 57,
     "metadata": {},
     "output_type": "execute_result"
    }
   ],
   "source": [
    "pd.merge(df5,df6)"
   ]
  },
  {
   "cell_type": "markdown",
   "id": "d55a8ff0",
   "metadata": {
    "papermill": {
     "duration": 0.083064,
     "end_time": "2022-04-22T09:14:19.125585",
     "exception": false,
     "start_time": "2022-04-22T09:14:19.042521",
     "status": "completed"
    },
    "tags": []
   },
   "source": [
    "<a id=\"25\"></a>\n",
    "### MANY to MANY"
   ]
  },
  {
   "cell_type": "code",
   "execution_count": 58,
   "id": "91e12272",
   "metadata": {
    "execution": {
     "iopub.execute_input": "2022-04-22T09:14:19.296688Z",
     "iopub.status.busy": "2022-04-22T09:14:19.296059Z",
     "iopub.status.idle": "2022-04-22T09:14:19.305888Z",
     "shell.execute_reply": "2022-04-22T09:14:19.305341Z",
     "shell.execute_reply.started": "2022-02-10T14:48:26.564874Z"
    },
    "papermill": {
     "duration": 0.095957,
     "end_time": "2022-04-22T09:14:19.306027",
     "exception": false,
     "start_time": "2022-04-22T09:14:19.210070",
     "status": "completed"
    },
    "tags": []
   },
   "outputs": [
    {
     "data": {
      "text/html": [
       "<div>\n",
       "<style scoped>\n",
       "    .dataframe tbody tr th:only-of-type {\n",
       "        vertical-align: middle;\n",
       "    }\n",
       "\n",
       "    .dataframe tbody tr th {\n",
       "        vertical-align: top;\n",
       "    }\n",
       "\n",
       "    .dataframe thead th {\n",
       "        text-align: right;\n",
       "    }\n",
       "</style>\n",
       "<table border=\"1\" class=\"dataframe\">\n",
       "  <thead>\n",
       "    <tr style=\"text-align: right;\">\n",
       "      <th></th>\n",
       "      <th>grup</th>\n",
       "      <th>yetenekler</th>\n",
       "    </tr>\n",
       "  </thead>\n",
       "  <tbody>\n",
       "    <tr>\n",
       "      <th>0</th>\n",
       "      <td>Muhasebe</td>\n",
       "      <td>matematik</td>\n",
       "    </tr>\n",
       "    <tr>\n",
       "      <th>1</th>\n",
       "      <td>Muhasebe</td>\n",
       "      <td>excel</td>\n",
       "    </tr>\n",
       "    <tr>\n",
       "      <th>2</th>\n",
       "      <td>Muhendislik</td>\n",
       "      <td>kodlama</td>\n",
       "    </tr>\n",
       "    <tr>\n",
       "      <th>3</th>\n",
       "      <td>Muhendislik</td>\n",
       "      <td>linux</td>\n",
       "    </tr>\n",
       "    <tr>\n",
       "      <th>4</th>\n",
       "      <td>İK</td>\n",
       "      <td>excel</td>\n",
       "    </tr>\n",
       "    <tr>\n",
       "      <th>5</th>\n",
       "      <td>İK</td>\n",
       "      <td>yonetim</td>\n",
       "    </tr>\n",
       "  </tbody>\n",
       "</table>\n",
       "</div>"
      ],
      "text/plain": [
       "          grup yetenekler\n",
       "0     Muhasebe  matematik\n",
       "1     Muhasebe      excel\n",
       "2  Muhendislik    kodlama\n",
       "3  Muhendislik      linux\n",
       "4           İK      excel\n",
       "5           İK    yonetim"
      ]
     },
     "execution_count": 58,
     "metadata": {},
     "output_type": "execute_result"
    }
   ],
   "source": [
    "df7=pd.DataFrame({\"grup\":[\"Muhasebe\",\"Muhasebe\",\"Muhendislik\",\"Muhendislik\",\"İK\",\"İK\"],\n",
    "                 \"yetenekler\":[\"matematik\",\"excel\",\"kodlama\",\"linux\",\"excel\",\"yonetim\"]})\n",
    "df7"
   ]
  },
  {
   "cell_type": "code",
   "execution_count": 59,
   "id": "a7e0cc50",
   "metadata": {
    "execution": {
     "iopub.execute_input": "2022-04-22T09:14:19.486355Z",
     "iopub.status.busy": "2022-04-22T09:14:19.485752Z",
     "iopub.status.idle": "2022-04-22T09:14:19.489710Z",
     "shell.execute_reply": "2022-04-22T09:14:19.489237Z",
     "shell.execute_reply.started": "2022-02-10T14:48:37.293773Z"
    },
    "papermill": {
     "duration": 0.099853,
     "end_time": "2022-04-22T09:14:19.489838",
     "exception": false,
     "start_time": "2022-04-22T09:14:19.389985",
     "status": "completed"
    },
    "tags": []
   },
   "outputs": [
    {
     "data": {
      "text/html": [
       "<div>\n",
       "<style scoped>\n",
       "    .dataframe tbody tr th:only-of-type {\n",
       "        vertical-align: middle;\n",
       "    }\n",
       "\n",
       "    .dataframe tbody tr th {\n",
       "        vertical-align: top;\n",
       "    }\n",
       "\n",
       "    .dataframe thead th {\n",
       "        text-align: right;\n",
       "    }\n",
       "</style>\n",
       "<table border=\"1\" class=\"dataframe\">\n",
       "  <thead>\n",
       "    <tr style=\"text-align: right;\">\n",
       "      <th></th>\n",
       "      <th>calisanlar</th>\n",
       "      <th>grup</th>\n",
       "      <th>ilk_giris</th>\n",
       "      <th>yetenekler</th>\n",
       "    </tr>\n",
       "  </thead>\n",
       "  <tbody>\n",
       "    <tr>\n",
       "      <th>0</th>\n",
       "      <td>Ali</td>\n",
       "      <td>Muhasebe</td>\n",
       "      <td>2010</td>\n",
       "      <td>matematik</td>\n",
       "    </tr>\n",
       "    <tr>\n",
       "      <th>1</th>\n",
       "      <td>Ali</td>\n",
       "      <td>Muhasebe</td>\n",
       "      <td>2010</td>\n",
       "      <td>excel</td>\n",
       "    </tr>\n",
       "    <tr>\n",
       "      <th>2</th>\n",
       "      <td>Veli</td>\n",
       "      <td>Muhendislik</td>\n",
       "      <td>2009</td>\n",
       "      <td>kodlama</td>\n",
       "    </tr>\n",
       "    <tr>\n",
       "      <th>3</th>\n",
       "      <td>Veli</td>\n",
       "      <td>Muhendislik</td>\n",
       "      <td>2009</td>\n",
       "      <td>linux</td>\n",
       "    </tr>\n",
       "    <tr>\n",
       "      <th>4</th>\n",
       "      <td>Aysr</td>\n",
       "      <td>Muhendislik</td>\n",
       "      <td>2014</td>\n",
       "      <td>kodlama</td>\n",
       "    </tr>\n",
       "    <tr>\n",
       "      <th>5</th>\n",
       "      <td>Aysr</td>\n",
       "      <td>Muhendislik</td>\n",
       "      <td>2014</td>\n",
       "      <td>linux</td>\n",
       "    </tr>\n",
       "    <tr>\n",
       "      <th>6</th>\n",
       "      <td>Fatma</td>\n",
       "      <td>İK</td>\n",
       "      <td>2019</td>\n",
       "      <td>excel</td>\n",
       "    </tr>\n",
       "    <tr>\n",
       "      <th>7</th>\n",
       "      <td>Fatma</td>\n",
       "      <td>İK</td>\n",
       "      <td>2019</td>\n",
       "      <td>yonetim</td>\n",
       "    </tr>\n",
       "  </tbody>\n",
       "</table>\n",
       "</div>"
      ],
      "text/plain": [
       "  calisanlar         grup  ilk_giris yetenekler\n",
       "0        Ali     Muhasebe       2010  matematik\n",
       "1        Ali     Muhasebe       2010      excel\n",
       "2       Veli  Muhendislik       2009    kodlama\n",
       "3       Veli  Muhendislik       2009      linux\n",
       "4       Aysr  Muhendislik       2014    kodlama\n",
       "5       Aysr  Muhendislik       2014      linux\n",
       "6      Fatma           İK       2019      excel\n",
       "7      Fatma           İK       2019    yonetim"
      ]
     },
     "execution_count": 59,
     "metadata": {},
     "output_type": "execute_result"
    }
   ],
   "source": [
    "pd.merge(df5,df7)"
   ]
  },
  {
   "cell_type": "markdown",
   "id": "981cf32f",
   "metadata": {
    "papermill": {
     "duration": 0.084391,
     "end_time": "2022-04-22T09:14:19.658832",
     "exception": false,
     "start_time": "2022-04-22T09:14:19.574441",
     "status": "completed"
    },
    "tags": []
   },
   "source": [
    "<a id=\"26\"></a>\n",
    "# AGGREGATION (Toplulaştırma)"
   ]
  },
  {
   "cell_type": "markdown",
   "id": "caf3ed43",
   "metadata": {
    "papermill": {
     "duration": 0.084443,
     "end_time": "2022-04-22T09:14:19.827982",
     "exception": false,
     "start_time": "2022-04-22T09:14:19.743539",
     "status": "completed"
    },
    "tags": []
   },
   "source": [
    "## Basit Toplulaştırma Fonksiyonları (Aggregation Function)\n",
    "\n",
    "* count()\n",
    "* first()\n",
    "* last()\n",
    "* mean()\n",
    "* median()\n",
    "* min()\n",
    "* max()\n",
    "* std()\n",
    "* var()\n",
    "* sum()"
   ]
  },
  {
   "cell_type": "code",
   "execution_count": 60,
   "id": "8854bee5",
   "metadata": {
    "execution": {
     "iopub.execute_input": "2022-04-22T09:14:20.003199Z",
     "iopub.status.busy": "2022-04-22T09:14:20.002575Z",
     "iopub.status.idle": "2022-04-22T09:14:22.267842Z",
     "shell.execute_reply": "2022-04-22T09:14:22.267350Z",
     "shell.execute_reply.started": "2022-02-10T16:14:13.804459Z"
    },
    "papermill": {
     "duration": 2.355123,
     "end_time": "2022-04-22T09:14:22.267974",
     "exception": false,
     "start_time": "2022-04-22T09:14:19.912851",
     "status": "completed"
    },
    "tags": []
   },
   "outputs": [
    {
     "data": {
      "text/html": [
       "<div>\n",
       "<style scoped>\n",
       "    .dataframe tbody tr th:only-of-type {\n",
       "        vertical-align: middle;\n",
       "    }\n",
       "\n",
       "    .dataframe tbody tr th {\n",
       "        vertical-align: top;\n",
       "    }\n",
       "\n",
       "    .dataframe thead th {\n",
       "        text-align: right;\n",
       "    }\n",
       "</style>\n",
       "<table border=\"1\" class=\"dataframe\">\n",
       "  <thead>\n",
       "    <tr style=\"text-align: right;\">\n",
       "      <th></th>\n",
       "      <th>method</th>\n",
       "      <th>number</th>\n",
       "      <th>orbital_period</th>\n",
       "      <th>mass</th>\n",
       "      <th>distance</th>\n",
       "      <th>year</th>\n",
       "    </tr>\n",
       "  </thead>\n",
       "  <tbody>\n",
       "    <tr>\n",
       "      <th>0</th>\n",
       "      <td>Radial Velocity</td>\n",
       "      <td>1</td>\n",
       "      <td>269.300000</td>\n",
       "      <td>7.10</td>\n",
       "      <td>77.40</td>\n",
       "      <td>2006</td>\n",
       "    </tr>\n",
       "    <tr>\n",
       "      <th>1</th>\n",
       "      <td>Radial Velocity</td>\n",
       "      <td>1</td>\n",
       "      <td>874.774000</td>\n",
       "      <td>2.21</td>\n",
       "      <td>56.95</td>\n",
       "      <td>2008</td>\n",
       "    </tr>\n",
       "    <tr>\n",
       "      <th>2</th>\n",
       "      <td>Radial Velocity</td>\n",
       "      <td>1</td>\n",
       "      <td>763.000000</td>\n",
       "      <td>2.60</td>\n",
       "      <td>19.84</td>\n",
       "      <td>2011</td>\n",
       "    </tr>\n",
       "    <tr>\n",
       "      <th>3</th>\n",
       "      <td>Radial Velocity</td>\n",
       "      <td>1</td>\n",
       "      <td>326.030000</td>\n",
       "      <td>19.40</td>\n",
       "      <td>110.62</td>\n",
       "      <td>2007</td>\n",
       "    </tr>\n",
       "    <tr>\n",
       "      <th>4</th>\n",
       "      <td>Radial Velocity</td>\n",
       "      <td>1</td>\n",
       "      <td>516.220000</td>\n",
       "      <td>10.50</td>\n",
       "      <td>119.47</td>\n",
       "      <td>2009</td>\n",
       "    </tr>\n",
       "    <tr>\n",
       "      <th>...</th>\n",
       "      <td>...</td>\n",
       "      <td>...</td>\n",
       "      <td>...</td>\n",
       "      <td>...</td>\n",
       "      <td>...</td>\n",
       "      <td>...</td>\n",
       "    </tr>\n",
       "    <tr>\n",
       "      <th>1030</th>\n",
       "      <td>Transit</td>\n",
       "      <td>1</td>\n",
       "      <td>3.941507</td>\n",
       "      <td>NaN</td>\n",
       "      <td>172.00</td>\n",
       "      <td>2006</td>\n",
       "    </tr>\n",
       "    <tr>\n",
       "      <th>1031</th>\n",
       "      <td>Transit</td>\n",
       "      <td>1</td>\n",
       "      <td>2.615864</td>\n",
       "      <td>NaN</td>\n",
       "      <td>148.00</td>\n",
       "      <td>2007</td>\n",
       "    </tr>\n",
       "    <tr>\n",
       "      <th>1032</th>\n",
       "      <td>Transit</td>\n",
       "      <td>1</td>\n",
       "      <td>3.191524</td>\n",
       "      <td>NaN</td>\n",
       "      <td>174.00</td>\n",
       "      <td>2007</td>\n",
       "    </tr>\n",
       "    <tr>\n",
       "      <th>1033</th>\n",
       "      <td>Transit</td>\n",
       "      <td>1</td>\n",
       "      <td>4.125083</td>\n",
       "      <td>NaN</td>\n",
       "      <td>293.00</td>\n",
       "      <td>2008</td>\n",
       "    </tr>\n",
       "    <tr>\n",
       "      <th>1034</th>\n",
       "      <td>Transit</td>\n",
       "      <td>1</td>\n",
       "      <td>4.187757</td>\n",
       "      <td>NaN</td>\n",
       "      <td>260.00</td>\n",
       "      <td>2008</td>\n",
       "    </tr>\n",
       "  </tbody>\n",
       "</table>\n",
       "<p>1035 rows × 6 columns</p>\n",
       "</div>"
      ],
      "text/plain": [
       "               method  number  orbital_period   mass  distance  year\n",
       "0     Radial Velocity       1      269.300000   7.10     77.40  2006\n",
       "1     Radial Velocity       1      874.774000   2.21     56.95  2008\n",
       "2     Radial Velocity       1      763.000000   2.60     19.84  2011\n",
       "3     Radial Velocity       1      326.030000  19.40    110.62  2007\n",
       "4     Radial Velocity       1      516.220000  10.50    119.47  2009\n",
       "...               ...     ...             ...    ...       ...   ...\n",
       "1030          Transit       1        3.941507    NaN    172.00  2006\n",
       "1031          Transit       1        2.615864    NaN    148.00  2007\n",
       "1032          Transit       1        3.191524    NaN    174.00  2007\n",
       "1033          Transit       1        4.125083    NaN    293.00  2008\n",
       "1034          Transit       1        4.187757    NaN    260.00  2008\n",
       "\n",
       "[1035 rows x 6 columns]"
      ]
     },
     "execution_count": 60,
     "metadata": {},
     "output_type": "execute_result"
    }
   ],
   "source": [
    "import seaborn as sns\n",
    "dataFrame=sns.load_dataset(\"planets\")\n",
    "dataFrame"
   ]
  },
  {
   "cell_type": "code",
   "execution_count": 61,
   "id": "73fdc064",
   "metadata": {
    "execution": {
     "iopub.execute_input": "2022-04-22T09:14:22.441968Z",
     "iopub.status.busy": "2022-04-22T09:14:22.441371Z",
     "iopub.status.idle": "2022-04-22T09:14:22.451406Z",
     "shell.execute_reply": "2022-04-22T09:14:22.451926Z",
     "shell.execute_reply.started": "2022-02-10T16:14:17.696082Z"
    },
    "papermill": {
     "duration": 0.098093,
     "end_time": "2022-04-22T09:14:22.452098",
     "exception": false,
     "start_time": "2022-04-22T09:14:22.354005",
     "status": "completed"
    },
    "tags": []
   },
   "outputs": [
    {
     "data": {
      "text/html": [
       "<div>\n",
       "<style scoped>\n",
       "    .dataframe tbody tr th:only-of-type {\n",
       "        vertical-align: middle;\n",
       "    }\n",
       "\n",
       "    .dataframe tbody tr th {\n",
       "        vertical-align: top;\n",
       "    }\n",
       "\n",
       "    .dataframe thead th {\n",
       "        text-align: right;\n",
       "    }\n",
       "</style>\n",
       "<table border=\"1\" class=\"dataframe\">\n",
       "  <thead>\n",
       "    <tr style=\"text-align: right;\">\n",
       "      <th></th>\n",
       "      <th>method</th>\n",
       "      <th>number</th>\n",
       "      <th>orbital_period</th>\n",
       "      <th>mass</th>\n",
       "      <th>distance</th>\n",
       "      <th>year</th>\n",
       "    </tr>\n",
       "  </thead>\n",
       "  <tbody>\n",
       "    <tr>\n",
       "      <th>0</th>\n",
       "      <td>Radial Velocity</td>\n",
       "      <td>1</td>\n",
       "      <td>269.300</td>\n",
       "      <td>7.10</td>\n",
       "      <td>77.40</td>\n",
       "      <td>2006</td>\n",
       "    </tr>\n",
       "    <tr>\n",
       "      <th>1</th>\n",
       "      <td>Radial Velocity</td>\n",
       "      <td>1</td>\n",
       "      <td>874.774</td>\n",
       "      <td>2.21</td>\n",
       "      <td>56.95</td>\n",
       "      <td>2008</td>\n",
       "    </tr>\n",
       "    <tr>\n",
       "      <th>2</th>\n",
       "      <td>Radial Velocity</td>\n",
       "      <td>1</td>\n",
       "      <td>763.000</td>\n",
       "      <td>2.60</td>\n",
       "      <td>19.84</td>\n",
       "      <td>2011</td>\n",
       "    </tr>\n",
       "    <tr>\n",
       "      <th>3</th>\n",
       "      <td>Radial Velocity</td>\n",
       "      <td>1</td>\n",
       "      <td>326.030</td>\n",
       "      <td>19.40</td>\n",
       "      <td>110.62</td>\n",
       "      <td>2007</td>\n",
       "    </tr>\n",
       "    <tr>\n",
       "      <th>4</th>\n",
       "      <td>Radial Velocity</td>\n",
       "      <td>1</td>\n",
       "      <td>516.220</td>\n",
       "      <td>10.50</td>\n",
       "      <td>119.47</td>\n",
       "      <td>2009</td>\n",
       "    </tr>\n",
       "  </tbody>\n",
       "</table>\n",
       "</div>"
      ],
      "text/plain": [
       "            method  number  orbital_period   mass  distance  year\n",
       "0  Radial Velocity       1         269.300   7.10     77.40  2006\n",
       "1  Radial Velocity       1         874.774   2.21     56.95  2008\n",
       "2  Radial Velocity       1         763.000   2.60     19.84  2011\n",
       "3  Radial Velocity       1         326.030  19.40    110.62  2007\n",
       "4  Radial Velocity       1         516.220  10.50    119.47  2009"
      ]
     },
     "execution_count": 61,
     "metadata": {},
     "output_type": "execute_result"
    }
   ],
   "source": [
    "dataFrame.head()"
   ]
  },
  {
   "cell_type": "code",
   "execution_count": 62,
   "id": "f70061cd",
   "metadata": {
    "execution": {
     "iopub.execute_input": "2022-04-22T09:14:22.625403Z",
     "iopub.status.busy": "2022-04-22T09:14:22.624755Z",
     "iopub.status.idle": "2022-04-22T09:14:22.633780Z",
     "shell.execute_reply": "2022-04-22T09:14:22.633201Z",
     "shell.execute_reply.started": "2022-02-10T16:14:29.457628Z"
    },
    "papermill": {
     "duration": 0.097101,
     "end_time": "2022-04-22T09:14:22.633911",
     "exception": false,
     "start_time": "2022-04-22T09:14:22.536810",
     "status": "completed"
    },
    "tags": []
   },
   "outputs": [
    {
     "name": "stderr",
     "output_type": "stream",
     "text": [
      "/opt/conda/lib/python3.7/site-packages/ipykernel_launcher.py:1: FutureWarning: Dropping of nuisance columns in DataFrame reductions (with 'numeric_only=None') is deprecated; in a future version this will raise TypeError.  Select only valid columns before calling the reduction.\n",
      "  \"\"\"Entry point for launching an IPython kernel.\n"
     ]
    },
    {
     "data": {
      "text/plain": [
       "number               1.785507\n",
       "orbital_period    2002.917596\n",
       "mass                 2.638161\n",
       "distance           264.069282\n",
       "year              2009.070531\n",
       "dtype: float64"
      ]
     },
     "execution_count": 62,
     "metadata": {},
     "output_type": "execute_result"
    }
   ],
   "source": [
    "dataFrame.mean()"
   ]
  },
  {
   "cell_type": "code",
   "execution_count": 63,
   "id": "429a265f",
   "metadata": {
    "execution": {
     "iopub.execute_input": "2022-04-22T09:14:22.812027Z",
     "iopub.status.busy": "2022-04-22T09:14:22.811068Z",
     "iopub.status.idle": "2022-04-22T09:14:22.814808Z",
     "shell.execute_reply": "2022-04-22T09:14:22.815354Z",
     "shell.execute_reply.started": "2022-02-10T16:14:48.36161Z"
    },
    "papermill": {
     "duration": 0.095616,
     "end_time": "2022-04-22T09:14:22.815513",
     "exception": false,
     "start_time": "2022-04-22T09:14:22.719897",
     "status": "completed"
    },
    "tags": []
   },
   "outputs": [
    {
     "data": {
      "text/plain": [
       "0.0036"
      ]
     },
     "execution_count": 63,
     "metadata": {},
     "output_type": "execute_result"
    }
   ],
   "source": [
    "dataFrame[\"mass\"].min()"
   ]
  },
  {
   "cell_type": "code",
   "execution_count": 64,
   "id": "2490b9f7",
   "metadata": {
    "execution": {
     "iopub.execute_input": "2022-04-22T09:14:22.993622Z",
     "iopub.status.busy": "2022-04-22T09:14:22.992684Z",
     "iopub.status.idle": "2022-04-22T09:14:22.998920Z",
     "shell.execute_reply": "2022-04-22T09:14:22.999487Z",
     "shell.execute_reply.started": "2022-02-10T16:15:17.650358Z"
    },
    "papermill": {
     "duration": 0.097934,
     "end_time": "2022-04-22T09:14:22.999653",
     "exception": false,
     "start_time": "2022-04-22T09:14:22.901719",
     "status": "completed"
    },
    "tags": []
   },
   "outputs": [
    {
     "data": {
      "text/plain": [
       "26014.72830406252"
      ]
     },
     "execution_count": 64,
     "metadata": {},
     "output_type": "execute_result"
    }
   ],
   "source": [
    "dataFrame[\"orbital_period\"].std()"
   ]
  },
  {
   "cell_type": "code",
   "execution_count": 65,
   "id": "7c98f0a9",
   "metadata": {
    "execution": {
     "iopub.execute_input": "2022-04-22T09:14:23.186762Z",
     "iopub.status.busy": "2022-04-22T09:14:23.185658Z",
     "iopub.status.idle": "2022-04-22T09:14:23.206939Z",
     "shell.execute_reply": "2022-04-22T09:14:23.207444Z",
     "shell.execute_reply.started": "2022-02-10T16:15:35.041778Z"
    },
    "papermill": {
     "duration": 0.118339,
     "end_time": "2022-04-22T09:14:23.207609",
     "exception": false,
     "start_time": "2022-04-22T09:14:23.089270",
     "status": "completed"
    },
    "tags": []
   },
   "outputs": [
    {
     "data": {
      "text/html": [
       "<div>\n",
       "<style scoped>\n",
       "    .dataframe tbody tr th:only-of-type {\n",
       "        vertical-align: middle;\n",
       "    }\n",
       "\n",
       "    .dataframe tbody tr th {\n",
       "        vertical-align: top;\n",
       "    }\n",
       "\n",
       "    .dataframe thead th {\n",
       "        text-align: right;\n",
       "    }\n",
       "</style>\n",
       "<table border=\"1\" class=\"dataframe\">\n",
       "  <thead>\n",
       "    <tr style=\"text-align: right;\">\n",
       "      <th></th>\n",
       "      <th>number</th>\n",
       "      <th>orbital_period</th>\n",
       "      <th>mass</th>\n",
       "      <th>distance</th>\n",
       "      <th>year</th>\n",
       "    </tr>\n",
       "  </thead>\n",
       "  <tbody>\n",
       "    <tr>\n",
       "      <th>count</th>\n",
       "      <td>1035.000000</td>\n",
       "      <td>992.000000</td>\n",
       "      <td>513.000000</td>\n",
       "      <td>808.000000</td>\n",
       "      <td>1035.000000</td>\n",
       "    </tr>\n",
       "    <tr>\n",
       "      <th>mean</th>\n",
       "      <td>1.785507</td>\n",
       "      <td>2002.917596</td>\n",
       "      <td>2.638161</td>\n",
       "      <td>264.069282</td>\n",
       "      <td>2009.070531</td>\n",
       "    </tr>\n",
       "    <tr>\n",
       "      <th>std</th>\n",
       "      <td>1.240976</td>\n",
       "      <td>26014.728304</td>\n",
       "      <td>3.818617</td>\n",
       "      <td>733.116493</td>\n",
       "      <td>3.972567</td>\n",
       "    </tr>\n",
       "    <tr>\n",
       "      <th>min</th>\n",
       "      <td>1.000000</td>\n",
       "      <td>0.090706</td>\n",
       "      <td>0.003600</td>\n",
       "      <td>1.350000</td>\n",
       "      <td>1989.000000</td>\n",
       "    </tr>\n",
       "    <tr>\n",
       "      <th>25%</th>\n",
       "      <td>1.000000</td>\n",
       "      <td>5.442540</td>\n",
       "      <td>0.229000</td>\n",
       "      <td>32.560000</td>\n",
       "      <td>2007.000000</td>\n",
       "    </tr>\n",
       "    <tr>\n",
       "      <th>50%</th>\n",
       "      <td>1.000000</td>\n",
       "      <td>39.979500</td>\n",
       "      <td>1.260000</td>\n",
       "      <td>55.250000</td>\n",
       "      <td>2010.000000</td>\n",
       "    </tr>\n",
       "    <tr>\n",
       "      <th>75%</th>\n",
       "      <td>2.000000</td>\n",
       "      <td>526.005000</td>\n",
       "      <td>3.040000</td>\n",
       "      <td>178.500000</td>\n",
       "      <td>2012.000000</td>\n",
       "    </tr>\n",
       "    <tr>\n",
       "      <th>max</th>\n",
       "      <td>7.000000</td>\n",
       "      <td>730000.000000</td>\n",
       "      <td>25.000000</td>\n",
       "      <td>8500.000000</td>\n",
       "      <td>2014.000000</td>\n",
       "    </tr>\n",
       "  </tbody>\n",
       "</table>\n",
       "</div>"
      ],
      "text/plain": [
       "            number  orbital_period        mass     distance         year\n",
       "count  1035.000000      992.000000  513.000000   808.000000  1035.000000\n",
       "mean      1.785507     2002.917596    2.638161   264.069282  2009.070531\n",
       "std       1.240976    26014.728304    3.818617   733.116493     3.972567\n",
       "min       1.000000        0.090706    0.003600     1.350000  1989.000000\n",
       "25%       1.000000        5.442540    0.229000    32.560000  2007.000000\n",
       "50%       1.000000       39.979500    1.260000    55.250000  2010.000000\n",
       "75%       2.000000      526.005000    3.040000   178.500000  2012.000000\n",
       "max       7.000000   730000.000000   25.000000  8500.000000  2014.000000"
      ]
     },
     "execution_count": 65,
     "metadata": {},
     "output_type": "execute_result"
    }
   ],
   "source": [
    "dataFrame.describe()"
   ]
  },
  {
   "cell_type": "code",
   "execution_count": 66,
   "id": "4e9c5662",
   "metadata": {
    "execution": {
     "iopub.execute_input": "2022-04-22T09:14:23.385852Z",
     "iopub.status.busy": "2022-04-22T09:14:23.384953Z",
     "iopub.status.idle": "2022-04-22T09:14:23.408674Z",
     "shell.execute_reply": "2022-04-22T09:14:23.409066Z",
     "shell.execute_reply.started": "2022-02-10T16:15:44.791337Z"
    },
    "papermill": {
     "duration": 0.114434,
     "end_time": "2022-04-22T09:14:23.409231",
     "exception": false,
     "start_time": "2022-04-22T09:14:23.294797",
     "status": "completed"
    },
    "tags": []
   },
   "outputs": [
    {
     "data": {
      "text/html": [
       "<div>\n",
       "<style scoped>\n",
       "    .dataframe tbody tr th:only-of-type {\n",
       "        vertical-align: middle;\n",
       "    }\n",
       "\n",
       "    .dataframe tbody tr th {\n",
       "        vertical-align: top;\n",
       "    }\n",
       "\n",
       "    .dataframe thead th {\n",
       "        text-align: right;\n",
       "    }\n",
       "</style>\n",
       "<table border=\"1\" class=\"dataframe\">\n",
       "  <thead>\n",
       "    <tr style=\"text-align: right;\">\n",
       "      <th></th>\n",
       "      <th>count</th>\n",
       "      <th>mean</th>\n",
       "      <th>std</th>\n",
       "      <th>min</th>\n",
       "      <th>25%</th>\n",
       "      <th>50%</th>\n",
       "      <th>75%</th>\n",
       "      <th>max</th>\n",
       "    </tr>\n",
       "  </thead>\n",
       "  <tbody>\n",
       "    <tr>\n",
       "      <th>number</th>\n",
       "      <td>1035.0</td>\n",
       "      <td>1.785507</td>\n",
       "      <td>1.240976</td>\n",
       "      <td>1.000000</td>\n",
       "      <td>1.00000</td>\n",
       "      <td>1.0000</td>\n",
       "      <td>2.000</td>\n",
       "      <td>7.0</td>\n",
       "    </tr>\n",
       "    <tr>\n",
       "      <th>orbital_period</th>\n",
       "      <td>992.0</td>\n",
       "      <td>2002.917596</td>\n",
       "      <td>26014.728304</td>\n",
       "      <td>0.090706</td>\n",
       "      <td>5.44254</td>\n",
       "      <td>39.9795</td>\n",
       "      <td>526.005</td>\n",
       "      <td>730000.0</td>\n",
       "    </tr>\n",
       "    <tr>\n",
       "      <th>mass</th>\n",
       "      <td>513.0</td>\n",
       "      <td>2.638161</td>\n",
       "      <td>3.818617</td>\n",
       "      <td>0.003600</td>\n",
       "      <td>0.22900</td>\n",
       "      <td>1.2600</td>\n",
       "      <td>3.040</td>\n",
       "      <td>25.0</td>\n",
       "    </tr>\n",
       "    <tr>\n",
       "      <th>distance</th>\n",
       "      <td>808.0</td>\n",
       "      <td>264.069282</td>\n",
       "      <td>733.116493</td>\n",
       "      <td>1.350000</td>\n",
       "      <td>32.56000</td>\n",
       "      <td>55.2500</td>\n",
       "      <td>178.500</td>\n",
       "      <td>8500.0</td>\n",
       "    </tr>\n",
       "    <tr>\n",
       "      <th>year</th>\n",
       "      <td>1035.0</td>\n",
       "      <td>2009.070531</td>\n",
       "      <td>3.972567</td>\n",
       "      <td>1989.000000</td>\n",
       "      <td>2007.00000</td>\n",
       "      <td>2010.0000</td>\n",
       "      <td>2012.000</td>\n",
       "      <td>2014.0</td>\n",
       "    </tr>\n",
       "  </tbody>\n",
       "</table>\n",
       "</div>"
      ],
      "text/plain": [
       "                 count         mean           std          min         25%  \\\n",
       "number          1035.0     1.785507      1.240976     1.000000     1.00000   \n",
       "orbital_period   992.0  2002.917596  26014.728304     0.090706     5.44254   \n",
       "mass             513.0     2.638161      3.818617     0.003600     0.22900   \n",
       "distance         808.0   264.069282    733.116493     1.350000    32.56000   \n",
       "year            1035.0  2009.070531      3.972567  1989.000000  2007.00000   \n",
       "\n",
       "                      50%       75%       max  \n",
       "number             1.0000     2.000       7.0  \n",
       "orbital_period    39.9795   526.005  730000.0  \n",
       "mass               1.2600     3.040      25.0  \n",
       "distance          55.2500   178.500    8500.0  \n",
       "year            2010.0000  2012.000    2014.0  "
      ]
     },
     "execution_count": 66,
     "metadata": {},
     "output_type": "execute_result"
    }
   ],
   "source": [
    "dataFrame.describe().T"
   ]
  },
  {
   "cell_type": "markdown",
   "id": "34d57f23",
   "metadata": {
    "papermill": {
     "duration": 0.088233,
     "end_time": "2022-04-22T09:14:23.584943",
     "exception": false,
     "start_time": "2022-04-22T09:14:23.496710",
     "status": "completed"
    },
    "tags": []
   },
   "source": [
    "<a id=\"27\"></a>\n",
    "# GROUPING"
   ]
  },
  {
   "cell_type": "markdown",
   "id": "3f171634",
   "metadata": {
    "papermill": {
     "duration": 0.087591,
     "end_time": "2022-04-22T09:14:23.760181",
     "exception": false,
     "start_time": "2022-04-22T09:14:23.672590",
     "status": "completed"
    },
    "tags": []
   },
   "source": [
    "**Kategorik** değişkenlerin gruplarına ayrılması ve bunun üzerinden işlem yapılması.\n",
    "\n",
    "Gruplama işlemi aggreation fonksiyonları ile birlikte kullanılır."
   ]
  },
  {
   "cell_type": "code",
   "execution_count": 67,
   "id": "d8b99578",
   "metadata": {
    "execution": {
     "iopub.execute_input": "2022-04-22T09:14:23.939250Z",
     "iopub.status.busy": "2022-04-22T09:14:23.938276Z",
     "iopub.status.idle": "2022-04-22T09:14:23.949037Z",
     "shell.execute_reply": "2022-04-22T09:14:23.949557Z",
     "shell.execute_reply.started": "2022-02-10T16:19:16.477628Z"
    },
    "papermill": {
     "duration": 0.101978,
     "end_time": "2022-04-22T09:14:23.949751",
     "exception": false,
     "start_time": "2022-04-22T09:14:23.847773",
     "status": "completed"
    },
    "tags": []
   },
   "outputs": [
    {
     "data": {
      "text/html": [
       "<div>\n",
       "<style scoped>\n",
       "    .dataframe tbody tr th:only-of-type {\n",
       "        vertical-align: middle;\n",
       "    }\n",
       "\n",
       "    .dataframe tbody tr th {\n",
       "        vertical-align: top;\n",
       "    }\n",
       "\n",
       "    .dataframe thead th {\n",
       "        text-align: right;\n",
       "    }\n",
       "</style>\n",
       "<table border=\"1\" class=\"dataframe\">\n",
       "  <thead>\n",
       "    <tr style=\"text-align: right;\">\n",
       "      <th></th>\n",
       "      <th>gruplar</th>\n",
       "      <th>veri</th>\n",
       "    </tr>\n",
       "  </thead>\n",
       "  <tbody>\n",
       "    <tr>\n",
       "      <th>0</th>\n",
       "      <td>A</td>\n",
       "      <td>10</td>\n",
       "    </tr>\n",
       "    <tr>\n",
       "      <th>1</th>\n",
       "      <td>B</td>\n",
       "      <td>11</td>\n",
       "    </tr>\n",
       "    <tr>\n",
       "      <th>2</th>\n",
       "      <td>C</td>\n",
       "      <td>52</td>\n",
       "    </tr>\n",
       "    <tr>\n",
       "      <th>3</th>\n",
       "      <td>A</td>\n",
       "      <td>23</td>\n",
       "    </tr>\n",
       "    <tr>\n",
       "      <th>4</th>\n",
       "      <td>B</td>\n",
       "      <td>43</td>\n",
       "    </tr>\n",
       "    <tr>\n",
       "      <th>5</th>\n",
       "      <td>C</td>\n",
       "      <td>55</td>\n",
       "    </tr>\n",
       "  </tbody>\n",
       "</table>\n",
       "</div>"
      ],
      "text/plain": [
       "  gruplar  veri\n",
       "0       A    10\n",
       "1       B    11\n",
       "2       C    52\n",
       "3       A    23\n",
       "4       B    43\n",
       "5       C    55"
      ]
     },
     "execution_count": 67,
     "metadata": {},
     "output_type": "execute_result"
    }
   ],
   "source": [
    "dataFrame2=pd.DataFrame({\"gruplar\":[\"A\",\"B\",\"C\",\"A\",\"B\",\"C\"],\n",
    "                 \"veri\":[10,11,52,23,43,55]},columns=[\"gruplar\",\"veri\"])\n",
    "dataFrame2"
   ]
  },
  {
   "cell_type": "code",
   "execution_count": 68,
   "id": "66df1b25",
   "metadata": {
    "execution": {
     "iopub.execute_input": "2022-04-22T09:14:24.142117Z",
     "iopub.status.busy": "2022-04-22T09:14:24.141051Z",
     "iopub.status.idle": "2022-04-22T09:14:24.146767Z",
     "shell.execute_reply": "2022-04-22T09:14:24.147201Z",
     "shell.execute_reply.started": "2022-02-10T16:19:44.881914Z"
    },
    "papermill": {
     "duration": 0.101514,
     "end_time": "2022-04-22T09:14:24.147389",
     "exception": false,
     "start_time": "2022-04-22T09:14:24.045875",
     "status": "completed"
    },
    "tags": []
   },
   "outputs": [
    {
     "data": {
      "text/plain": [
       "<pandas.core.groupby.generic.DataFrameGroupBy object at 0x7f5420de47d0>"
      ]
     },
     "execution_count": 68,
     "metadata": {},
     "output_type": "execute_result"
    }
   ],
   "source": [
    "dataFrame2.groupby(\"gruplar\")\n",
    "# Gruplama işlemi gerçekleşti ve memory ye yerleşti.\n",
    "# Fakat gruplama işlemi tek başına bir şey ifade etmiyor."
   ]
  },
  {
   "cell_type": "code",
   "execution_count": 69,
   "id": "1c3d2fb4",
   "metadata": {
    "execution": {
     "iopub.execute_input": "2022-04-22T09:14:24.329039Z",
     "iopub.status.busy": "2022-04-22T09:14:24.328435Z",
     "iopub.status.idle": "2022-04-22T09:14:24.338617Z",
     "shell.execute_reply": "2022-04-22T09:14:24.339032Z",
     "shell.execute_reply.started": "2022-02-10T16:20:12.593913Z"
    },
    "papermill": {
     "duration": 0.103675,
     "end_time": "2022-04-22T09:14:24.339201",
     "exception": false,
     "start_time": "2022-04-22T09:14:24.235526",
     "status": "completed"
    },
    "tags": []
   },
   "outputs": [
    {
     "data": {
      "text/html": [
       "<div>\n",
       "<style scoped>\n",
       "    .dataframe tbody tr th:only-of-type {\n",
       "        vertical-align: middle;\n",
       "    }\n",
       "\n",
       "    .dataframe tbody tr th {\n",
       "        vertical-align: top;\n",
       "    }\n",
       "\n",
       "    .dataframe thead th {\n",
       "        text-align: right;\n",
       "    }\n",
       "</style>\n",
       "<table border=\"1\" class=\"dataframe\">\n",
       "  <thead>\n",
       "    <tr style=\"text-align: right;\">\n",
       "      <th></th>\n",
       "      <th>veri</th>\n",
       "    </tr>\n",
       "    <tr>\n",
       "      <th>gruplar</th>\n",
       "      <th></th>\n",
       "    </tr>\n",
       "  </thead>\n",
       "  <tbody>\n",
       "    <tr>\n",
       "      <th>A</th>\n",
       "      <td>16.5</td>\n",
       "    </tr>\n",
       "    <tr>\n",
       "      <th>B</th>\n",
       "      <td>27.0</td>\n",
       "    </tr>\n",
       "    <tr>\n",
       "      <th>C</th>\n",
       "      <td>53.5</td>\n",
       "    </tr>\n",
       "  </tbody>\n",
       "</table>\n",
       "</div>"
      ],
      "text/plain": [
       "         veri\n",
       "gruplar      \n",
       "A        16.5\n",
       "B        27.0\n",
       "C        53.5"
      ]
     },
     "execution_count": 69,
     "metadata": {},
     "output_type": "execute_result"
    }
   ],
   "source": [
    "dataFrame2.groupby(\"gruplar\").mean()"
   ]
  },
  {
   "cell_type": "code",
   "execution_count": 70,
   "id": "b51b5dbe",
   "metadata": {
    "execution": {
     "iopub.execute_input": "2022-04-22T09:14:24.519891Z",
     "iopub.status.busy": "2022-04-22T09:14:24.518963Z",
     "iopub.status.idle": "2022-04-22T09:14:24.529501Z",
     "shell.execute_reply": "2022-04-22T09:14:24.529945Z",
     "shell.execute_reply.started": "2022-02-10T16:20:51.298721Z"
    },
    "papermill": {
     "duration": 0.102336,
     "end_time": "2022-04-22T09:14:24.530110",
     "exception": false,
     "start_time": "2022-04-22T09:14:24.427774",
     "status": "completed"
    },
    "tags": []
   },
   "outputs": [
    {
     "data": {
      "text/html": [
       "<div>\n",
       "<style scoped>\n",
       "    .dataframe tbody tr th:only-of-type {\n",
       "        vertical-align: middle;\n",
       "    }\n",
       "\n",
       "    .dataframe tbody tr th {\n",
       "        vertical-align: top;\n",
       "    }\n",
       "\n",
       "    .dataframe thead th {\n",
       "        text-align: right;\n",
       "    }\n",
       "</style>\n",
       "<table border=\"1\" class=\"dataframe\">\n",
       "  <thead>\n",
       "    <tr style=\"text-align: right;\">\n",
       "      <th></th>\n",
       "      <th>method</th>\n",
       "      <th>number</th>\n",
       "      <th>orbital_period</th>\n",
       "      <th>mass</th>\n",
       "      <th>distance</th>\n",
       "      <th>year</th>\n",
       "    </tr>\n",
       "  </thead>\n",
       "  <tbody>\n",
       "    <tr>\n",
       "      <th>1030</th>\n",
       "      <td>Transit</td>\n",
       "      <td>1</td>\n",
       "      <td>3.941507</td>\n",
       "      <td>NaN</td>\n",
       "      <td>172.0</td>\n",
       "      <td>2006</td>\n",
       "    </tr>\n",
       "    <tr>\n",
       "      <th>1031</th>\n",
       "      <td>Transit</td>\n",
       "      <td>1</td>\n",
       "      <td>2.615864</td>\n",
       "      <td>NaN</td>\n",
       "      <td>148.0</td>\n",
       "      <td>2007</td>\n",
       "    </tr>\n",
       "    <tr>\n",
       "      <th>1032</th>\n",
       "      <td>Transit</td>\n",
       "      <td>1</td>\n",
       "      <td>3.191524</td>\n",
       "      <td>NaN</td>\n",
       "      <td>174.0</td>\n",
       "      <td>2007</td>\n",
       "    </tr>\n",
       "    <tr>\n",
       "      <th>1033</th>\n",
       "      <td>Transit</td>\n",
       "      <td>1</td>\n",
       "      <td>4.125083</td>\n",
       "      <td>NaN</td>\n",
       "      <td>293.0</td>\n",
       "      <td>2008</td>\n",
       "    </tr>\n",
       "    <tr>\n",
       "      <th>1034</th>\n",
       "      <td>Transit</td>\n",
       "      <td>1</td>\n",
       "      <td>4.187757</td>\n",
       "      <td>NaN</td>\n",
       "      <td>260.0</td>\n",
       "      <td>2008</td>\n",
       "    </tr>\n",
       "  </tbody>\n",
       "</table>\n",
       "</div>"
      ],
      "text/plain": [
       "       method  number  orbital_period  mass  distance  year\n",
       "1030  Transit       1        3.941507   NaN     172.0  2006\n",
       "1031  Transit       1        2.615864   NaN     148.0  2007\n",
       "1032  Transit       1        3.191524   NaN     174.0  2007\n",
       "1033  Transit       1        4.125083   NaN     293.0  2008\n",
       "1034  Transit       1        4.187757   NaN     260.0  2008"
      ]
     },
     "execution_count": 70,
     "metadata": {},
     "output_type": "execute_result"
    }
   ],
   "source": [
    "dataFrame.tail()"
   ]
  },
  {
   "cell_type": "code",
   "execution_count": 71,
   "id": "8945a51a",
   "metadata": {
    "execution": {
     "iopub.execute_input": "2022-04-22T09:14:24.711115Z",
     "iopub.status.busy": "2022-04-22T09:14:24.710154Z",
     "iopub.status.idle": "2022-04-22T09:14:24.717419Z",
     "shell.execute_reply": "2022-04-22T09:14:24.717817Z",
     "shell.execute_reply.started": "2022-02-10T16:21:58.68906Z"
    },
    "papermill": {
     "duration": 0.099524,
     "end_time": "2022-04-22T09:14:24.718001",
     "exception": false,
     "start_time": "2022-04-22T09:14:24.618477",
     "status": "completed"
    },
    "tags": []
   },
   "outputs": [
    {
     "data": {
      "text/plain": [
       "method\n",
       "Astrometry                         2\n",
       "Eclipse Timing Variations          9\n",
       "Imaging                           12\n",
       "Microlensing                       7\n",
       "Orbital Brightness Modulation      3\n",
       "Pulsar Timing                      5\n",
       "Pulsation Timing Variations        1\n",
       "Radial Velocity                  553\n",
       "Transit                          397\n",
       "Transit Timing Variations          3\n",
       "Name: orbital_period, dtype: int64"
      ]
     },
     "execution_count": 71,
     "metadata": {},
     "output_type": "execute_result"
    }
   ],
   "source": [
    "dataFrame.groupby(\"method\")[\"orbital_period\"].count()"
   ]
  },
  {
   "cell_type": "markdown",
   "id": "e521a3f9",
   "metadata": {
    "papermill": {
     "duration": 0.08852,
     "end_time": "2022-04-22T09:14:24.895060",
     "exception": false,
     "start_time": "2022-04-22T09:14:24.806540",
     "status": "completed"
    },
    "tags": []
   },
   "source": [
    "<a id=\"28\"></a>\n",
    "# İLERİ TOPLULAŞTIRMA İŞLEMLERİ"
   ]
  },
  {
   "cell_type": "markdown",
   "id": "44f237c6",
   "metadata": {
    "papermill": {
     "duration": 0.089094,
     "end_time": "2022-04-22T09:14:25.074342",
     "exception": false,
     "start_time": "2022-04-22T09:14:24.985248",
     "status": "completed"
    },
    "tags": []
   },
   "source": [
    "* Aggregate\n",
    "* Filter\n",
    "* Transform\n",
    "* Apply"
   ]
  },
  {
   "cell_type": "code",
   "execution_count": 72,
   "id": "b9ddbc02",
   "metadata": {
    "execution": {
     "iopub.execute_input": "2022-04-22T09:14:25.260493Z",
     "iopub.status.busy": "2022-04-22T09:14:25.259515Z",
     "iopub.status.idle": "2022-04-22T09:14:25.270353Z",
     "shell.execute_reply": "2022-04-22T09:14:25.270789Z",
     "shell.execute_reply.started": "2022-02-10T16:25:26.609095Z"
    },
    "papermill": {
     "duration": 0.104501,
     "end_time": "2022-04-22T09:14:25.270948",
     "exception": false,
     "start_time": "2022-04-22T09:14:25.166447",
     "status": "completed"
    },
    "tags": []
   },
   "outputs": [
    {
     "data": {
      "text/html": [
       "<div>\n",
       "<style scoped>\n",
       "    .dataframe tbody tr th:only-of-type {\n",
       "        vertical-align: middle;\n",
       "    }\n",
       "\n",
       "    .dataframe tbody tr th {\n",
       "        vertical-align: top;\n",
       "    }\n",
       "\n",
       "    .dataframe thead th {\n",
       "        text-align: right;\n",
       "    }\n",
       "</style>\n",
       "<table border=\"1\" class=\"dataframe\">\n",
       "  <thead>\n",
       "    <tr style=\"text-align: right;\">\n",
       "      <th></th>\n",
       "      <th>gruplar</th>\n",
       "      <th>degisken1</th>\n",
       "      <th>degisken2</th>\n",
       "    </tr>\n",
       "  </thead>\n",
       "  <tbody>\n",
       "    <tr>\n",
       "      <th>0</th>\n",
       "      <td>A</td>\n",
       "      <td>10</td>\n",
       "      <td>100</td>\n",
       "    </tr>\n",
       "    <tr>\n",
       "      <th>1</th>\n",
       "      <td>B</td>\n",
       "      <td>23</td>\n",
       "      <td>253</td>\n",
       "    </tr>\n",
       "    <tr>\n",
       "      <th>2</th>\n",
       "      <td>C</td>\n",
       "      <td>33</td>\n",
       "      <td>333</td>\n",
       "    </tr>\n",
       "    <tr>\n",
       "      <th>3</th>\n",
       "      <td>A</td>\n",
       "      <td>22</td>\n",
       "      <td>262</td>\n",
       "    </tr>\n",
       "    <tr>\n",
       "      <th>4</th>\n",
       "      <td>B</td>\n",
       "      <td>11</td>\n",
       "      <td>11</td>\n",
       "    </tr>\n",
       "    <tr>\n",
       "      <th>5</th>\n",
       "      <td>C</td>\n",
       "      <td>99</td>\n",
       "      <td>969</td>\n",
       "    </tr>\n",
       "  </tbody>\n",
       "</table>\n",
       "</div>"
      ],
      "text/plain": [
       "  gruplar  degisken1  degisken2\n",
       "0       A         10        100\n",
       "1       B         23        253\n",
       "2       C         33        333\n",
       "3       A         22        262\n",
       "4       B         11         11\n",
       "5       C         99        969"
      ]
     },
     "execution_count": 72,
     "metadata": {},
     "output_type": "execute_result"
    }
   ],
   "source": [
    "dataF=pd.DataFrame({\"gruplar\":[\"A\",\"B\",\"C\",\"A\",\"B\",\"C\"],\n",
    "                   \"degisken1\":[10,23,33,22,11,99],\n",
    "                   \"degisken2\":[100,253,333,262,11,969]},\n",
    "                  columns=[\"gruplar\",\"degisken1\",\"degisken2\"])\n",
    "dataF"
   ]
  },
  {
   "cell_type": "markdown",
   "id": "825a8958",
   "metadata": {
    "papermill": {
     "duration": 0.088372,
     "end_time": "2022-04-22T09:14:25.448069",
     "exception": false,
     "start_time": "2022-04-22T09:14:25.359697",
     "status": "completed"
    },
    "tags": []
   },
   "source": [
    "<a id=\"29\"></a>\n",
    "## AGGREGATE"
   ]
  },
  {
   "cell_type": "code",
   "execution_count": 73,
   "id": "46634295",
   "metadata": {
    "execution": {
     "iopub.execute_input": "2022-04-22T09:14:25.628894Z",
     "iopub.status.busy": "2022-04-22T09:14:25.628016Z",
     "iopub.status.idle": "2022-04-22T09:14:25.639080Z",
     "shell.execute_reply": "2022-04-22T09:14:25.638627Z",
     "shell.execute_reply.started": "2022-02-10T16:27:03.971185Z"
    },
    "papermill": {
     "duration": 0.10251,
     "end_time": "2022-04-22T09:14:25.639215",
     "exception": false,
     "start_time": "2022-04-22T09:14:25.536705",
     "status": "completed"
    },
    "tags": []
   },
   "outputs": [
    {
     "data": {
      "text/html": [
       "<div>\n",
       "<style scoped>\n",
       "    .dataframe tbody tr th:only-of-type {\n",
       "        vertical-align: middle;\n",
       "    }\n",
       "\n",
       "    .dataframe tbody tr th {\n",
       "        vertical-align: top;\n",
       "    }\n",
       "\n",
       "    .dataframe thead th {\n",
       "        text-align: right;\n",
       "    }\n",
       "</style>\n",
       "<table border=\"1\" class=\"dataframe\">\n",
       "  <thead>\n",
       "    <tr style=\"text-align: right;\">\n",
       "      <th></th>\n",
       "      <th>degisken1</th>\n",
       "      <th>degisken2</th>\n",
       "    </tr>\n",
       "    <tr>\n",
       "      <th>gruplar</th>\n",
       "      <th></th>\n",
       "      <th></th>\n",
       "    </tr>\n",
       "  </thead>\n",
       "  <tbody>\n",
       "    <tr>\n",
       "      <th>A</th>\n",
       "      <td>16.0</td>\n",
       "      <td>181.0</td>\n",
       "    </tr>\n",
       "    <tr>\n",
       "      <th>B</th>\n",
       "      <td>17.0</td>\n",
       "      <td>132.0</td>\n",
       "    </tr>\n",
       "    <tr>\n",
       "      <th>C</th>\n",
       "      <td>66.0</td>\n",
       "      <td>651.0</td>\n",
       "    </tr>\n",
       "  </tbody>\n",
       "</table>\n",
       "</div>"
      ],
      "text/plain": [
       "         degisken1  degisken2\n",
       "gruplar                      \n",
       "A             16.0      181.0\n",
       "B             17.0      132.0\n",
       "C             66.0      651.0"
      ]
     },
     "execution_count": 73,
     "metadata": {},
     "output_type": "execute_result"
    }
   ],
   "source": [
    "dataF.groupby(\"gruplar\").mean()"
   ]
  },
  {
   "cell_type": "markdown",
   "id": "99aee357",
   "metadata": {
    "papermill": {
     "duration": 0.088606,
     "end_time": "2022-04-22T09:14:25.817188",
     "exception": false,
     "start_time": "2022-04-22T09:14:25.728582",
     "status": "completed"
    },
    "tags": []
   },
   "source": [
    "##### Hazırda var olan (describe) vb. istatistikleri değilde kendimiz spesifik bir istatiksel hesaplama istersek:"
   ]
  },
  {
   "cell_type": "code",
   "execution_count": 74,
   "id": "b8303b32",
   "metadata": {
    "execution": {
     "iopub.execute_input": "2022-04-22T09:14:26.000662Z",
     "iopub.status.busy": "2022-04-22T09:14:26.000088Z",
     "iopub.status.idle": "2022-04-22T09:14:26.022078Z",
     "shell.execute_reply": "2022-04-22T09:14:26.022534Z",
     "shell.execute_reply.started": "2022-02-10T16:28:19.203299Z"
    },
    "papermill": {
     "duration": 0.115633,
     "end_time": "2022-04-22T09:14:26.022706",
     "exception": false,
     "start_time": "2022-04-22T09:14:25.907073",
     "status": "completed"
    },
    "tags": []
   },
   "outputs": [
    {
     "data": {
      "text/html": [
       "<div>\n",
       "<style scoped>\n",
       "    .dataframe tbody tr th:only-of-type {\n",
       "        vertical-align: middle;\n",
       "    }\n",
       "\n",
       "    .dataframe tbody tr th {\n",
       "        vertical-align: top;\n",
       "    }\n",
       "\n",
       "    .dataframe thead tr th {\n",
       "        text-align: left;\n",
       "    }\n",
       "\n",
       "    .dataframe thead tr:last-of-type th {\n",
       "        text-align: right;\n",
       "    }\n",
       "</style>\n",
       "<table border=\"1\" class=\"dataframe\">\n",
       "  <thead>\n",
       "    <tr>\n",
       "      <th></th>\n",
       "      <th colspan=\"3\" halign=\"left\">degisken1</th>\n",
       "      <th colspan=\"3\" halign=\"left\">degisken2</th>\n",
       "    </tr>\n",
       "    <tr>\n",
       "      <th></th>\n",
       "      <th>min</th>\n",
       "      <th>median</th>\n",
       "      <th>max</th>\n",
       "      <th>min</th>\n",
       "      <th>median</th>\n",
       "      <th>max</th>\n",
       "    </tr>\n",
       "    <tr>\n",
       "      <th>gruplar</th>\n",
       "      <th></th>\n",
       "      <th></th>\n",
       "      <th></th>\n",
       "      <th></th>\n",
       "      <th></th>\n",
       "      <th></th>\n",
       "    </tr>\n",
       "  </thead>\n",
       "  <tbody>\n",
       "    <tr>\n",
       "      <th>A</th>\n",
       "      <td>10</td>\n",
       "      <td>16.0</td>\n",
       "      <td>22</td>\n",
       "      <td>100</td>\n",
       "      <td>181.0</td>\n",
       "      <td>262</td>\n",
       "    </tr>\n",
       "    <tr>\n",
       "      <th>B</th>\n",
       "      <td>11</td>\n",
       "      <td>17.0</td>\n",
       "      <td>23</td>\n",
       "      <td>11</td>\n",
       "      <td>132.0</td>\n",
       "      <td>253</td>\n",
       "    </tr>\n",
       "    <tr>\n",
       "      <th>C</th>\n",
       "      <td>33</td>\n",
       "      <td>66.0</td>\n",
       "      <td>99</td>\n",
       "      <td>333</td>\n",
       "      <td>651.0</td>\n",
       "      <td>969</td>\n",
       "    </tr>\n",
       "  </tbody>\n",
       "</table>\n",
       "</div>"
      ],
      "text/plain": [
       "        degisken1            degisken2            \n",
       "              min median max       min median  max\n",
       "gruplar                                           \n",
       "A              10   16.0  22       100  181.0  262\n",
       "B              11   17.0  23        11  132.0  253\n",
       "C              33   66.0  99       333  651.0  969"
      ]
     },
     "execution_count": 74,
     "metadata": {},
     "output_type": "execute_result"
    }
   ],
   "source": [
    "dataF.groupby(\"gruplar\").aggregate([min,np.median,max])"
   ]
  },
  {
   "cell_type": "code",
   "execution_count": 75,
   "id": "fbfe5f2d",
   "metadata": {
    "execution": {
     "iopub.execute_input": "2022-04-22T09:14:26.209097Z",
     "iopub.status.busy": "2022-04-22T09:14:26.208524Z",
     "iopub.status.idle": "2022-04-22T09:14:26.218040Z",
     "shell.execute_reply": "2022-04-22T09:14:26.218575Z",
     "shell.execute_reply.started": "2022-02-10T16:29:15.947631Z"
    },
    "papermill": {
     "duration": 0.104777,
     "end_time": "2022-04-22T09:14:26.218744",
     "exception": false,
     "start_time": "2022-04-22T09:14:26.113967",
     "status": "completed"
    },
    "tags": []
   },
   "outputs": [
    {
     "data": {
      "text/html": [
       "<div>\n",
       "<style scoped>\n",
       "    .dataframe tbody tr th:only-of-type {\n",
       "        vertical-align: middle;\n",
       "    }\n",
       "\n",
       "    .dataframe tbody tr th {\n",
       "        vertical-align: top;\n",
       "    }\n",
       "\n",
       "    .dataframe thead th {\n",
       "        text-align: right;\n",
       "    }\n",
       "</style>\n",
       "<table border=\"1\" class=\"dataframe\">\n",
       "  <thead>\n",
       "    <tr style=\"text-align: right;\">\n",
       "      <th></th>\n",
       "      <th>degisken1</th>\n",
       "      <th>degisken2</th>\n",
       "    </tr>\n",
       "    <tr>\n",
       "      <th>gruplar</th>\n",
       "      <th></th>\n",
       "      <th></th>\n",
       "    </tr>\n",
       "  </thead>\n",
       "  <tbody>\n",
       "    <tr>\n",
       "      <th>A</th>\n",
       "      <td>22</td>\n",
       "      <td>100</td>\n",
       "    </tr>\n",
       "    <tr>\n",
       "      <th>B</th>\n",
       "      <td>23</td>\n",
       "      <td>11</td>\n",
       "    </tr>\n",
       "    <tr>\n",
       "      <th>C</th>\n",
       "      <td>99</td>\n",
       "      <td>333</td>\n",
       "    </tr>\n",
       "  </tbody>\n",
       "</table>\n",
       "</div>"
      ],
      "text/plain": [
       "         degisken1  degisken2\n",
       "gruplar                      \n",
       "A               22        100\n",
       "B               23         11\n",
       "C               99        333"
      ]
     },
     "execution_count": 75,
     "metadata": {},
     "output_type": "execute_result"
    }
   ],
   "source": [
    "dataF.groupby(\"gruplar\").aggregate({\"degisken1\":max,\"degisken2\":min})"
   ]
  },
  {
   "cell_type": "markdown",
   "id": "2b026564",
   "metadata": {
    "papermill": {
     "duration": 0.089579,
     "end_time": "2022-04-22T09:14:26.398225",
     "exception": false,
     "start_time": "2022-04-22T09:14:26.308646",
     "status": "completed"
    },
    "tags": []
   },
   "source": [
    "<a id=\"30\"></a>\n",
    "## FILTER"
   ]
  },
  {
   "cell_type": "markdown",
   "id": "90be757b",
   "metadata": {
    "papermill": {
     "duration": 0.090328,
     "end_time": "2022-04-22T09:14:26.579012",
     "exception": false,
     "start_time": "2022-04-22T09:14:26.488684",
     "status": "completed"
    },
    "tags": []
   },
   "source": [
    "##### Data yı işlememiz için var olan pandas fonksiyonları yetersiz kalırsa, kendimiz fonksiyon tanımlarız ve filter() içinde kullanırız."
   ]
  },
  {
   "cell_type": "code",
   "execution_count": 76,
   "id": "3de0705d",
   "metadata": {
    "execution": {
     "iopub.execute_input": "2022-04-22T09:14:26.767826Z",
     "iopub.status.busy": "2022-04-22T09:14:26.767115Z",
     "iopub.status.idle": "2022-04-22T09:14:26.769617Z",
     "shell.execute_reply": "2022-04-22T09:14:26.770063Z",
     "shell.execute_reply.started": "2022-02-10T16:31:19.197559Z"
    },
    "papermill": {
     "duration": 0.101433,
     "end_time": "2022-04-22T09:14:26.770226",
     "exception": false,
     "start_time": "2022-04-22T09:14:26.668793",
     "status": "completed"
    },
    "tags": []
   },
   "outputs": [
    {
     "data": {
      "text/html": [
       "<div>\n",
       "<style scoped>\n",
       "    .dataframe tbody tr th:only-of-type {\n",
       "        vertical-align: middle;\n",
       "    }\n",
       "\n",
       "    .dataframe tbody tr th {\n",
       "        vertical-align: top;\n",
       "    }\n",
       "\n",
       "    .dataframe thead th {\n",
       "        text-align: right;\n",
       "    }\n",
       "</style>\n",
       "<table border=\"1\" class=\"dataframe\">\n",
       "  <thead>\n",
       "    <tr style=\"text-align: right;\">\n",
       "      <th></th>\n",
       "      <th>gruplar</th>\n",
       "      <th>degisken1</th>\n",
       "      <th>degisken2</th>\n",
       "    </tr>\n",
       "  </thead>\n",
       "  <tbody>\n",
       "    <tr>\n",
       "      <th>0</th>\n",
       "      <td>A</td>\n",
       "      <td>10</td>\n",
       "      <td>100</td>\n",
       "    </tr>\n",
       "    <tr>\n",
       "      <th>1</th>\n",
       "      <td>B</td>\n",
       "      <td>23</td>\n",
       "      <td>253</td>\n",
       "    </tr>\n",
       "    <tr>\n",
       "      <th>2</th>\n",
       "      <td>C</td>\n",
       "      <td>33</td>\n",
       "      <td>333</td>\n",
       "    </tr>\n",
       "    <tr>\n",
       "      <th>3</th>\n",
       "      <td>A</td>\n",
       "      <td>22</td>\n",
       "      <td>262</td>\n",
       "    </tr>\n",
       "    <tr>\n",
       "      <th>4</th>\n",
       "      <td>B</td>\n",
       "      <td>11</td>\n",
       "      <td>11</td>\n",
       "    </tr>\n",
       "    <tr>\n",
       "      <th>5</th>\n",
       "      <td>C</td>\n",
       "      <td>99</td>\n",
       "      <td>969</td>\n",
       "    </tr>\n",
       "  </tbody>\n",
       "</table>\n",
       "</div>"
      ],
      "text/plain": [
       "  gruplar  degisken1  degisken2\n",
       "0       A         10        100\n",
       "1       B         23        253\n",
       "2       C         33        333\n",
       "3       A         22        262\n",
       "4       B         11         11\n",
       "5       C         99        969"
      ]
     },
     "execution_count": 76,
     "metadata": {},
     "output_type": "execute_result"
    }
   ],
   "source": [
    "dataF"
   ]
  },
  {
   "cell_type": "code",
   "execution_count": 77,
   "id": "12779d5a",
   "metadata": {
    "execution": {
     "iopub.execute_input": "2022-04-22T09:14:26.961258Z",
     "iopub.status.busy": "2022-04-22T09:14:26.960628Z",
     "iopub.status.idle": "2022-04-22T09:14:26.962937Z",
     "shell.execute_reply": "2022-04-22T09:14:26.962405Z",
     "shell.execute_reply.started": "2022-02-10T16:33:31.061336Z"
    },
    "papermill": {
     "duration": 0.098557,
     "end_time": "2022-04-22T09:14:26.963062",
     "exception": false,
     "start_time": "2022-04-22T09:14:26.864505",
     "status": "completed"
    },
    "tags": []
   },
   "outputs": [],
   "source": [
    "def filter_func(h):\n",
    "    return h[\"degisken1\"].std()>9"
   ]
  },
  {
   "cell_type": "code",
   "execution_count": 78,
   "id": "a2818b2d",
   "metadata": {
    "execution": {
     "iopub.execute_input": "2022-04-22T09:14:27.152252Z",
     "iopub.status.busy": "2022-04-22T09:14:27.151642Z",
     "iopub.status.idle": "2022-04-22T09:14:27.162522Z",
     "shell.execute_reply": "2022-04-22T09:14:27.161991Z",
     "shell.execute_reply.started": "2022-02-10T16:33:33.656099Z"
    },
    "papermill": {
     "duration": 0.105736,
     "end_time": "2022-04-22T09:14:27.162677",
     "exception": false,
     "start_time": "2022-04-22T09:14:27.056941",
     "status": "completed"
    },
    "tags": []
   },
   "outputs": [
    {
     "data": {
      "text/html": [
       "<div>\n",
       "<style scoped>\n",
       "    .dataframe tbody tr th:only-of-type {\n",
       "        vertical-align: middle;\n",
       "    }\n",
       "\n",
       "    .dataframe tbody tr th {\n",
       "        vertical-align: top;\n",
       "    }\n",
       "\n",
       "    .dataframe thead th {\n",
       "        text-align: right;\n",
       "    }\n",
       "</style>\n",
       "<table border=\"1\" class=\"dataframe\">\n",
       "  <thead>\n",
       "    <tr style=\"text-align: right;\">\n",
       "      <th></th>\n",
       "      <th>gruplar</th>\n",
       "      <th>degisken1</th>\n",
       "      <th>degisken2</th>\n",
       "    </tr>\n",
       "  </thead>\n",
       "  <tbody>\n",
       "    <tr>\n",
       "      <th>2</th>\n",
       "      <td>C</td>\n",
       "      <td>33</td>\n",
       "      <td>333</td>\n",
       "    </tr>\n",
       "    <tr>\n",
       "      <th>5</th>\n",
       "      <td>C</td>\n",
       "      <td>99</td>\n",
       "      <td>969</td>\n",
       "    </tr>\n",
       "  </tbody>\n",
       "</table>\n",
       "</div>"
      ],
      "text/plain": [
       "  gruplar  degisken1  degisken2\n",
       "2       C         33        333\n",
       "5       C         99        969"
      ]
     },
     "execution_count": 78,
     "metadata": {},
     "output_type": "execute_result"
    }
   ],
   "source": [
    "dataF.groupby(\"gruplar\").filter(filter_func)"
   ]
  },
  {
   "cell_type": "markdown",
   "id": "dbb40200",
   "metadata": {
    "papermill": {
     "duration": 0.091854,
     "end_time": "2022-04-22T09:14:27.346076",
     "exception": false,
     "start_time": "2022-04-22T09:14:27.254222",
     "status": "completed"
    },
    "tags": []
   },
   "source": [
    "<a id=\"31\"></a>\n",
    "## TRANSFORM"
   ]
  },
  {
   "cell_type": "markdown",
   "id": "039c8543",
   "metadata": {
    "papermill": {
     "duration": 0.090983,
     "end_time": "2022-04-22T09:14:27.527828",
     "exception": false,
     "start_time": "2022-04-22T09:14:27.436845",
     "status": "completed"
    },
    "tags": []
   },
   "source": [
    "##### Data yı kendi tanımladığımız bir fonksiyonla transform etmek istersek."
   ]
  },
  {
   "cell_type": "code",
   "execution_count": 79,
   "id": "66a9a58e",
   "metadata": {
    "execution": {
     "iopub.execute_input": "2022-04-22T09:14:27.718485Z",
     "iopub.status.busy": "2022-04-22T09:14:27.717794Z",
     "iopub.status.idle": "2022-04-22T09:14:27.721030Z",
     "shell.execute_reply": "2022-04-22T09:14:27.720584Z",
     "shell.execute_reply.started": "2022-02-10T16:35:06.971203Z"
    },
    "papermill": {
     "duration": 0.102474,
     "end_time": "2022-04-22T09:14:27.721167",
     "exception": false,
     "start_time": "2022-04-22T09:14:27.618693",
     "status": "completed"
    },
    "tags": []
   },
   "outputs": [
    {
     "data": {
      "text/html": [
       "<div>\n",
       "<style scoped>\n",
       "    .dataframe tbody tr th:only-of-type {\n",
       "        vertical-align: middle;\n",
       "    }\n",
       "\n",
       "    .dataframe tbody tr th {\n",
       "        vertical-align: top;\n",
       "    }\n",
       "\n",
       "    .dataframe thead th {\n",
       "        text-align: right;\n",
       "    }\n",
       "</style>\n",
       "<table border=\"1\" class=\"dataframe\">\n",
       "  <thead>\n",
       "    <tr style=\"text-align: right;\">\n",
       "      <th></th>\n",
       "      <th>gruplar</th>\n",
       "      <th>degisken1</th>\n",
       "      <th>degisken2</th>\n",
       "    </tr>\n",
       "  </thead>\n",
       "  <tbody>\n",
       "    <tr>\n",
       "      <th>0</th>\n",
       "      <td>A</td>\n",
       "      <td>10</td>\n",
       "      <td>100</td>\n",
       "    </tr>\n",
       "    <tr>\n",
       "      <th>1</th>\n",
       "      <td>B</td>\n",
       "      <td>23</td>\n",
       "      <td>253</td>\n",
       "    </tr>\n",
       "    <tr>\n",
       "      <th>2</th>\n",
       "      <td>C</td>\n",
       "      <td>33</td>\n",
       "      <td>333</td>\n",
       "    </tr>\n",
       "    <tr>\n",
       "      <th>3</th>\n",
       "      <td>A</td>\n",
       "      <td>22</td>\n",
       "      <td>262</td>\n",
       "    </tr>\n",
       "    <tr>\n",
       "      <th>4</th>\n",
       "      <td>B</td>\n",
       "      <td>11</td>\n",
       "      <td>11</td>\n",
       "    </tr>\n",
       "    <tr>\n",
       "      <th>5</th>\n",
       "      <td>C</td>\n",
       "      <td>99</td>\n",
       "      <td>969</td>\n",
       "    </tr>\n",
       "  </tbody>\n",
       "</table>\n",
       "</div>"
      ],
      "text/plain": [
       "  gruplar  degisken1  degisken2\n",
       "0       A         10        100\n",
       "1       B         23        253\n",
       "2       C         33        333\n",
       "3       A         22        262\n",
       "4       B         11         11\n",
       "5       C         99        969"
      ]
     },
     "execution_count": 79,
     "metadata": {},
     "output_type": "execute_result"
    }
   ],
   "source": [
    "dataF"
   ]
  },
  {
   "cell_type": "markdown",
   "id": "2adc02a9",
   "metadata": {
    "papermill": {
     "duration": 0.094846,
     "end_time": "2022-04-22T09:14:27.908590",
     "exception": false,
     "start_time": "2022-04-22T09:14:27.813744",
     "status": "completed"
    },
    "tags": []
   },
   "source": [
    "#### Kullanacağımız fonksiyon kategorik değişken yüzünden hata verdiği için data dan kategorik değişkenleri çıkarıyoruz."
   ]
  },
  {
   "cell_type": "code",
   "execution_count": 80,
   "id": "a59bd477",
   "metadata": {
    "execution": {
     "iopub.execute_input": "2022-04-22T09:14:28.120194Z",
     "iopub.status.busy": "2022-04-22T09:14:28.119555Z",
     "iopub.status.idle": "2022-04-22T09:14:28.126911Z",
     "shell.execute_reply": "2022-04-22T09:14:28.127455Z",
     "shell.execute_reply.started": "2022-02-10T16:38:14.515691Z"
    },
    "papermill": {
     "duration": 0.123764,
     "end_time": "2022-04-22T09:14:28.127625",
     "exception": false,
     "start_time": "2022-04-22T09:14:28.003861",
     "status": "completed"
    },
    "tags": []
   },
   "outputs": [
    {
     "data": {
      "text/html": [
       "<div>\n",
       "<style scoped>\n",
       "    .dataframe tbody tr th:only-of-type {\n",
       "        vertical-align: middle;\n",
       "    }\n",
       "\n",
       "    .dataframe tbody tr th {\n",
       "        vertical-align: top;\n",
       "    }\n",
       "\n",
       "    .dataframe thead th {\n",
       "        text-align: right;\n",
       "    }\n",
       "</style>\n",
       "<table border=\"1\" class=\"dataframe\">\n",
       "  <thead>\n",
       "    <tr style=\"text-align: right;\">\n",
       "      <th></th>\n",
       "      <th>degisken1</th>\n",
       "      <th>degisken2</th>\n",
       "    </tr>\n",
       "  </thead>\n",
       "  <tbody>\n",
       "    <tr>\n",
       "      <th>0</th>\n",
       "      <td>10</td>\n",
       "      <td>100</td>\n",
       "    </tr>\n",
       "    <tr>\n",
       "      <th>1</th>\n",
       "      <td>23</td>\n",
       "      <td>253</td>\n",
       "    </tr>\n",
       "    <tr>\n",
       "      <th>2</th>\n",
       "      <td>33</td>\n",
       "      <td>333</td>\n",
       "    </tr>\n",
       "    <tr>\n",
       "      <th>3</th>\n",
       "      <td>22</td>\n",
       "      <td>262</td>\n",
       "    </tr>\n",
       "    <tr>\n",
       "      <th>4</th>\n",
       "      <td>11</td>\n",
       "      <td>11</td>\n",
       "    </tr>\n",
       "    <tr>\n",
       "      <th>5</th>\n",
       "      <td>99</td>\n",
       "      <td>969</td>\n",
       "    </tr>\n",
       "  </tbody>\n",
       "</table>\n",
       "</div>"
      ],
      "text/plain": [
       "   degisken1  degisken2\n",
       "0         10        100\n",
       "1         23        253\n",
       "2         33        333\n",
       "3         22        262\n",
       "4         11         11\n",
       "5         99        969"
      ]
     },
     "execution_count": 80,
     "metadata": {},
     "output_type": "execute_result"
    }
   ],
   "source": [
    "dataF_a=dataF.iloc[:,1:]\n",
    "dataF_a"
   ]
  },
  {
   "cell_type": "code",
   "execution_count": 81,
   "id": "bbb077ec",
   "metadata": {
    "execution": {
     "iopub.execute_input": "2022-04-22T09:14:28.321120Z",
     "iopub.status.busy": "2022-04-22T09:14:28.320526Z",
     "iopub.status.idle": "2022-04-22T09:14:28.330802Z",
     "shell.execute_reply": "2022-04-22T09:14:28.331266Z",
     "shell.execute_reply.started": "2022-02-10T16:39:31.987669Z"
    },
    "papermill": {
     "duration": 0.109621,
     "end_time": "2022-04-22T09:14:28.331454",
     "exception": false,
     "start_time": "2022-04-22T09:14:28.221833",
     "status": "completed"
    },
    "tags": []
   },
   "outputs": [
    {
     "data": {
      "text/html": [
       "<div>\n",
       "<style scoped>\n",
       "    .dataframe tbody tr th:only-of-type {\n",
       "        vertical-align: middle;\n",
       "    }\n",
       "\n",
       "    .dataframe tbody tr th {\n",
       "        vertical-align: top;\n",
       "    }\n",
       "\n",
       "    .dataframe thead th {\n",
       "        text-align: right;\n",
       "    }\n",
       "</style>\n",
       "<table border=\"1\" class=\"dataframe\">\n",
       "  <thead>\n",
       "    <tr style=\"text-align: right;\">\n",
       "      <th></th>\n",
       "      <th>degisken1</th>\n",
       "      <th>degisken2</th>\n",
       "    </tr>\n",
       "  </thead>\n",
       "  <tbody>\n",
       "    <tr>\n",
       "      <th>0</th>\n",
       "      <td>-0.687871</td>\n",
       "      <td>-0.653761</td>\n",
       "    </tr>\n",
       "    <tr>\n",
       "      <th>1</th>\n",
       "      <td>-0.299074</td>\n",
       "      <td>-0.201839</td>\n",
       "    </tr>\n",
       "    <tr>\n",
       "      <th>2</th>\n",
       "      <td>0.000000</td>\n",
       "      <td>0.034460</td>\n",
       "    </tr>\n",
       "    <tr>\n",
       "      <th>3</th>\n",
       "      <td>-0.328982</td>\n",
       "      <td>-0.175255</td>\n",
       "    </tr>\n",
       "    <tr>\n",
       "      <th>4</th>\n",
       "      <td>-0.657963</td>\n",
       "      <td>-0.916644</td>\n",
       "    </tr>\n",
       "    <tr>\n",
       "      <th>5</th>\n",
       "      <td>1.973890</td>\n",
       "      <td>1.913039</td>\n",
       "    </tr>\n",
       "  </tbody>\n",
       "</table>\n",
       "</div>"
      ],
      "text/plain": [
       "   degisken1  degisken2\n",
       "0  -0.687871  -0.653761\n",
       "1  -0.299074  -0.201839\n",
       "2   0.000000   0.034460\n",
       "3  -0.328982  -0.175255\n",
       "4  -0.657963  -0.916644\n",
       "5   1.973890   1.913039"
      ]
     },
     "execution_count": 81,
     "metadata": {},
     "output_type": "execute_result"
    }
   ],
   "source": [
    "dataF_a.transform(lambda x: (x-x.mean())/x.std())"
   ]
  },
  {
   "cell_type": "markdown",
   "id": "946499f9",
   "metadata": {
    "papermill": {
     "duration": 0.091553,
     "end_time": "2022-04-22T09:14:28.517082",
     "exception": false,
     "start_time": "2022-04-22T09:14:28.425529",
     "status": "completed"
    },
    "tags": []
   },
   "source": [
    "<a id=\"32\"></a>\n",
    "## APPLY"
   ]
  },
  {
   "cell_type": "markdown",
   "id": "f96dd955",
   "metadata": {
    "papermill": {
     "duration": 0.092488,
     "end_time": "2022-04-22T09:14:28.702380",
     "exception": false,
     "start_time": "2022-04-22T09:14:28.609892",
     "status": "completed"
    },
    "tags": []
   },
   "source": [
    "#### Toplulaştırmak amacıyla kullanılan bir fonksiyon"
   ]
  },
  {
   "cell_type": "code",
   "execution_count": 82,
   "id": "867c2b62",
   "metadata": {
    "execution": {
     "iopub.execute_input": "2022-04-22T09:14:28.891240Z",
     "iopub.status.busy": "2022-04-22T09:14:28.890671Z",
     "iopub.status.idle": "2022-04-22T09:14:28.897733Z",
     "shell.execute_reply": "2022-04-22T09:14:28.897239Z",
     "shell.execute_reply.started": "2022-02-10T16:41:41.747389Z"
    },
    "papermill": {
     "duration": 0.103201,
     "end_time": "2022-04-22T09:14:28.897990",
     "exception": false,
     "start_time": "2022-04-22T09:14:28.794789",
     "status": "completed"
    },
    "tags": []
   },
   "outputs": [
    {
     "data": {
      "text/plain": [
       "degisken1     198\n",
       "degisken2    1928\n",
       "dtype: int64"
      ]
     },
     "execution_count": 82,
     "metadata": {},
     "output_type": "execute_result"
    }
   ],
   "source": [
    "dataF_a.apply(np.sum)"
   ]
  },
  {
   "cell_type": "code",
   "execution_count": 83,
   "id": "07aedfb3",
   "metadata": {
    "execution": {
     "iopub.execute_input": "2022-04-22T09:14:29.093043Z",
     "iopub.status.busy": "2022-04-22T09:14:29.092104Z",
     "iopub.status.idle": "2022-04-22T09:14:29.096183Z",
     "shell.execute_reply": "2022-04-22T09:14:29.095701Z",
     "shell.execute_reply.started": "2022-02-10T16:41:58.804219Z"
    },
    "papermill": {
     "duration": 0.105501,
     "end_time": "2022-04-22T09:14:29.096353",
     "exception": false,
     "start_time": "2022-04-22T09:14:28.990852",
     "status": "completed"
    },
    "tags": []
   },
   "outputs": [
    {
     "data": {
      "text/plain": [
       "degisken1     33.000000\n",
       "degisken2    321.333333\n",
       "dtype: float64"
      ]
     },
     "execution_count": 83,
     "metadata": {},
     "output_type": "execute_result"
    }
   ],
   "source": [
    "dataF_a.apply(np.mean)"
   ]
  },
  {
   "cell_type": "markdown",
   "id": "9a7b259b",
   "metadata": {
    "papermill": {
     "duration": 0.092878,
     "end_time": "2022-04-22T09:14:29.282971",
     "exception": false,
     "start_time": "2022-04-22T09:14:29.190093",
     "status": "completed"
    },
    "tags": []
   },
   "source": [
    "<a id=\"33\"></a>\n",
    "# PİVOT TABLOLAR"
   ]
  },
  {
   "cell_type": "code",
   "execution_count": 84,
   "id": "784f3b63",
   "metadata": {
    "execution": {
     "iopub.execute_input": "2022-04-22T09:14:29.471840Z",
     "iopub.status.busy": "2022-04-22T09:14:29.470916Z",
     "iopub.status.idle": "2022-04-22T09:14:30.461994Z",
     "shell.execute_reply": "2022-04-22T09:14:30.462440Z",
     "shell.execute_reply.started": "2022-02-10T16:43:36.75896Z"
    },
    "papermill": {
     "duration": 1.087618,
     "end_time": "2022-04-22T09:14:30.462605",
     "exception": false,
     "start_time": "2022-04-22T09:14:29.374987",
     "status": "completed"
    },
    "tags": []
   },
   "outputs": [
    {
     "data": {
      "text/html": [
       "<div>\n",
       "<style scoped>\n",
       "    .dataframe tbody tr th:only-of-type {\n",
       "        vertical-align: middle;\n",
       "    }\n",
       "\n",
       "    .dataframe tbody tr th {\n",
       "        vertical-align: top;\n",
       "    }\n",
       "\n",
       "    .dataframe thead th {\n",
       "        text-align: right;\n",
       "    }\n",
       "</style>\n",
       "<table border=\"1\" class=\"dataframe\">\n",
       "  <thead>\n",
       "    <tr style=\"text-align: right;\">\n",
       "      <th></th>\n",
       "      <th>survived</th>\n",
       "      <th>pclass</th>\n",
       "      <th>sex</th>\n",
       "      <th>age</th>\n",
       "      <th>sibsp</th>\n",
       "      <th>parch</th>\n",
       "      <th>fare</th>\n",
       "      <th>embarked</th>\n",
       "      <th>class</th>\n",
       "      <th>who</th>\n",
       "      <th>adult_male</th>\n",
       "      <th>deck</th>\n",
       "      <th>embark_town</th>\n",
       "      <th>alive</th>\n",
       "      <th>alone</th>\n",
       "    </tr>\n",
       "  </thead>\n",
       "  <tbody>\n",
       "    <tr>\n",
       "      <th>0</th>\n",
       "      <td>0</td>\n",
       "      <td>3</td>\n",
       "      <td>male</td>\n",
       "      <td>22.0</td>\n",
       "      <td>1</td>\n",
       "      <td>0</td>\n",
       "      <td>7.2500</td>\n",
       "      <td>S</td>\n",
       "      <td>Third</td>\n",
       "      <td>man</td>\n",
       "      <td>True</td>\n",
       "      <td>NaN</td>\n",
       "      <td>Southampton</td>\n",
       "      <td>no</td>\n",
       "      <td>False</td>\n",
       "    </tr>\n",
       "    <tr>\n",
       "      <th>1</th>\n",
       "      <td>1</td>\n",
       "      <td>1</td>\n",
       "      <td>female</td>\n",
       "      <td>38.0</td>\n",
       "      <td>1</td>\n",
       "      <td>0</td>\n",
       "      <td>71.2833</td>\n",
       "      <td>C</td>\n",
       "      <td>First</td>\n",
       "      <td>woman</td>\n",
       "      <td>False</td>\n",
       "      <td>C</td>\n",
       "      <td>Cherbourg</td>\n",
       "      <td>yes</td>\n",
       "      <td>False</td>\n",
       "    </tr>\n",
       "    <tr>\n",
       "      <th>2</th>\n",
       "      <td>1</td>\n",
       "      <td>3</td>\n",
       "      <td>female</td>\n",
       "      <td>26.0</td>\n",
       "      <td>0</td>\n",
       "      <td>0</td>\n",
       "      <td>7.9250</td>\n",
       "      <td>S</td>\n",
       "      <td>Third</td>\n",
       "      <td>woman</td>\n",
       "      <td>False</td>\n",
       "      <td>NaN</td>\n",
       "      <td>Southampton</td>\n",
       "      <td>yes</td>\n",
       "      <td>True</td>\n",
       "    </tr>\n",
       "    <tr>\n",
       "      <th>3</th>\n",
       "      <td>1</td>\n",
       "      <td>1</td>\n",
       "      <td>female</td>\n",
       "      <td>35.0</td>\n",
       "      <td>1</td>\n",
       "      <td>0</td>\n",
       "      <td>53.1000</td>\n",
       "      <td>S</td>\n",
       "      <td>First</td>\n",
       "      <td>woman</td>\n",
       "      <td>False</td>\n",
       "      <td>C</td>\n",
       "      <td>Southampton</td>\n",
       "      <td>yes</td>\n",
       "      <td>False</td>\n",
       "    </tr>\n",
       "    <tr>\n",
       "      <th>4</th>\n",
       "      <td>0</td>\n",
       "      <td>3</td>\n",
       "      <td>male</td>\n",
       "      <td>35.0</td>\n",
       "      <td>0</td>\n",
       "      <td>0</td>\n",
       "      <td>8.0500</td>\n",
       "      <td>S</td>\n",
       "      <td>Third</td>\n",
       "      <td>man</td>\n",
       "      <td>True</td>\n",
       "      <td>NaN</td>\n",
       "      <td>Southampton</td>\n",
       "      <td>no</td>\n",
       "      <td>True</td>\n",
       "    </tr>\n",
       "    <tr>\n",
       "      <th>5</th>\n",
       "      <td>0</td>\n",
       "      <td>3</td>\n",
       "      <td>male</td>\n",
       "      <td>NaN</td>\n",
       "      <td>0</td>\n",
       "      <td>0</td>\n",
       "      <td>8.4583</td>\n",
       "      <td>Q</td>\n",
       "      <td>Third</td>\n",
       "      <td>man</td>\n",
       "      <td>True</td>\n",
       "      <td>NaN</td>\n",
       "      <td>Queenstown</td>\n",
       "      <td>no</td>\n",
       "      <td>True</td>\n",
       "    </tr>\n",
       "    <tr>\n",
       "      <th>6</th>\n",
       "      <td>0</td>\n",
       "      <td>1</td>\n",
       "      <td>male</td>\n",
       "      <td>54.0</td>\n",
       "      <td>0</td>\n",
       "      <td>0</td>\n",
       "      <td>51.8625</td>\n",
       "      <td>S</td>\n",
       "      <td>First</td>\n",
       "      <td>man</td>\n",
       "      <td>True</td>\n",
       "      <td>E</td>\n",
       "      <td>Southampton</td>\n",
       "      <td>no</td>\n",
       "      <td>True</td>\n",
       "    </tr>\n",
       "    <tr>\n",
       "      <th>7</th>\n",
       "      <td>0</td>\n",
       "      <td>3</td>\n",
       "      <td>male</td>\n",
       "      <td>2.0</td>\n",
       "      <td>3</td>\n",
       "      <td>1</td>\n",
       "      <td>21.0750</td>\n",
       "      <td>S</td>\n",
       "      <td>Third</td>\n",
       "      <td>child</td>\n",
       "      <td>False</td>\n",
       "      <td>NaN</td>\n",
       "      <td>Southampton</td>\n",
       "      <td>no</td>\n",
       "      <td>False</td>\n",
       "    </tr>\n",
       "    <tr>\n",
       "      <th>8</th>\n",
       "      <td>1</td>\n",
       "      <td>3</td>\n",
       "      <td>female</td>\n",
       "      <td>27.0</td>\n",
       "      <td>0</td>\n",
       "      <td>2</td>\n",
       "      <td>11.1333</td>\n",
       "      <td>S</td>\n",
       "      <td>Third</td>\n",
       "      <td>woman</td>\n",
       "      <td>False</td>\n",
       "      <td>NaN</td>\n",
       "      <td>Southampton</td>\n",
       "      <td>yes</td>\n",
       "      <td>False</td>\n",
       "    </tr>\n",
       "    <tr>\n",
       "      <th>9</th>\n",
       "      <td>1</td>\n",
       "      <td>2</td>\n",
       "      <td>female</td>\n",
       "      <td>14.0</td>\n",
       "      <td>1</td>\n",
       "      <td>0</td>\n",
       "      <td>30.0708</td>\n",
       "      <td>C</td>\n",
       "      <td>Second</td>\n",
       "      <td>child</td>\n",
       "      <td>False</td>\n",
       "      <td>NaN</td>\n",
       "      <td>Cherbourg</td>\n",
       "      <td>yes</td>\n",
       "      <td>False</td>\n",
       "    </tr>\n",
       "  </tbody>\n",
       "</table>\n",
       "</div>"
      ],
      "text/plain": [
       "   survived  pclass     sex   age  sibsp  parch     fare embarked   class  \\\n",
       "0         0       3    male  22.0      1      0   7.2500        S   Third   \n",
       "1         1       1  female  38.0      1      0  71.2833        C   First   \n",
       "2         1       3  female  26.0      0      0   7.9250        S   Third   \n",
       "3         1       1  female  35.0      1      0  53.1000        S   First   \n",
       "4         0       3    male  35.0      0      0   8.0500        S   Third   \n",
       "5         0       3    male   NaN      0      0   8.4583        Q   Third   \n",
       "6         0       1    male  54.0      0      0  51.8625        S   First   \n",
       "7         0       3    male   2.0      3      1  21.0750        S   Third   \n",
       "8         1       3  female  27.0      0      2  11.1333        S   Third   \n",
       "9         1       2  female  14.0      1      0  30.0708        C  Second   \n",
       "\n",
       "     who  adult_male deck  embark_town alive  alone  \n",
       "0    man        True  NaN  Southampton    no  False  \n",
       "1  woman       False    C    Cherbourg   yes  False  \n",
       "2  woman       False  NaN  Southampton   yes   True  \n",
       "3  woman       False    C  Southampton   yes  False  \n",
       "4    man        True  NaN  Southampton    no   True  \n",
       "5    man        True  NaN   Queenstown    no   True  \n",
       "6    man        True    E  Southampton    no   True  \n",
       "7  child       False  NaN  Southampton    no  False  \n",
       "8  woman       False  NaN  Southampton   yes  False  \n",
       "9  child       False  NaN    Cherbourg   yes  False  "
      ]
     },
     "execution_count": 84,
     "metadata": {},
     "output_type": "execute_result"
    }
   ],
   "source": [
    "titanic=sns.load_dataset(\"titanic\")\n",
    "titanic.head(10)"
   ]
  },
  {
   "cell_type": "code",
   "execution_count": 85,
   "id": "5fd0e8da",
   "metadata": {
    "execution": {
     "iopub.execute_input": "2022-04-22T09:14:30.664342Z",
     "iopub.status.busy": "2022-04-22T09:14:30.663433Z",
     "iopub.status.idle": "2022-04-22T09:14:30.669220Z",
     "shell.execute_reply": "2022-04-22T09:14:30.669630Z",
     "shell.execute_reply.started": "2022-02-10T16:44:15.788184Z"
    },
    "papermill": {
     "duration": 0.114369,
     "end_time": "2022-04-22T09:14:30.669795",
     "exception": false,
     "start_time": "2022-04-22T09:14:30.555426",
     "status": "completed"
    },
    "tags": []
   },
   "outputs": [
    {
     "data": {
      "text/plain": [
       "sex\n",
       "female    0.742038\n",
       "male      0.188908\n",
       "Name: survived, dtype: float64"
      ]
     },
     "execution_count": 85,
     "metadata": {},
     "output_type": "execute_result"
    }
   ],
   "source": [
    "titanic.groupby(\"sex\")[\"survived\"].mean()"
   ]
  },
  {
   "cell_type": "code",
   "execution_count": 86,
   "id": "3e2a5acb",
   "metadata": {
    "execution": {
     "iopub.execute_input": "2022-04-22T09:14:30.859538Z",
     "iopub.status.busy": "2022-04-22T09:14:30.858635Z",
     "iopub.status.idle": "2022-04-22T09:14:30.868403Z",
     "shell.execute_reply": "2022-04-22T09:14:30.868789Z",
     "shell.execute_reply.started": "2022-02-10T16:44:44.932389Z"
    },
    "papermill": {
     "duration": 0.105825,
     "end_time": "2022-04-22T09:14:30.868963",
     "exception": false,
     "start_time": "2022-04-22T09:14:30.763138",
     "status": "completed"
    },
    "tags": []
   },
   "outputs": [
    {
     "data": {
      "text/html": [
       "<div>\n",
       "<style scoped>\n",
       "    .dataframe tbody tr th:only-of-type {\n",
       "        vertical-align: middle;\n",
       "    }\n",
       "\n",
       "    .dataframe tbody tr th {\n",
       "        vertical-align: top;\n",
       "    }\n",
       "\n",
       "    .dataframe thead th {\n",
       "        text-align: right;\n",
       "    }\n",
       "</style>\n",
       "<table border=\"1\" class=\"dataframe\">\n",
       "  <thead>\n",
       "    <tr style=\"text-align: right;\">\n",
       "      <th></th>\n",
       "      <th>survived</th>\n",
       "    </tr>\n",
       "    <tr>\n",
       "      <th>sex</th>\n",
       "      <th></th>\n",
       "    </tr>\n",
       "  </thead>\n",
       "  <tbody>\n",
       "    <tr>\n",
       "      <th>female</th>\n",
       "      <td>0.742038</td>\n",
       "    </tr>\n",
       "    <tr>\n",
       "      <th>male</th>\n",
       "      <td>0.188908</td>\n",
       "    </tr>\n",
       "  </tbody>\n",
       "</table>\n",
       "</div>"
      ],
      "text/plain": [
       "        survived\n",
       "sex             \n",
       "female  0.742038\n",
       "male    0.188908"
      ]
     },
     "execution_count": 86,
     "metadata": {},
     "output_type": "execute_result"
    }
   ],
   "source": [
    "# Data Frame formatında gösterim\n",
    "titanic.groupby(\"sex\")[[\"survived\"]].mean()"
   ]
  },
  {
   "cell_type": "code",
   "execution_count": 87,
   "id": "3155c326",
   "metadata": {
    "execution": {
     "iopub.execute_input": "2022-04-22T09:14:31.061877Z",
     "iopub.status.busy": "2022-04-22T09:14:31.060931Z",
     "iopub.status.idle": "2022-04-22T09:14:31.074457Z",
     "shell.execute_reply": "2022-04-22T09:14:31.074946Z",
     "shell.execute_reply.started": "2022-02-10T16:47:12.957657Z"
    },
    "papermill": {
     "duration": 0.111487,
     "end_time": "2022-04-22T09:14:31.075114",
     "exception": false,
     "start_time": "2022-04-22T09:14:30.963627",
     "status": "completed"
    },
    "tags": []
   },
   "outputs": [
    {
     "data": {
      "text/html": [
       "<div>\n",
       "<style scoped>\n",
       "    .dataframe tbody tr th:only-of-type {\n",
       "        vertical-align: middle;\n",
       "    }\n",
       "\n",
       "    .dataframe tbody tr th {\n",
       "        vertical-align: top;\n",
       "    }\n",
       "\n",
       "    .dataframe thead th {\n",
       "        text-align: right;\n",
       "    }\n",
       "</style>\n",
       "<table border=\"1\" class=\"dataframe\">\n",
       "  <thead>\n",
       "    <tr style=\"text-align: right;\">\n",
       "      <th></th>\n",
       "      <th></th>\n",
       "      <th>survived</th>\n",
       "    </tr>\n",
       "    <tr>\n",
       "      <th>sex</th>\n",
       "      <th>pclass</th>\n",
       "      <th></th>\n",
       "    </tr>\n",
       "  </thead>\n",
       "  <tbody>\n",
       "    <tr>\n",
       "      <th rowspan=\"3\" valign=\"top\">female</th>\n",
       "      <th>1</th>\n",
       "      <td>0.968085</td>\n",
       "    </tr>\n",
       "    <tr>\n",
       "      <th>2</th>\n",
       "      <td>0.921053</td>\n",
       "    </tr>\n",
       "    <tr>\n",
       "      <th>3</th>\n",
       "      <td>0.500000</td>\n",
       "    </tr>\n",
       "    <tr>\n",
       "      <th rowspan=\"3\" valign=\"top\">male</th>\n",
       "      <th>1</th>\n",
       "      <td>0.368852</td>\n",
       "    </tr>\n",
       "    <tr>\n",
       "      <th>2</th>\n",
       "      <td>0.157407</td>\n",
       "    </tr>\n",
       "    <tr>\n",
       "      <th>3</th>\n",
       "      <td>0.135447</td>\n",
       "    </tr>\n",
       "  </tbody>\n",
       "</table>\n",
       "</div>"
      ],
      "text/plain": [
       "               survived\n",
       "sex    pclass          \n",
       "female 1       0.968085\n",
       "       2       0.921053\n",
       "       3       0.500000\n",
       "male   1       0.368852\n",
       "       2       0.157407\n",
       "       3       0.135447"
      ]
     },
     "execution_count": 87,
     "metadata": {},
     "output_type": "execute_result"
    }
   ],
   "source": [
    "titanic.groupby([\"sex\",\"pclass\"])[[\"survived\"]].aggregate(\"mean\")"
   ]
  },
  {
   "cell_type": "code",
   "execution_count": 88,
   "id": "337b64bc",
   "metadata": {
    "execution": {
     "iopub.execute_input": "2022-04-22T09:14:31.270970Z",
     "iopub.status.busy": "2022-04-22T09:14:31.269970Z",
     "iopub.status.idle": "2022-04-22T09:14:31.281885Z",
     "shell.execute_reply": "2022-04-22T09:14:31.282364Z",
     "shell.execute_reply.started": "2022-02-10T16:47:15.868432Z"
    },
    "papermill": {
     "duration": 0.112734,
     "end_time": "2022-04-22T09:14:31.282535",
     "exception": false,
     "start_time": "2022-04-22T09:14:31.169801",
     "status": "completed"
    },
    "tags": []
   },
   "outputs": [
    {
     "data": {
      "text/html": [
       "<div>\n",
       "<style scoped>\n",
       "    .dataframe tbody tr th:only-of-type {\n",
       "        vertical-align: middle;\n",
       "    }\n",
       "\n",
       "    .dataframe tbody tr th {\n",
       "        vertical-align: top;\n",
       "    }\n",
       "\n",
       "    .dataframe thead tr th {\n",
       "        text-align: left;\n",
       "    }\n",
       "\n",
       "    .dataframe thead tr:last-of-type th {\n",
       "        text-align: right;\n",
       "    }\n",
       "</style>\n",
       "<table border=\"1\" class=\"dataframe\">\n",
       "  <thead>\n",
       "    <tr>\n",
       "      <th></th>\n",
       "      <th colspan=\"3\" halign=\"left\">survived</th>\n",
       "    </tr>\n",
       "    <tr>\n",
       "      <th>pclass</th>\n",
       "      <th>1</th>\n",
       "      <th>2</th>\n",
       "      <th>3</th>\n",
       "    </tr>\n",
       "    <tr>\n",
       "      <th>sex</th>\n",
       "      <th></th>\n",
       "      <th></th>\n",
       "      <th></th>\n",
       "    </tr>\n",
       "  </thead>\n",
       "  <tbody>\n",
       "    <tr>\n",
       "      <th>female</th>\n",
       "      <td>0.968085</td>\n",
       "      <td>0.921053</td>\n",
       "      <td>0.500000</td>\n",
       "    </tr>\n",
       "    <tr>\n",
       "      <th>male</th>\n",
       "      <td>0.368852</td>\n",
       "      <td>0.157407</td>\n",
       "      <td>0.135447</td>\n",
       "    </tr>\n",
       "  </tbody>\n",
       "</table>\n",
       "</div>"
      ],
      "text/plain": [
       "        survived                    \n",
       "pclass         1         2         3\n",
       "sex                                 \n",
       "female  0.968085  0.921053  0.500000\n",
       "male    0.368852  0.157407  0.135447"
      ]
     },
     "execution_count": 88,
     "metadata": {},
     "output_type": "execute_result"
    }
   ],
   "source": [
    "titanic.groupby([\"sex\",\"pclass\"])[[\"survived\"]].aggregate(\"mean\").unstack()"
   ]
  },
  {
   "cell_type": "code",
   "execution_count": 89,
   "id": "a843ed1e",
   "metadata": {
    "execution": {
     "iopub.execute_input": "2022-04-22T09:14:31.473912Z",
     "iopub.status.busy": "2022-04-22T09:14:31.472989Z",
     "iopub.status.idle": "2022-04-22T09:14:31.498767Z",
     "shell.execute_reply": "2022-04-22T09:14:31.499208Z",
     "shell.execute_reply.started": "2022-02-10T16:48:32.001635Z"
    },
    "papermill": {
     "duration": 0.123562,
     "end_time": "2022-04-22T09:14:31.499385",
     "exception": false,
     "start_time": "2022-04-22T09:14:31.375823",
     "status": "completed"
    },
    "tags": []
   },
   "outputs": [
    {
     "data": {
      "text/html": [
       "<div>\n",
       "<style scoped>\n",
       "    .dataframe tbody tr th:only-of-type {\n",
       "        vertical-align: middle;\n",
       "    }\n",
       "\n",
       "    .dataframe tbody tr th {\n",
       "        vertical-align: top;\n",
       "    }\n",
       "\n",
       "    .dataframe thead th {\n",
       "        text-align: right;\n",
       "    }\n",
       "</style>\n",
       "<table border=\"1\" class=\"dataframe\">\n",
       "  <thead>\n",
       "    <tr style=\"text-align: right;\">\n",
       "      <th>class</th>\n",
       "      <th>First</th>\n",
       "      <th>Second</th>\n",
       "      <th>Third</th>\n",
       "    </tr>\n",
       "    <tr>\n",
       "      <th>sex</th>\n",
       "      <th></th>\n",
       "      <th></th>\n",
       "      <th></th>\n",
       "    </tr>\n",
       "  </thead>\n",
       "  <tbody>\n",
       "    <tr>\n",
       "      <th>female</th>\n",
       "      <td>0.968085</td>\n",
       "      <td>0.921053</td>\n",
       "      <td>0.500000</td>\n",
       "    </tr>\n",
       "    <tr>\n",
       "      <th>male</th>\n",
       "      <td>0.368852</td>\n",
       "      <td>0.157407</td>\n",
       "      <td>0.135447</td>\n",
       "    </tr>\n",
       "  </tbody>\n",
       "</table>\n",
       "</div>"
      ],
      "text/plain": [
       "class      First    Second     Third\n",
       "sex                                 \n",
       "female  0.968085  0.921053  0.500000\n",
       "male    0.368852  0.157407  0.135447"
      ]
     },
     "execution_count": 89,
     "metadata": {},
     "output_type": "execute_result"
    }
   ],
   "source": [
    "titanic.pivot_table(\"survived\",columns=\"class\",index=\"sex\")\n",
    "# index -> satır\n",
    "# columns -> sütun"
   ]
  },
  {
   "cell_type": "code",
   "execution_count": 90,
   "id": "52253dd5",
   "metadata": {
    "execution": {
     "iopub.execute_input": "2022-04-22T09:14:31.694750Z",
     "iopub.status.busy": "2022-04-22T09:14:31.693809Z",
     "iopub.status.idle": "2022-04-22T09:14:31.710349Z",
     "shell.execute_reply": "2022-04-22T09:14:31.710790Z",
     "shell.execute_reply.started": "2022-02-10T16:50:38.354154Z"
    },
    "papermill": {
     "duration": 0.116823,
     "end_time": "2022-04-22T09:14:31.710952",
     "exception": false,
     "start_time": "2022-04-22T09:14:31.594129",
     "status": "completed"
    },
    "tags": []
   },
   "outputs": [
    {
     "data": {
      "text/plain": [
       "0    (18.0, 90.0]\n",
       "1    (18.0, 90.0]\n",
       "2    (18.0, 90.0]\n",
       "3    (18.0, 90.0]\n",
       "4    (18.0, 90.0]\n",
       "5             NaN\n",
       "6    (18.0, 90.0]\n",
       "7     (0.0, 18.0]\n",
       "8    (18.0, 90.0]\n",
       "9     (0.0, 18.0]\n",
       "Name: age, dtype: category\n",
       "Categories (2, interval[int64, right]): [(0, 18] < (18, 90]]"
      ]
     },
     "execution_count": 90,
     "metadata": {},
     "output_type": "execute_result"
    }
   ],
   "source": [
    "age=pd.cut(titanic[\"age\"],[0,18,90])\n",
    "# age i böldük ve kategorik yaptık (0-18)(18-90)\n",
    "age.head(10)"
   ]
  },
  {
   "cell_type": "code",
   "execution_count": 91,
   "id": "47eb8663",
   "metadata": {
    "execution": {
     "iopub.execute_input": "2022-04-22T09:14:31.903638Z",
     "iopub.status.busy": "2022-04-22T09:14:31.902995Z",
     "iopub.status.idle": "2022-04-22T09:14:31.928192Z",
     "shell.execute_reply": "2022-04-22T09:14:31.928716Z",
     "shell.execute_reply.started": "2022-02-10T16:51:43.781762Z"
    },
    "papermill": {
     "duration": 0.123798,
     "end_time": "2022-04-22T09:14:31.928894",
     "exception": false,
     "start_time": "2022-04-22T09:14:31.805096",
     "status": "completed"
    },
    "tags": []
   },
   "outputs": [
    {
     "data": {
      "text/html": [
       "<div>\n",
       "<style scoped>\n",
       "    .dataframe tbody tr th:only-of-type {\n",
       "        vertical-align: middle;\n",
       "    }\n",
       "\n",
       "    .dataframe tbody tr th {\n",
       "        vertical-align: top;\n",
       "    }\n",
       "\n",
       "    .dataframe thead th {\n",
       "        text-align: right;\n",
       "    }\n",
       "</style>\n",
       "<table border=\"1\" class=\"dataframe\">\n",
       "  <thead>\n",
       "    <tr style=\"text-align: right;\">\n",
       "      <th></th>\n",
       "      <th>class</th>\n",
       "      <th>First</th>\n",
       "      <th>Second</th>\n",
       "      <th>Third</th>\n",
       "    </tr>\n",
       "    <tr>\n",
       "      <th>sex</th>\n",
       "      <th>age</th>\n",
       "      <th></th>\n",
       "      <th></th>\n",
       "      <th></th>\n",
       "    </tr>\n",
       "  </thead>\n",
       "  <tbody>\n",
       "    <tr>\n",
       "      <th rowspan=\"2\" valign=\"top\">female</th>\n",
       "      <th>(0, 18]</th>\n",
       "      <td>0.909091</td>\n",
       "      <td>1.000000</td>\n",
       "      <td>0.511628</td>\n",
       "    </tr>\n",
       "    <tr>\n",
       "      <th>(18, 90]</th>\n",
       "      <td>0.972973</td>\n",
       "      <td>0.900000</td>\n",
       "      <td>0.423729</td>\n",
       "    </tr>\n",
       "    <tr>\n",
       "      <th rowspan=\"2\" valign=\"top\">male</th>\n",
       "      <th>(0, 18]</th>\n",
       "      <td>0.800000</td>\n",
       "      <td>0.600000</td>\n",
       "      <td>0.215686</td>\n",
       "    </tr>\n",
       "    <tr>\n",
       "      <th>(18, 90]</th>\n",
       "      <td>0.375000</td>\n",
       "      <td>0.071429</td>\n",
       "      <td>0.133663</td>\n",
       "    </tr>\n",
       "  </tbody>\n",
       "</table>\n",
       "</div>"
      ],
      "text/plain": [
       "class               First    Second     Third\n",
       "sex    age                                   \n",
       "female (0, 18]   0.909091  1.000000  0.511628\n",
       "       (18, 90]  0.972973  0.900000  0.423729\n",
       "male   (0, 18]   0.800000  0.600000  0.215686\n",
       "       (18, 90]  0.375000  0.071429  0.133663"
      ]
     },
     "execution_count": 91,
     "metadata": {},
     "output_type": "execute_result"
    }
   ],
   "source": [
    "titanic.pivot_table(\"survived\",[\"sex\",age],\"class\")\n",
    "# age yi kullandık."
   ]
  }
 ],
 "metadata": {
  "kernelspec": {
   "display_name": "Python 3 (ipykernel)",
   "language": "python",
   "name": "python3"
  },
  "language_info": {
   "codemirror_mode": {
    "name": "ipython",
    "version": 3
   },
   "file_extension": ".py",
   "mimetype": "text/x-python",
   "name": "python",
   "nbconvert_exporter": "python",
   "pygments_lexer": "ipython3",
   "version": "3.9.7"
  },
  "papermill": {
   "default_parameters": {},
   "duration": 36.665589,
   "end_time": "2022-04-22T09:14:32.734530",
   "environment_variables": {},
   "exception": null,
   "input_path": "__notebook__.ipynb",
   "output_path": "__notebook__.ipynb",
   "parameters": {},
   "start_time": "2022-04-22T09:13:56.068941",
   "version": "2.3.3"
  }
 },
 "nbformat": 4,
 "nbformat_minor": 5
}
