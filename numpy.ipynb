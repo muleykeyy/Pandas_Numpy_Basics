{
 "cells": [
  {
   "cell_type": "code",
   "execution_count": 1,
   "id": "6765c25c",
   "metadata": {
    "_cell_guid": "b1076dfc-b9ad-4769-8c92-a6c4dae69d19",
    "_uuid": "8f2839f25d086af736a60e9eeb907d3b93b6e0e5",
    "execution": {
     "iopub.execute_input": "2022-04-22T09:07:30.065576Z",
     "iopub.status.busy": "2022-04-22T09:07:30.064573Z",
     "iopub.status.idle": "2022-04-22T09:07:30.072247Z",
     "shell.execute_reply": "2022-04-22T09:07:30.072797Z",
     "shell.execute_reply.started": "2022-02-09T14:08:23.675834Z"
    },
    "papermill": {
     "duration": 0.110018,
     "end_time": "2022-04-22T09:07:30.073192",
     "exception": false,
     "start_time": "2022-04-22T09:07:29.963174",
     "status": "completed"
    },
    "tags": []
   },
   "outputs": [],
   "source": [
    "import numpy as np\n",
    "import pandas as pd"
   ]
  },
  {
   "cell_type": "markdown",
   "id": "fd2594d8",
   "metadata": {
    "papermill": {
     "duration": 0.085711,
     "end_time": "2022-04-22T09:07:30.248544",
     "exception": false,
     "start_time": "2022-04-22T09:07:30.162833",
     "status": "completed"
    },
    "tags": []
   },
   "source": [
    "<font color='blue'>\n",
    "  \n",
    "* [GİRİŞ](#1)\n",
    "* [NumPy Array'i Oluşturmak](#2)\n",
    "    1. [ZEROS-ONES-FULL](#3)\n",
    "    1. [ARANGE-LINSPACE](#4)\n",
    "    1. [RANDOM.NORMAL - RANDOM.RANDINT](#5)\n",
    "* [NumPy ÖZELLİKLERİ](#6)\n",
    "    1. [ndim (Boyut Sayısı)](#7)\n",
    "    1. [shape (Boyut Bilgisi)](#8)\n",
    "    1. [size (Toplam Eleman Sayısı)](#9)\n",
    "    1. [dtype (Array Veri Tipi)](#10)\n",
    "    1. [RESHAPE](#11)\n",
    "    1. [CONCATENATE](#12)\n",
    "    1. [SPLIT](#13)\n",
    "    1. [SORT](#14)\n",
    "* [ELEMANLARA ERİŞMEK](#15)\n",
    "    1. [INDEX ile Elemanlara Erişmek](#16)\n",
    "    1. [SLICING ile Elemanlara Erişmek](#17)\n",
    "* [ALT KÜME İŞLEMLERİ (COPY)](#18)\n",
    "* [FANCY INDEX](#19)\n",
    "* [KOŞULLU ELEMAN İŞLEMLERİ](#20)\n",
    "* [MATEMATİKSEL İŞLEMLER](#21)"
   ]
  },
  {
   "cell_type": "markdown",
   "id": "4d23c30f",
   "metadata": {
    "papermill": {
     "duration": 0.086729,
     "end_time": "2022-04-22T09:07:30.420348",
     "exception": false,
     "start_time": "2022-04-22T09:07:30.333619",
     "status": "completed"
    },
    "tags": []
   },
   "source": [
    "<a id=\"1\"></a>\n",
    "\n",
    "# GİRİŞ"
   ]
  },
  {
   "cell_type": "markdown",
   "id": "abeb6415",
   "metadata": {
    "papermill": {
     "duration": 0.085178,
     "end_time": "2022-04-22T09:07:30.591015",
     "exception": false,
     "start_time": "2022-04-22T09:07:30.505837",
     "status": "completed"
    },
    "tags": []
   },
   "source": [
    "NumPy (Numerical Python) bilimsel hesaplamaları hızlı bir şekilde yapmamızı sağlayan bir matematik kütüphanesidir. Numpy’ın temelini numpy dizileri oluşturur. Numpy dizileri python listelerine benzer fakat hız ve işlevsellik açısından python listelerinden daha kullanışlıdır.\n",
    "\n",
    "Python listelerde listenin her bir elemanı memory de yer alır.\n",
    "\n",
    "NumPy arrayler grup halinde memoryde tutulur."
   ]
  },
  {
   "cell_type": "markdown",
   "id": "aa479d47",
   "metadata": {
    "papermill": {
     "duration": 0.084871,
     "end_time": "2022-04-22T09:07:30.760997",
     "exception": false,
     "start_time": "2022-04-22T09:07:30.676126",
     "status": "completed"
    },
    "tags": []
   },
   "source": [
    "### Python listeleri oluşturarak, iki listenin çarpımını bulalım."
   ]
  },
  {
   "cell_type": "code",
   "execution_count": 2,
   "id": "8045cfdf",
   "metadata": {
    "execution": {
     "iopub.execute_input": "2022-04-22T09:07:30.937269Z",
     "iopub.status.busy": "2022-04-22T09:07:30.936409Z",
     "iopub.status.idle": "2022-04-22T09:07:30.939210Z",
     "shell.execute_reply": "2022-04-22T09:07:30.938530Z",
     "shell.execute_reply.started": "2022-02-09T12:51:58.205215Z"
    },
    "papermill": {
     "duration": 0.092593,
     "end_time": "2022-04-22T09:07:30.939375",
     "exception": false,
     "start_time": "2022-04-22T09:07:30.846782",
     "status": "completed"
    },
    "tags": []
   },
   "outputs": [],
   "source": [
    "a=[1,2,3,4]\n",
    "b=[9,8,7,6]"
   ]
  },
  {
   "cell_type": "code",
   "execution_count": 3,
   "id": "2d763212",
   "metadata": {
    "execution": {
     "iopub.execute_input": "2022-04-22T09:07:31.124003Z",
     "iopub.status.busy": "2022-04-22T09:07:31.123001Z",
     "iopub.status.idle": "2022-04-22T09:07:31.127338Z",
     "shell.execute_reply": "2022-04-22T09:07:31.127916Z",
     "shell.execute_reply.started": "2022-02-09T12:53:01.867893Z"
    },
    "papermill": {
     "duration": 0.101628,
     "end_time": "2022-04-22T09:07:31.128128",
     "exception": false,
     "start_time": "2022-04-22T09:07:31.026500",
     "status": "completed"
    },
    "tags": []
   },
   "outputs": [
    {
     "data": {
      "text/plain": [
       "[9, 16, 21, 24]"
      ]
     },
     "execution_count": 3,
     "metadata": {},
     "output_type": "execute_result"
    }
   ],
   "source": [
    "ab=[]\n",
    "for i in range(0,len(a)):\n",
    "    ab.append(a[i]*b[i])\n",
    "ab"
   ]
  },
  {
   "cell_type": "markdown",
   "id": "ee375b4f",
   "metadata": {
    "papermill": {
     "duration": 0.087462,
     "end_time": "2022-04-22T09:07:31.303734",
     "exception": false,
     "start_time": "2022-04-22T09:07:31.216272",
     "status": "completed"
    },
    "tags": []
   },
   "source": [
    "### Aynı işlemi listeleri NumPy Array e dönüştürerek yapalım.\n"
   ]
  },
  {
   "cell_type": "code",
   "execution_count": 4,
   "id": "0a275058",
   "metadata": {
    "execution": {
     "iopub.execute_input": "2022-04-22T09:07:31.482313Z",
     "iopub.status.busy": "2022-04-22T09:07:31.481272Z",
     "iopub.status.idle": "2022-04-22T09:07:31.487940Z",
     "shell.execute_reply": "2022-04-22T09:07:31.487298Z",
     "shell.execute_reply.started": "2022-02-09T12:54:31.323939Z"
    },
    "papermill": {
     "duration": 0.096148,
     "end_time": "2022-04-22T09:07:31.488129",
     "exception": false,
     "start_time": "2022-04-22T09:07:31.391981",
     "status": "completed"
    },
    "tags": []
   },
   "outputs": [],
   "source": [
    "a_array=np.array([a])\n",
    "b_array=np.array([b])"
   ]
  },
  {
   "cell_type": "code",
   "execution_count": 5,
   "id": "2127ea47",
   "metadata": {
    "execution": {
     "iopub.execute_input": "2022-04-22T09:07:31.673480Z",
     "iopub.status.busy": "2022-04-22T09:07:31.672577Z",
     "iopub.status.idle": "2022-04-22T09:07:31.676016Z",
     "shell.execute_reply": "2022-04-22T09:07:31.676502Z",
     "shell.execute_reply.started": "2022-02-09T12:54:33.701904Z"
    },
    "papermill": {
     "duration": 0.103264,
     "end_time": "2022-04-22T09:07:31.676717",
     "exception": false,
     "start_time": "2022-04-22T09:07:31.573453",
     "status": "completed"
    },
    "tags": []
   },
   "outputs": [
    {
     "data": {
      "text/plain": [
       "array([[ 9, 16, 21, 24]])"
      ]
     },
     "execution_count": 5,
     "metadata": {},
     "output_type": "execute_result"
    }
   ],
   "source": [
    "a_array*b_array"
   ]
  },
  {
   "cell_type": "markdown",
   "id": "88787094",
   "metadata": {
    "papermill": {
     "duration": 0.086389,
     "end_time": "2022-04-22T09:07:31.850454",
     "exception": false,
     "start_time": "2022-04-22T09:07:31.764065",
     "status": "completed"
    },
    "tags": []
   },
   "source": [
    "##### NumPy Arrayler ile işlem yapmak daha kolay"
   ]
  },
  {
   "cell_type": "markdown",
   "id": "b9b8561e",
   "metadata": {
    "papermill": {
     "duration": 0.087776,
     "end_time": "2022-04-22T09:07:32.025747",
     "exception": false,
     "start_time": "2022-04-22T09:07:31.937971",
     "status": "completed"
    },
    "tags": []
   },
   "source": [
    "<a id=\"2\"></a>\n",
    "\n",
    "# NumPy Array'i Oluşturmak"
   ]
  },
  {
   "cell_type": "code",
   "execution_count": 6,
   "id": "0f022040",
   "metadata": {
    "execution": {
     "iopub.execute_input": "2022-04-22T09:07:32.207727Z",
     "iopub.status.busy": "2022-04-22T09:07:32.206739Z",
     "iopub.status.idle": "2022-04-22T09:07:32.211444Z",
     "shell.execute_reply": "2022-04-22T09:07:32.210613Z",
     "shell.execute_reply.started": "2022-02-09T13:03:26.813103Z"
    },
    "papermill": {
     "duration": 0.099451,
     "end_time": "2022-04-22T09:07:32.211612",
     "exception": false,
     "start_time": "2022-04-22T09:07:32.112161",
     "status": "completed"
    },
    "tags": []
   },
   "outputs": [
    {
     "data": {
      "text/plain": [
       "numpy.ndarray"
      ]
     },
     "execution_count": 6,
     "metadata": {},
     "output_type": "execute_result"
    }
   ],
   "source": [
    "array1=np.array([10,20,30,40,50])\n",
    "type(array1)"
   ]
  },
  {
   "cell_type": "markdown",
   "id": "5add7b1b",
   "metadata": {
    "papermill": {
     "duration": 0.086828,
     "end_time": "2022-04-22T09:07:32.385571",
     "exception": false,
     "start_time": "2022-04-22T09:07:32.298743",
     "status": "completed"
    },
    "tags": []
   },
   "source": [
    "#### dtype argümanı ile arrayimizi istediğimiz türde oluşturabiliriz."
   ]
  },
  {
   "cell_type": "code",
   "execution_count": 7,
   "id": "17a883d3",
   "metadata": {
    "execution": {
     "iopub.execute_input": "2022-04-22T09:07:32.568121Z",
     "iopub.status.busy": "2022-04-22T09:07:32.566861Z",
     "iopub.status.idle": "2022-04-22T09:07:32.572201Z",
     "shell.execute_reply": "2022-04-22T09:07:32.571594Z",
     "shell.execute_reply.started": "2022-02-09T13:05:09.413787Z"
    },
    "papermill": {
     "duration": 0.099043,
     "end_time": "2022-04-22T09:07:32.572383",
     "exception": false,
     "start_time": "2022-04-22T09:07:32.473340",
     "status": "completed"
    },
    "tags": []
   },
   "outputs": [
    {
     "data": {
      "text/plain": [
       "array([  2, 360,   8,  30,  20])"
      ]
     },
     "execution_count": 7,
     "metadata": {},
     "output_type": "execute_result"
    }
   ],
   "source": [
    "np.array([2.88,360,8.77,30,20],dtype=\"int\")"
   ]
  },
  {
   "cell_type": "markdown",
   "id": "d5fc494c",
   "metadata": {
    "papermill": {
     "duration": 0.08646,
     "end_time": "2022-04-22T09:07:32.746599",
     "exception": false,
     "start_time": "2022-04-22T09:07:32.660139",
     "status": "completed"
    },
    "tags": []
   },
   "source": [
    "<a id=\"3\"></a>\n",
    "\n",
    "<font color='purple'>\n",
    "    \n",
    "    \n",
    "### ZEROS-ONES-FULL"
   ]
  },
  {
   "cell_type": "code",
   "execution_count": 8,
   "id": "9c2059d0",
   "metadata": {
    "execution": {
     "iopub.execute_input": "2022-04-22T09:07:32.930567Z",
     "iopub.status.busy": "2022-04-22T09:07:32.929542Z",
     "iopub.status.idle": "2022-04-22T09:07:32.932976Z",
     "shell.execute_reply": "2022-04-22T09:07:32.933466Z",
     "shell.execute_reply.started": "2022-02-09T13:08:28.187845Z"
    },
    "papermill": {
     "duration": 0.099301,
     "end_time": "2022-04-22T09:07:32.933665",
     "exception": false,
     "start_time": "2022-04-22T09:07:32.834364",
     "status": "completed"
    },
    "tags": []
   },
   "outputs": [
    {
     "data": {
      "text/plain": [
       "array([0., 0., 0., 0., 0., 0., 0., 0., 0., 0.])"
      ]
     },
     "execution_count": 8,
     "metadata": {},
     "output_type": "execute_result"
    }
   ],
   "source": [
    "# ZEROS\n",
    "np.zeros(10,dtype=\"float\")"
   ]
  },
  {
   "cell_type": "code",
   "execution_count": 9,
   "id": "83c82ff8",
   "metadata": {
    "execution": {
     "iopub.execute_input": "2022-04-22T09:07:33.119318Z",
     "iopub.status.busy": "2022-04-22T09:07:33.118271Z",
     "iopub.status.idle": "2022-04-22T09:07:33.122966Z",
     "shell.execute_reply": "2022-04-22T09:07:33.122363Z",
     "shell.execute_reply.started": "2022-02-09T13:08:55.500772Z"
    },
    "papermill": {
     "duration": 0.100329,
     "end_time": "2022-04-22T09:07:33.123145",
     "exception": false,
     "start_time": "2022-04-22T09:07:33.022816",
     "status": "completed"
    },
    "tags": []
   },
   "outputs": [
    {
     "data": {
      "text/plain": [
       "array(['1', '1', '1', '1', '1'], dtype='<U1')"
      ]
     },
     "execution_count": 9,
     "metadata": {},
     "output_type": "execute_result"
    }
   ],
   "source": [
    "#ONES\n",
    "np.ones(5,dtype=\"str\")"
   ]
  },
  {
   "cell_type": "code",
   "execution_count": 10,
   "id": "0ccae9bd",
   "metadata": {
    "execution": {
     "iopub.execute_input": "2022-04-22T09:07:33.307143Z",
     "iopub.status.busy": "2022-04-22T09:07:33.306280Z",
     "iopub.status.idle": "2022-04-22T09:07:33.310031Z",
     "shell.execute_reply": "2022-04-22T09:07:33.309458Z",
     "shell.execute_reply.started": "2022-02-09T13:10:06.399452Z"
    },
    "papermill": {
     "duration": 0.098302,
     "end_time": "2022-04-22T09:07:33.310193",
     "exception": false,
     "start_time": "2022-04-22T09:07:33.211891",
     "status": "completed"
    },
    "tags": []
   },
   "outputs": [
    {
     "data": {
      "text/plain": [
       "array([[5, 5, 5, 5],\n",
       "       [5, 5, 5, 5],\n",
       "       [5, 5, 5, 5],\n",
       "       [5, 5, 5, 5]])"
      ]
     },
     "execution_count": 10,
     "metadata": {},
     "output_type": "execute_result"
    }
   ],
   "source": [
    "#FULL\n",
    "np.full((4,4),5)\n",
    "\n",
    "# 5 sayısından oluşan 4x4 lük matris oluşturduk."
   ]
  },
  {
   "cell_type": "markdown",
   "id": "f076d194",
   "metadata": {
    "papermill": {
     "duration": 0.08977,
     "end_time": "2022-04-22T09:07:33.487127",
     "exception": false,
     "start_time": "2022-04-22T09:07:33.397357",
     "status": "completed"
    },
    "tags": []
   },
   "source": [
    "<a id=\"4\"></a>\n",
    "\n",
    "<font color='purple'>\n",
    "    \n",
    "    \n",
    "### ARANGE-LINSPACE"
   ]
  },
  {
   "cell_type": "code",
   "execution_count": 11,
   "id": "4a8c9a68",
   "metadata": {
    "execution": {
     "iopub.execute_input": "2022-04-22T09:07:33.670956Z",
     "iopub.status.busy": "2022-04-22T09:07:33.670136Z",
     "iopub.status.idle": "2022-04-22T09:07:33.672968Z",
     "shell.execute_reply": "2022-04-22T09:07:33.673465Z",
     "shell.execute_reply.started": "2022-02-09T13:16:04.453581Z"
    },
    "papermill": {
     "duration": 0.097431,
     "end_time": "2022-04-22T09:07:33.673663",
     "exception": false,
     "start_time": "2022-04-22T09:07:33.576232",
     "status": "completed"
    },
    "tags": []
   },
   "outputs": [
    {
     "data": {
      "text/plain": [
       "array([ 0,  5, 10, 15, 20, 25, 30, 35, 40, 45, 50, 55, 60, 65, 70, 75, 80,\n",
       "       85, 90, 95])"
      ]
     },
     "execution_count": 11,
     "metadata": {},
     "output_type": "execute_result"
    }
   ],
   "source": [
    "# ARANGE\n",
    "np.arange(0,100,5)\n",
    "# 0 dan 100 e kadar (100 dahil değil!) \n",
    "#5 erli sayılardan array oluşturduk."
   ]
  },
  {
   "cell_type": "code",
   "execution_count": 12,
   "id": "37a12427",
   "metadata": {
    "execution": {
     "iopub.execute_input": "2022-04-22T09:07:33.858151Z",
     "iopub.status.busy": "2022-04-22T09:07:33.856925Z",
     "iopub.status.idle": "2022-04-22T09:07:33.861025Z",
     "shell.execute_reply": "2022-04-22T09:07:33.861546Z",
     "shell.execute_reply.started": "2022-02-09T13:18:22.293523Z"
    },
    "papermill": {
     "duration": 0.09923,
     "end_time": "2022-04-22T09:07:33.861786",
     "exception": false,
     "start_time": "2022-04-22T09:07:33.762556",
     "status": "completed"
    },
    "tags": []
   },
   "outputs": [
    {
     "data": {
      "text/plain": [
       "array([0.        , 0.05263158, 0.10526316, 0.15789474, 0.21052632,\n",
       "       0.26315789, 0.31578947, 0.36842105, 0.42105263, 0.47368421,\n",
       "       0.52631579, 0.57894737, 0.63157895, 0.68421053, 0.73684211,\n",
       "       0.78947368, 0.84210526, 0.89473684, 0.94736842, 1.        ])"
      ]
     },
     "execution_count": 12,
     "metadata": {},
     "output_type": "execute_result"
    }
   ],
   "source": [
    "# LINSPACE\n",
    "np.linspace(0,1,20)\n",
    "# 0-1 arasında 20 float number üretir.\n",
    "# array 0 ile başlar 1 ile biter"
   ]
  },
  {
   "cell_type": "markdown",
   "id": "81f64ddf",
   "metadata": {
    "papermill": {
     "duration": 0.087669,
     "end_time": "2022-04-22T09:07:34.038331",
     "exception": false,
     "start_time": "2022-04-22T09:07:33.950662",
     "status": "completed"
    },
    "tags": []
   },
   "source": [
    "<a id=\"5\"></a>\n",
    "\n",
    "<font color='purple'>\n",
    "    \n",
    "    \n",
    "### RANDOM.NORMAL - RANDOM.RANDINT"
   ]
  },
  {
   "cell_type": "code",
   "execution_count": 13,
   "id": "ea2c6d57",
   "metadata": {
    "execution": {
     "iopub.execute_input": "2022-04-22T09:07:34.220583Z",
     "iopub.status.busy": "2022-04-22T09:07:34.219531Z",
     "iopub.status.idle": "2022-04-22T09:07:34.226172Z",
     "shell.execute_reply": "2022-04-22T09:07:34.226826Z",
     "shell.execute_reply.started": "2022-02-09T13:21:59.629144Z"
    },
    "papermill": {
     "duration": 0.098596,
     "end_time": "2022-04-22T09:07:34.227043",
     "exception": false,
     "start_time": "2022-04-22T09:07:34.128447",
     "status": "completed"
    },
    "tags": []
   },
   "outputs": [
    {
     "data": {
      "text/plain": [
       "array([[25.43503461, 41.07231272],\n",
       "       [ 5.47256232,  6.80909938]])"
      ]
     },
     "execution_count": 13,
     "metadata": {},
     "output_type": "execute_result"
    }
   ],
   "source": [
    "# RANDOM.NORMAL\n",
    "np.random.normal(20,8,(2,2))\n",
    "# Ortalaması=20\n",
    "# Standart Sapması=8\n",
    "# olan 2x2 lik array oluşturduk"
   ]
  },
  {
   "cell_type": "code",
   "execution_count": 14,
   "id": "24840ad8",
   "metadata": {
    "execution": {
     "iopub.execute_input": "2022-04-22T09:07:34.411903Z",
     "iopub.status.busy": "2022-04-22T09:07:34.410653Z",
     "iopub.status.idle": "2022-04-22T09:07:34.414368Z",
     "shell.execute_reply": "2022-04-22T09:07:34.414896Z",
     "shell.execute_reply.started": "2022-02-09T13:24:51.503227Z"
    },
    "papermill": {
     "duration": 0.099011,
     "end_time": "2022-04-22T09:07:34.415106",
     "exception": false,
     "start_time": "2022-04-22T09:07:34.316095",
     "status": "completed"
    },
    "tags": []
   },
   "outputs": [
    {
     "data": {
      "text/plain": [
       "array([[11,  1,  7,  6],\n",
       "       [ 1,  7, 13,  1],\n",
       "       [19, 10, 11, 18],\n",
       "       [ 0, 14, 17,  8]])"
      ]
     },
     "execution_count": 14,
     "metadata": {},
     "output_type": "execute_result"
    }
   ],
   "source": [
    "# RANDOM.RANDINT\n",
    "np.random.randint(0,20,(4,4))\n",
    "# 0-20 arasında ki sayılarla 4x4 lük array olşturduk"
   ]
  },
  {
   "cell_type": "markdown",
   "id": "a57dbee7",
   "metadata": {
    "papermill": {
     "duration": 0.087881,
     "end_time": "2022-04-22T09:07:34.593688",
     "exception": false,
     "start_time": "2022-04-22T09:07:34.505807",
     "status": "completed"
    },
    "tags": []
   },
   "source": [
    "<a id=\"6\"></a>\n",
    "\n",
    "# NumPy ÖZELLİKLERİ\n",
    "*       ndim: Boyut Sayısı\n",
    "*       shape: Boyut Bilgisi\n",
    "*       size: Toplam Eleman Sayısı\n",
    "*       dtype: Array in Veri Tipi"
   ]
  },
  {
   "cell_type": "markdown",
   "id": "a441342b",
   "metadata": {
    "papermill": {
     "duration": 0.092665,
     "end_time": "2022-04-22T09:07:34.775657",
     "exception": false,
     "start_time": "2022-04-22T09:07:34.682992",
     "status": "completed"
    },
    "tags": []
   },
   "source": [
    "<a id=\"7\"></a>\n",
    "## ndim (Boyut Sayısı)"
   ]
  },
  {
   "cell_type": "code",
   "execution_count": 15,
   "id": "614b819c",
   "metadata": {
    "execution": {
     "iopub.execute_input": "2022-04-22T09:07:34.961231Z",
     "iopub.status.busy": "2022-04-22T09:07:34.960161Z",
     "iopub.status.idle": "2022-04-22T09:07:34.966279Z",
     "shell.execute_reply": "2022-04-22T09:07:34.966806Z",
     "shell.execute_reply.started": "2022-02-09T13:34:26.445425Z"
    },
    "papermill": {
     "duration": 0.099578,
     "end_time": "2022-04-22T09:07:34.967009",
     "exception": false,
     "start_time": "2022-04-22T09:07:34.867431",
     "status": "completed"
    },
    "tags": []
   },
   "outputs": [
    {
     "data": {
      "text/plain": [
       "array([[1, 1, 6],\n",
       "       [8, 2, 8],\n",
       "       [6, 5, 0]])"
      ]
     },
     "execution_count": 15,
     "metadata": {},
     "output_type": "execute_result"
    }
   ],
   "source": [
    "h=np.random.randint(0,10,(3,3))\n",
    "h"
   ]
  },
  {
   "cell_type": "code",
   "execution_count": 16,
   "id": "d708417b",
   "metadata": {
    "execution": {
     "iopub.execute_input": "2022-04-22T09:07:35.160045Z",
     "iopub.status.busy": "2022-04-22T09:07:35.159267Z",
     "iopub.status.idle": "2022-04-22T09:07:35.162122Z",
     "shell.execute_reply": "2022-04-22T09:07:35.162614Z",
     "shell.execute_reply.started": "2022-02-09T13:34:32.865449Z"
    },
    "papermill": {
     "duration": 0.103045,
     "end_time": "2022-04-22T09:07:35.162879",
     "exception": false,
     "start_time": "2022-04-22T09:07:35.059834",
     "status": "completed"
    },
    "tags": []
   },
   "outputs": [
    {
     "data": {
      "text/plain": [
       "2"
      ]
     },
     "execution_count": 16,
     "metadata": {},
     "output_type": "execute_result"
    }
   ],
   "source": [
    "h.ndim"
   ]
  },
  {
   "cell_type": "markdown",
   "id": "394fc030",
   "metadata": {
    "papermill": {
     "duration": 0.094672,
     "end_time": "2022-04-22T09:07:35.347071",
     "exception": false,
     "start_time": "2022-04-22T09:07:35.252399",
     "status": "completed"
    },
    "tags": []
   },
   "source": [
    "<a id=\"8\"></a>\n",
    "\n",
    "## shape (Boyut Bilgisi)"
   ]
  },
  {
   "cell_type": "markdown",
   "id": "8edd8723",
   "metadata": {
    "papermill": {
     "duration": 0.094302,
     "end_time": "2022-04-22T09:07:35.532331",
     "exception": false,
     "start_time": "2022-04-22T09:07:35.438029",
     "status": "completed"
    },
    "tags": []
   },
   "source": [
    "<a id=\"8\"></a>\n",
    "\n"
   ]
  },
  {
   "cell_type": "code",
   "execution_count": 17,
   "id": "9bfb1353",
   "metadata": {
    "execution": {
     "iopub.execute_input": "2022-04-22T09:07:35.714550Z",
     "iopub.status.busy": "2022-04-22T09:07:35.713863Z",
     "iopub.status.idle": "2022-04-22T09:07:35.717597Z",
     "shell.execute_reply": "2022-04-22T09:07:35.718077Z",
     "shell.execute_reply.started": "2022-02-09T13:36:29.305344Z"
    },
    "papermill": {
     "duration": 0.096711,
     "end_time": "2022-04-22T09:07:35.718321",
     "exception": false,
     "start_time": "2022-04-22T09:07:35.621610",
     "status": "completed"
    },
    "tags": []
   },
   "outputs": [
    {
     "data": {
      "text/plain": [
       "(3, 3)"
      ]
     },
     "execution_count": 17,
     "metadata": {},
     "output_type": "execute_result"
    }
   ],
   "source": [
    "h.shape"
   ]
  },
  {
   "cell_type": "markdown",
   "id": "850cc168",
   "metadata": {
    "papermill": {
     "duration": 0.089731,
     "end_time": "2022-04-22T09:07:35.899590",
     "exception": false,
     "start_time": "2022-04-22T09:07:35.809859",
     "status": "completed"
    },
    "tags": []
   },
   "source": [
    "<a id=\"9\"></a>\n",
    "\n",
    "## size (Toplam Eleman Sayısı)"
   ]
  },
  {
   "cell_type": "code",
   "execution_count": 18,
   "id": "20b0e493",
   "metadata": {
    "execution": {
     "iopub.execute_input": "2022-04-22T09:07:36.086199Z",
     "iopub.status.busy": "2022-04-22T09:07:36.085458Z",
     "iopub.status.idle": "2022-04-22T09:07:36.089811Z",
     "shell.execute_reply": "2022-04-22T09:07:36.090410Z",
     "shell.execute_reply.started": "2022-02-09T13:37:39.21118Z"
    },
    "papermill": {
     "duration": 0.10023,
     "end_time": "2022-04-22T09:07:36.090609",
     "exception": false,
     "start_time": "2022-04-22T09:07:35.990379",
     "status": "completed"
    },
    "tags": []
   },
   "outputs": [
    {
     "data": {
      "text/plain": [
       "9"
      ]
     },
     "execution_count": 18,
     "metadata": {},
     "output_type": "execute_result"
    }
   ],
   "source": [
    "h.size"
   ]
  },
  {
   "cell_type": "markdown",
   "id": "6d0bcdb4",
   "metadata": {
    "papermill": {
     "duration": 0.090676,
     "end_time": "2022-04-22T09:07:36.273900",
     "exception": false,
     "start_time": "2022-04-22T09:07:36.183224",
     "status": "completed"
    },
    "tags": []
   },
   "source": [
    "<a id=\"10\"></a>\n",
    "\n",
    "## dtype (Array Veri Tipi)"
   ]
  },
  {
   "cell_type": "code",
   "execution_count": 19,
   "id": "30c008f6",
   "metadata": {
    "execution": {
     "iopub.execute_input": "2022-04-22T09:07:36.460942Z",
     "iopub.status.busy": "2022-04-22T09:07:36.460216Z",
     "iopub.status.idle": "2022-04-22T09:07:36.465390Z",
     "shell.execute_reply": "2022-04-22T09:07:36.464687Z",
     "shell.execute_reply.started": "2022-02-09T13:38:52.508688Z"
    },
    "papermill": {
     "duration": 0.100131,
     "end_time": "2022-04-22T09:07:36.465553",
     "exception": false,
     "start_time": "2022-04-22T09:07:36.365422",
     "status": "completed"
    },
    "tags": []
   },
   "outputs": [
    {
     "data": {
      "text/plain": [
       "dtype('int64')"
      ]
     },
     "execution_count": 19,
     "metadata": {},
     "output_type": "execute_result"
    }
   ],
   "source": [
    "h.dtype"
   ]
  },
  {
   "cell_type": "markdown",
   "id": "81af3448",
   "metadata": {
    "papermill": {
     "duration": 0.089731,
     "end_time": "2022-04-22T09:07:36.645972",
     "exception": false,
     "start_time": "2022-04-22T09:07:36.556241",
     "status": "completed"
    },
    "tags": []
   },
   "source": [
    "<a id=\"11\"></a>\n",
    "\n",
    "## RESHAPE"
   ]
  },
  {
   "cell_type": "code",
   "execution_count": 20,
   "id": "ead67928",
   "metadata": {
    "execution": {
     "iopub.execute_input": "2022-04-22T09:07:36.829338Z",
     "iopub.status.busy": "2022-04-22T09:07:36.828621Z",
     "iopub.status.idle": "2022-04-22T09:07:36.833355Z",
     "shell.execute_reply": "2022-04-22T09:07:36.834000Z",
     "shell.execute_reply.started": "2022-02-09T14:09:16.921874Z"
    },
    "papermill": {
     "duration": 0.098289,
     "end_time": "2022-04-22T09:07:36.834208",
     "exception": false,
     "start_time": "2022-04-22T09:07:36.735919",
     "status": "completed"
    },
    "tags": []
   },
   "outputs": [
    {
     "data": {
      "text/plain": [
       "array([1, 2, 3, 4, 5, 6, 7, 8, 9])"
      ]
     },
     "execution_count": 20,
     "metadata": {},
     "output_type": "execute_result"
    }
   ],
   "source": [
    "k=np.arange(1,10)\n",
    "k"
   ]
  },
  {
   "cell_type": "code",
   "execution_count": 21,
   "id": "cfd2a163",
   "metadata": {
    "execution": {
     "iopub.execute_input": "2022-04-22T09:07:37.020047Z",
     "iopub.status.busy": "2022-04-22T09:07:37.019293Z",
     "iopub.status.idle": "2022-04-22T09:07:37.024163Z",
     "shell.execute_reply": "2022-04-22T09:07:37.024735Z",
     "shell.execute_reply.started": "2022-02-09T14:09:19.267999Z"
    },
    "papermill": {
     "duration": 0.099832,
     "end_time": "2022-04-22T09:07:37.024966",
     "exception": false,
     "start_time": "2022-04-22T09:07:36.925134",
     "status": "completed"
    },
    "tags": []
   },
   "outputs": [
    {
     "data": {
      "text/plain": [
       "array([[1, 2, 3],\n",
       "       [4, 5, 6],\n",
       "       [7, 8, 9]])"
      ]
     },
     "execution_count": 21,
     "metadata": {},
     "output_type": "execute_result"
    }
   ],
   "source": [
    "k.reshape((3,3))"
   ]
  },
  {
   "cell_type": "markdown",
   "id": "441f492a",
   "metadata": {
    "papermill": {
     "duration": 0.093633,
     "end_time": "2022-04-22T09:07:37.213106",
     "exception": false,
     "start_time": "2022-04-22T09:07:37.119473",
     "status": "completed"
    },
    "tags": []
   },
   "source": [
    "<a id=\"12\"></a>\n",
    "\n",
    "### CONCATENATE"
   ]
  },
  {
   "cell_type": "code",
   "execution_count": 22,
   "id": "57a964b2",
   "metadata": {
    "execution": {
     "iopub.execute_input": "2022-04-22T09:07:37.407501Z",
     "iopub.status.busy": "2022-04-22T09:07:37.406831Z",
     "iopub.status.idle": "2022-04-22T09:07:37.411016Z",
     "shell.execute_reply": "2022-04-22T09:07:37.411580Z",
     "shell.execute_reply.started": "2022-02-09T14:11:09.182984Z"
    },
    "papermill": {
     "duration": 0.100843,
     "end_time": "2022-04-22T09:07:37.411819",
     "exception": false,
     "start_time": "2022-04-22T09:07:37.310976",
     "status": "completed"
    },
    "tags": []
   },
   "outputs": [],
   "source": [
    "x=np.array([9,8,7])\n",
    "y=np.array([6,5,4])"
   ]
  },
  {
   "cell_type": "code",
   "execution_count": 23,
   "id": "4515ee36",
   "metadata": {
    "execution": {
     "iopub.execute_input": "2022-04-22T09:07:37.604667Z",
     "iopub.status.busy": "2022-04-22T09:07:37.603598Z",
     "iopub.status.idle": "2022-04-22T09:07:37.610123Z",
     "shell.execute_reply": "2022-04-22T09:07:37.610681Z",
     "shell.execute_reply.started": "2022-02-09T14:11:21.929036Z"
    },
    "papermill": {
     "duration": 0.104394,
     "end_time": "2022-04-22T09:07:37.610926",
     "exception": false,
     "start_time": "2022-04-22T09:07:37.506532",
     "status": "completed"
    },
    "tags": []
   },
   "outputs": [
    {
     "data": {
      "text/plain": [
       "array([9, 8, 7, 6, 5, 4])"
      ]
     },
     "execution_count": 23,
     "metadata": {},
     "output_type": "execute_result"
    }
   ],
   "source": [
    "np.concatenate([x,y])"
   ]
  },
  {
   "cell_type": "markdown",
   "id": "c1c43475",
   "metadata": {
    "papermill": {
     "duration": 0.092996,
     "end_time": "2022-04-22T09:07:37.797396",
     "exception": false,
     "start_time": "2022-04-22T09:07:37.704400",
     "status": "completed"
    },
    "tags": []
   },
   "source": [
    "### İKİ BOYUTTA CONCATENATE"
   ]
  },
  {
   "cell_type": "code",
   "execution_count": 24,
   "id": "70668782",
   "metadata": {
    "execution": {
     "iopub.execute_input": "2022-04-22T09:07:37.988802Z",
     "iopub.status.busy": "2022-04-22T09:07:37.988118Z",
     "iopub.status.idle": "2022-04-22T09:07:37.992993Z",
     "shell.execute_reply": "2022-04-22T09:07:37.993513Z",
     "shell.execute_reply.started": "2022-02-09T14:12:54.168961Z"
    },
    "papermill": {
     "duration": 0.101577,
     "end_time": "2022-04-22T09:07:37.993684",
     "exception": false,
     "start_time": "2022-04-22T09:07:37.892107",
     "status": "completed"
    },
    "tags": []
   },
   "outputs": [],
   "source": [
    "xx=np.array([[1,2,3],[4,5,6]])\n",
    "yy=np.array([[3,5,7],[9,5,1]])"
   ]
  },
  {
   "cell_type": "code",
   "execution_count": 25,
   "id": "6a15c567",
   "metadata": {
    "execution": {
     "iopub.execute_input": "2022-04-22T09:07:38.207962Z",
     "iopub.status.busy": "2022-04-22T09:07:38.204986Z",
     "iopub.status.idle": "2022-04-22T09:07:38.211374Z",
     "shell.execute_reply": "2022-04-22T09:07:38.212111Z",
     "shell.execute_reply.started": "2022-02-09T14:13:15.465282Z"
    },
    "papermill": {
     "duration": 0.120834,
     "end_time": "2022-04-22T09:07:38.212302",
     "exception": false,
     "start_time": "2022-04-22T09:07:38.091468",
     "status": "completed"
    },
    "tags": []
   },
   "outputs": [
    {
     "data": {
      "text/plain": [
       "array([[1, 2, 3, 3, 5, 7],\n",
       "       [4, 5, 6, 9, 5, 1]])"
      ]
     },
     "execution_count": 25,
     "metadata": {},
     "output_type": "execute_result"
    }
   ],
   "source": [
    "# AXIS=1\n",
    "np.concatenate([xx,yy],axis=1) \n",
    "# Sütun olarak birleştirir"
   ]
  },
  {
   "cell_type": "code",
   "execution_count": 26,
   "id": "d2123a50",
   "metadata": {
    "execution": {
     "iopub.execute_input": "2022-04-22T09:07:38.404743Z",
     "iopub.status.busy": "2022-04-22T09:07:38.404014Z",
     "iopub.status.idle": "2022-04-22T09:07:38.409413Z",
     "shell.execute_reply": "2022-04-22T09:07:38.409939Z",
     "shell.execute_reply.started": "2022-02-09T14:13:26.490761Z"
    },
    "papermill": {
     "duration": 0.103188,
     "end_time": "2022-04-22T09:07:38.410143",
     "exception": false,
     "start_time": "2022-04-22T09:07:38.306955",
     "status": "completed"
    },
    "tags": []
   },
   "outputs": [
    {
     "data": {
      "text/plain": [
       "array([[1, 2, 3],\n",
       "       [4, 5, 6],\n",
       "       [3, 5, 7],\n",
       "       [9, 5, 1]])"
      ]
     },
     "execution_count": 26,
     "metadata": {},
     "output_type": "execute_result"
    }
   ],
   "source": [
    "# AXIS=0\n",
    "np.concatenate([xx,yy],axis=0)\n",
    "# Satır olarak birleştirir"
   ]
  },
  {
   "cell_type": "markdown",
   "id": "f0ed9759",
   "metadata": {
    "papermill": {
     "duration": 0.092199,
     "end_time": "2022-04-22T09:07:38.596872",
     "exception": false,
     "start_time": "2022-04-22T09:07:38.504673",
     "status": "completed"
    },
    "tags": []
   },
   "source": [
    "<a id=\"13\"></a>\n",
    "\n",
    "## SPLIT"
   ]
  },
  {
   "cell_type": "code",
   "execution_count": 27,
   "id": "85152ae0",
   "metadata": {
    "execution": {
     "iopub.execute_input": "2022-04-22T09:07:38.790017Z",
     "iopub.status.busy": "2022-04-22T09:07:38.788989Z",
     "iopub.status.idle": "2022-04-22T09:07:38.793751Z",
     "shell.execute_reply": "2022-04-22T09:07:38.793107Z",
     "shell.execute_reply.started": "2022-02-09T14:22:04.133764Z"
    },
    "papermill": {
     "duration": 0.104041,
     "end_time": "2022-04-22T09:07:38.793909",
     "exception": false,
     "start_time": "2022-04-22T09:07:38.689868",
     "status": "completed"
    },
    "tags": []
   },
   "outputs": [
    {
     "data": {
      "text/plain": [
       "array([78, 65, 33,  2,  4,  9, 58, 97])"
      ]
     },
     "execution_count": 27,
     "metadata": {},
     "output_type": "execute_result"
    }
   ],
   "source": [
    "t=np.array([78,65,33,2,4,9,58,97])\n",
    "t"
   ]
  },
  {
   "cell_type": "code",
   "execution_count": 28,
   "id": "690d315d",
   "metadata": {
    "execution": {
     "iopub.execute_input": "2022-04-22T09:07:38.985168Z",
     "iopub.status.busy": "2022-04-22T09:07:38.984324Z",
     "iopub.status.idle": "2022-04-22T09:07:38.987513Z",
     "shell.execute_reply": "2022-04-22T09:07:38.988007Z",
     "shell.execute_reply.started": "2022-02-09T14:28:40.387609Z"
    },
    "papermill": {
     "duration": 0.102341,
     "end_time": "2022-04-22T09:07:38.988189",
     "exception": false,
     "start_time": "2022-04-22T09:07:38.885848",
     "status": "completed"
    },
    "tags": []
   },
   "outputs": [
    {
     "data": {
      "text/plain": [
       "[array([78, 65]), array([33,  2]), array([4, 9]), array([58, 97])]"
      ]
     },
     "execution_count": 28,
     "metadata": {},
     "output_type": "execute_result"
    }
   ],
   "source": [
    "np.split(t,4)\n",
    "# 4 array oluşturur."
   ]
  },
  {
   "cell_type": "code",
   "execution_count": 29,
   "id": "36f17f8a",
   "metadata": {
    "execution": {
     "iopub.execute_input": "2022-04-22T09:07:39.182599Z",
     "iopub.status.busy": "2022-04-22T09:07:39.181678Z",
     "iopub.status.idle": "2022-04-22T09:07:39.185343Z",
     "shell.execute_reply": "2022-04-22T09:07:39.185858Z",
     "shell.execute_reply.started": "2022-02-09T14:25:49.58658Z"
    },
    "papermill": {
     "duration": 0.104023,
     "end_time": "2022-04-22T09:07:39.186058",
     "exception": false,
     "start_time": "2022-04-22T09:07:39.082035",
     "status": "completed"
    },
    "tags": []
   },
   "outputs": [
    {
     "data": {
      "text/plain": [
       "[array([78, 65, 33]), array([2, 4]), array([ 9, 58, 97])]"
      ]
     },
     "execution_count": 29,
     "metadata": {},
     "output_type": "execute_result"
    }
   ],
   "source": [
    "np.split(t,[3,5])\n",
    "# 3 -> 0-1-2. elemanı bir array olarak ayır.\n",
    "# 5 -> 5. eleman ve gerisini bir array olarak ayır.\n",
    "# Kalan elemanları başka bir array olarak ayır."
   ]
  },
  {
   "cell_type": "code",
   "execution_count": 30,
   "id": "5e464728",
   "metadata": {
    "execution": {
     "iopub.execute_input": "2022-04-22T09:07:39.382982Z",
     "iopub.status.busy": "2022-04-22T09:07:39.382010Z",
     "iopub.status.idle": "2022-04-22T09:07:39.385604Z",
     "shell.execute_reply": "2022-04-22T09:07:39.386220Z",
     "shell.execute_reply.started": "2022-02-09T14:31:23.907618Z"
    },
    "papermill": {
     "duration": 0.106741,
     "end_time": "2022-04-22T09:07:39.386423",
     "exception": false,
     "start_time": "2022-04-22T09:07:39.279682",
     "status": "completed"
    },
    "tags": []
   },
   "outputs": [
    {
     "data": {
      "text/plain": [
       "(array([78, 65, 33]), array([2, 4]), array([ 9, 58, 97]))"
      ]
     },
     "execution_count": 30,
     "metadata": {},
     "output_type": "execute_result"
    }
   ],
   "source": [
    "# Ayırdığımız arrayleri kullanmak istersek:\n",
    "\n",
    "j,i,r=np.split(t,[3,5])\n",
    "j,i,r"
   ]
  },
  {
   "cell_type": "markdown",
   "id": "fbb3fccf",
   "metadata": {
    "papermill": {
     "duration": 0.092204,
     "end_time": "2022-04-22T09:07:39.572591",
     "exception": false,
     "start_time": "2022-04-22T09:07:39.480387",
     "status": "completed"
    },
    "tags": []
   },
   "source": [
    "### İKİ BOYUTTA SPLIT"
   ]
  },
  {
   "cell_type": "code",
   "execution_count": 31,
   "id": "5b14947b",
   "metadata": {
    "execution": {
     "iopub.execute_input": "2022-04-22T09:07:39.762426Z",
     "iopub.status.busy": "2022-04-22T09:07:39.761408Z",
     "iopub.status.idle": "2022-04-22T09:07:39.767808Z",
     "shell.execute_reply": "2022-04-22T09:07:39.768406Z",
     "shell.execute_reply.started": "2022-02-09T14:32:14.799801Z"
    },
    "papermill": {
     "duration": 0.103058,
     "end_time": "2022-04-22T09:07:39.768607",
     "exception": false,
     "start_time": "2022-04-22T09:07:39.665549",
     "status": "completed"
    },
    "tags": []
   },
   "outputs": [
    {
     "data": {
      "text/plain": [
       "array([[ 0,  1,  2,  3],\n",
       "       [ 4,  5,  6,  7],\n",
       "       [ 8,  9, 10, 11],\n",
       "       [12, 13, 14, 15]])"
      ]
     },
     "execution_count": 31,
     "metadata": {},
     "output_type": "execute_result"
    }
   ],
   "source": [
    "tt=np.arange(16).reshape(4,4)\n",
    "tt"
   ]
  },
  {
   "cell_type": "code",
   "execution_count": 32,
   "id": "6826fb88",
   "metadata": {
    "execution": {
     "iopub.execute_input": "2022-04-22T09:07:39.963056Z",
     "iopub.status.busy": "2022-04-22T09:07:39.961898Z",
     "iopub.status.idle": "2022-04-22T09:07:39.965718Z",
     "shell.execute_reply": "2022-04-22T09:07:39.966372Z",
     "shell.execute_reply.started": "2022-02-09T14:33:05.169864Z"
    },
    "papermill": {
     "duration": 0.104976,
     "end_time": "2022-04-22T09:07:39.966578",
     "exception": false,
     "start_time": "2022-04-22T09:07:39.861602",
     "status": "completed"
    },
    "tags": []
   },
   "outputs": [
    {
     "data": {
      "text/plain": [
       "[array([[0, 1, 2, 3],\n",
       "        [4, 5, 6, 7]]),\n",
       " array([[ 8,  9, 10, 11],\n",
       "        [12, 13, 14, 15]])]"
      ]
     },
     "execution_count": 32,
     "metadata": {},
     "output_type": "execute_result"
    }
   ],
   "source": [
    "# VERTICAL SPLIT (vsplit)\n",
    "np.vsplit(tt,[2])\n",
    "# YATAY\n",
    "# Oluşturduğumuz 4x4 lük matrisi 2 ye böldük."
   ]
  },
  {
   "cell_type": "code",
   "execution_count": 33,
   "id": "8448a913",
   "metadata": {
    "execution": {
     "iopub.execute_input": "2022-04-22T09:07:40.163766Z",
     "iopub.status.busy": "2022-04-22T09:07:40.163024Z",
     "iopub.status.idle": "2022-04-22T09:07:40.165748Z",
     "shell.execute_reply": "2022-04-22T09:07:40.166251Z",
     "shell.execute_reply.started": "2022-02-09T14:34:15.465689Z"
    },
    "papermill": {
     "duration": 0.104677,
     "end_time": "2022-04-22T09:07:40.166460",
     "exception": false,
     "start_time": "2022-04-22T09:07:40.061783",
     "status": "completed"
    },
    "tags": []
   },
   "outputs": [
    {
     "data": {
      "text/plain": [
       "[array([[ 0,  1],\n",
       "        [ 4,  5],\n",
       "        [ 8,  9],\n",
       "        [12, 13]]),\n",
       " array([[ 2,  3],\n",
       "        [ 6,  7],\n",
       "        [10, 11],\n",
       "        [14, 15]])]"
      ]
     },
     "execution_count": 33,
     "metadata": {},
     "output_type": "execute_result"
    }
   ],
   "source": [
    "# HORIZANTAL SPLIT (hsplit)\n",
    "np.hsplit(tt,[2])\n",
    "# DİKEY\n",
    "# Her satırın ilk iki elemanı birinci arraye\n",
    "# kalanlar ikinci arraye"
   ]
  },
  {
   "cell_type": "markdown",
   "id": "6984db79",
   "metadata": {
    "papermill": {
     "duration": 0.095753,
     "end_time": "2022-04-22T09:07:40.356930",
     "exception": false,
     "start_time": "2022-04-22T09:07:40.261177",
     "status": "completed"
    },
    "tags": []
   },
   "source": [
    "<a id=\"14\"></a>\n",
    "\n",
    "## SORT"
   ]
  },
  {
   "cell_type": "code",
   "execution_count": 34,
   "id": "9753e7e7",
   "metadata": {
    "execution": {
     "iopub.execute_input": "2022-04-22T09:07:40.559715Z",
     "iopub.status.busy": "2022-04-22T09:07:40.557962Z",
     "iopub.status.idle": "2022-04-22T09:07:40.561360Z",
     "shell.execute_reply": "2022-04-22T09:07:40.561935Z",
     "shell.execute_reply.started": "2022-02-09T14:38:04.176154Z"
    },
    "papermill": {
     "duration": 0.11052,
     "end_time": "2022-04-22T09:07:40.562134",
     "exception": false,
     "start_time": "2022-04-22T09:07:40.451614",
     "status": "completed"
    },
    "tags": []
   },
   "outputs": [],
   "source": [
    "s=np.array([8,5,2,7,4])"
   ]
  },
  {
   "cell_type": "markdown",
   "id": "2b5d29ee",
   "metadata": {
    "papermill": {
     "duration": 0.098518,
     "end_time": "2022-04-22T09:07:40.758657",
     "exception": false,
     "start_time": "2022-04-22T09:07:40.660139",
     "status": "completed"
    },
    "tags": []
   },
   "source": [
    "##### np.sort(s) s arrayinin orjinal halini bozmaz.\n",
    "##### Sort edilmiş halini kullanmak istersek yeniden atama yapmamız gerekir."
   ]
  },
  {
   "cell_type": "code",
   "execution_count": 35,
   "id": "8a208227",
   "metadata": {
    "execution": {
     "iopub.execute_input": "2022-04-22T09:07:40.951768Z",
     "iopub.status.busy": "2022-04-22T09:07:40.950795Z",
     "iopub.status.idle": "2022-04-22T09:07:40.956248Z",
     "shell.execute_reply": "2022-04-22T09:07:40.956859Z",
     "shell.execute_reply.started": "2022-02-09T14:38:13.85661Z"
    },
    "papermill": {
     "duration": 0.103112,
     "end_time": "2022-04-22T09:07:40.957039",
     "exception": false,
     "start_time": "2022-04-22T09:07:40.853927",
     "status": "completed"
    },
    "tags": []
   },
   "outputs": [
    {
     "data": {
      "text/plain": [
       "array([2, 4, 5, 7, 8])"
      ]
     },
     "execution_count": 35,
     "metadata": {},
     "output_type": "execute_result"
    }
   ],
   "source": [
    "np.sort(s)"
   ]
  },
  {
   "cell_type": "markdown",
   "id": "ee47f822",
   "metadata": {
    "papermill": {
     "duration": 0.096024,
     "end_time": "2022-04-22T09:07:41.148972",
     "exception": false,
     "start_time": "2022-04-22T09:07:41.052948",
     "status": "completed"
    },
    "tags": []
   },
   "source": [
    "##### Python un sort() fonksiyonu s arrayinin orjinalini değiştirir."
   ]
  },
  {
   "cell_type": "code",
   "execution_count": 36,
   "id": "b71b601d",
   "metadata": {
    "execution": {
     "iopub.execute_input": "2022-04-22T09:07:41.342513Z",
     "iopub.status.busy": "2022-04-22T09:07:41.341514Z",
     "iopub.status.idle": "2022-04-22T09:07:41.347192Z",
     "shell.execute_reply": "2022-04-22T09:07:41.347806Z",
     "shell.execute_reply.started": "2022-02-09T14:39:51.257258Z"
    },
    "papermill": {
     "duration": 0.103396,
     "end_time": "2022-04-22T09:07:41.347988",
     "exception": false,
     "start_time": "2022-04-22T09:07:41.244592",
     "status": "completed"
    },
    "tags": []
   },
   "outputs": [
    {
     "data": {
      "text/plain": [
       "array([2, 4, 5, 7, 8])"
      ]
     },
     "execution_count": 36,
     "metadata": {},
     "output_type": "execute_result"
    }
   ],
   "source": [
    "s.sort()\n",
    "s"
   ]
  },
  {
   "cell_type": "markdown",
   "id": "afa90d68",
   "metadata": {
    "papermill": {
     "duration": 0.094896,
     "end_time": "2022-04-22T09:07:41.539258",
     "exception": false,
     "start_time": "2022-04-22T09:07:41.444362",
     "status": "completed"
    },
    "tags": []
   },
   "source": [
    "### İKİ BOYUTLU ARRAYLERDE SORT"
   ]
  },
  {
   "cell_type": "code",
   "execution_count": 37,
   "id": "78174feb",
   "metadata": {
    "execution": {
     "iopub.execute_input": "2022-04-22T09:07:41.729564Z",
     "iopub.status.busy": "2022-04-22T09:07:41.728602Z",
     "iopub.status.idle": "2022-04-22T09:07:41.734419Z",
     "shell.execute_reply": "2022-04-22T09:07:41.735043Z",
     "shell.execute_reply.started": "2022-02-09T14:43:13.281564Z"
    },
    "papermill": {
     "duration": 0.102568,
     "end_time": "2022-04-22T09:07:41.735223",
     "exception": false,
     "start_time": "2022-04-22T09:07:41.632655",
     "status": "completed"
    },
    "tags": []
   },
   "outputs": [
    {
     "data": {
      "text/plain": [
       "array([[ 0,  1,  5, 15],\n",
       "       [11,  2, 19,  3],\n",
       "       [17,  1, 16,  8],\n",
       "       [15,  1,  6,  4]])"
      ]
     },
     "execution_count": 37,
     "metadata": {},
     "output_type": "execute_result"
    }
   ],
   "source": [
    "ss=np.random.randint(0,20,(4,4))\n",
    "ss"
   ]
  },
  {
   "cell_type": "code",
   "execution_count": 38,
   "id": "12457d69",
   "metadata": {
    "execution": {
     "iopub.execute_input": "2022-04-22T09:07:41.927207Z",
     "iopub.status.busy": "2022-04-22T09:07:41.926186Z",
     "iopub.status.idle": "2022-04-22T09:07:41.931672Z",
     "shell.execute_reply": "2022-04-22T09:07:41.932285Z",
     "shell.execute_reply.started": "2022-02-09T14:43:42.481405Z"
    },
    "papermill": {
     "duration": 0.103068,
     "end_time": "2022-04-22T09:07:41.932463",
     "exception": false,
     "start_time": "2022-04-22T09:07:41.829395",
     "status": "completed"
    },
    "tags": []
   },
   "outputs": [
    {
     "data": {
      "text/plain": [
       "array([[ 0,  1,  5,  3],\n",
       "       [11,  1,  6,  4],\n",
       "       [15,  1, 16,  8],\n",
       "       [17,  2, 19, 15]])"
      ]
     },
     "execution_count": 38,
     "metadata": {},
     "output_type": "execute_result"
    }
   ],
   "source": [
    "# AXIS=0\n",
    "np.sort(ss,axis=0)\n",
    "# Her bir sütunu kendi içinde küçükten büyüğe sıralar."
   ]
  },
  {
   "cell_type": "code",
   "execution_count": 39,
   "id": "1a5f7282",
   "metadata": {
    "execution": {
     "iopub.execute_input": "2022-04-22T09:07:42.128967Z",
     "iopub.status.busy": "2022-04-22T09:07:42.127880Z",
     "iopub.status.idle": "2022-04-22T09:07:42.134255Z",
     "shell.execute_reply": "2022-04-22T09:07:42.134916Z",
     "shell.execute_reply.started": "2022-02-09T14:45:01.824621Z"
    },
    "papermill": {
     "duration": 0.107339,
     "end_time": "2022-04-22T09:07:42.135128",
     "exception": false,
     "start_time": "2022-04-22T09:07:42.027789",
     "status": "completed"
    },
    "tags": []
   },
   "outputs": [
    {
     "data": {
      "text/plain": [
       "array([[ 0,  1,  5, 15],\n",
       "       [ 2,  3, 11, 19],\n",
       "       [ 1,  8, 16, 17],\n",
       "       [ 1,  4,  6, 15]])"
      ]
     },
     "execution_count": 39,
     "metadata": {},
     "output_type": "execute_result"
    }
   ],
   "source": [
    "# AXIS=1\n",
    "np.sort(ss,axis=1)\n",
    "# Her bir satırı kendi içinde küçükten büyüğe sıralar."
   ]
  },
  {
   "cell_type": "markdown",
   "id": "6dfc8745",
   "metadata": {
    "papermill": {
     "duration": 0.09547,
     "end_time": "2022-04-22T09:07:42.327218",
     "exception": false,
     "start_time": "2022-04-22T09:07:42.231748",
     "status": "completed"
    },
    "tags": []
   },
   "source": [
    "<a id=\"15\"></a>\n",
    "\n",
    "# ELEMANLARA ERİŞMEK"
   ]
  },
  {
   "cell_type": "markdown",
   "id": "46dadd4d",
   "metadata": {
    "papermill": {
     "duration": 0.096721,
     "end_time": "2022-04-22T09:07:42.522851",
     "exception": false,
     "start_time": "2022-04-22T09:07:42.426130",
     "status": "completed"
    },
    "tags": []
   },
   "source": [
    "<a id=\"16\"></a>\n",
    "\n",
    "## INDEX ile Elemanlara Erişmek"
   ]
  },
  {
   "cell_type": "code",
   "execution_count": 40,
   "id": "5147500f",
   "metadata": {
    "execution": {
     "iopub.execute_input": "2022-04-22T09:07:42.724044Z",
     "iopub.status.busy": "2022-04-22T09:07:42.723111Z",
     "iopub.status.idle": "2022-04-22T09:07:42.726553Z",
     "shell.execute_reply": "2022-04-22T09:07:42.727060Z",
     "shell.execute_reply.started": "2022-02-09T14:49:11.490487Z"
    },
    "papermill": {
     "duration": 0.106668,
     "end_time": "2022-04-22T09:07:42.727255",
     "exception": false,
     "start_time": "2022-04-22T09:07:42.620587",
     "status": "completed"
    },
    "tags": []
   },
   "outputs": [
    {
     "data": {
      "text/plain": [
       "array([8, 7, 9, 7, 5, 5, 8, 6, 5, 4])"
      ]
     },
     "execution_count": 40,
     "metadata": {},
     "output_type": "execute_result"
    }
   ],
   "source": [
    "z=np.random.randint(10,size=10)\n",
    "z"
   ]
  },
  {
   "cell_type": "code",
   "execution_count": 41,
   "id": "913cb9b6",
   "metadata": {
    "execution": {
     "iopub.execute_input": "2022-04-22T09:07:42.923408Z",
     "iopub.status.busy": "2022-04-22T09:07:42.922365Z",
     "iopub.status.idle": "2022-04-22T09:07:42.928185Z",
     "shell.execute_reply": "2022-04-22T09:07:42.928823Z",
     "shell.execute_reply.started": "2022-02-09T14:49:26.752171Z"
    },
    "papermill": {
     "duration": 0.105785,
     "end_time": "2022-04-22T09:07:42.929029",
     "exception": false,
     "start_time": "2022-04-22T09:07:42.823244",
     "status": "completed"
    },
    "tags": []
   },
   "outputs": [
    {
     "data": {
      "text/plain": [
       "4"
      ]
     },
     "execution_count": 41,
     "metadata": {},
     "output_type": "execute_result"
    }
   ],
   "source": [
    "z[-1] # Son eleman."
   ]
  },
  {
   "cell_type": "code",
   "execution_count": 42,
   "id": "b660efcd",
   "metadata": {
    "execution": {
     "iopub.execute_input": "2022-04-22T09:07:43.133420Z",
     "iopub.status.busy": "2022-04-22T09:07:43.132268Z",
     "iopub.status.idle": "2022-04-22T09:07:43.134237Z",
     "shell.execute_reply": "2022-04-22T09:07:43.134746Z",
     "shell.execute_reply.started": "2022-02-09T14:50:21.042901Z"
    },
    "papermill": {
     "duration": 0.106135,
     "end_time": "2022-04-22T09:07:43.134947",
     "exception": false,
     "start_time": "2022-04-22T09:07:43.028812",
     "status": "completed"
    },
    "tags": []
   },
   "outputs": [],
   "source": [
    "z[0]=97 # İlk elemanı değiştirdik"
   ]
  },
  {
   "cell_type": "code",
   "execution_count": 43,
   "id": "e68795b2",
   "metadata": {
    "execution": {
     "iopub.execute_input": "2022-04-22T09:07:43.334866Z",
     "iopub.status.busy": "2022-04-22T09:07:43.333824Z",
     "iopub.status.idle": "2022-04-22T09:07:43.339866Z",
     "shell.execute_reply": "2022-04-22T09:07:43.340348Z",
     "shell.execute_reply.started": "2022-02-09T14:50:24.796136Z"
    },
    "papermill": {
     "duration": 0.107492,
     "end_time": "2022-04-22T09:07:43.340558",
     "exception": false,
     "start_time": "2022-04-22T09:07:43.233066",
     "status": "completed"
    },
    "tags": []
   },
   "outputs": [
    {
     "data": {
      "text/plain": [
       "array([97,  7,  9,  7,  5,  5,  8,  6,  5,  4])"
      ]
     },
     "execution_count": 43,
     "metadata": {},
     "output_type": "execute_result"
    }
   ],
   "source": [
    "z"
   ]
  },
  {
   "cell_type": "markdown",
   "id": "943a2f01",
   "metadata": {
    "papermill": {
     "duration": 0.098969,
     "end_time": "2022-04-22T09:07:43.540113",
     "exception": false,
     "start_time": "2022-04-22T09:07:43.441144",
     "status": "completed"
    },
    "tags": []
   },
   "source": [
    "### İKİ BOYUTTA İNDEX"
   ]
  },
  {
   "cell_type": "code",
   "execution_count": 44,
   "id": "b71a93a7",
   "metadata": {
    "execution": {
     "iopub.execute_input": "2022-04-22T09:07:43.747077Z",
     "iopub.status.busy": "2022-04-22T09:07:43.746141Z",
     "iopub.status.idle": "2022-04-22T09:07:43.750180Z",
     "shell.execute_reply": "2022-04-22T09:07:43.749570Z",
     "shell.execute_reply.started": "2022-02-09T14:51:49.510671Z"
    },
    "papermill": {
     "duration": 0.110024,
     "end_time": "2022-04-22T09:07:43.750340",
     "exception": false,
     "start_time": "2022-04-22T09:07:43.640316",
     "status": "completed"
    },
    "tags": []
   },
   "outputs": [
    {
     "data": {
      "text/plain": [
       "array([[17, 19,  2,  4, 16],\n",
       "       [ 0, 14, 17,  0,  2],\n",
       "       [17,  8, 12, 19,  9]])"
      ]
     },
     "execution_count": 44,
     "metadata": {},
     "output_type": "execute_result"
    }
   ],
   "source": [
    "zz=np.random.randint(0,20,(3,5))\n",
    "zz"
   ]
  },
  {
   "cell_type": "code",
   "execution_count": 45,
   "id": "3951668d",
   "metadata": {
    "execution": {
     "iopub.execute_input": "2022-04-22T09:07:43.952553Z",
     "iopub.status.busy": "2022-04-22T09:07:43.951850Z",
     "iopub.status.idle": "2022-04-22T09:07:43.954574Z",
     "shell.execute_reply": "2022-04-22T09:07:43.955088Z",
     "shell.execute_reply.started": "2022-02-09T14:52:49.807191Z"
    },
    "papermill": {
     "duration": 0.106854,
     "end_time": "2022-04-22T09:07:43.955296",
     "exception": false,
     "start_time": "2022-04-22T09:07:43.848442",
     "status": "completed"
    },
    "tags": []
   },
   "outputs": [
    {
     "data": {
      "text/plain": [
       "0"
      ]
     },
     "execution_count": 45,
     "metadata": {},
     "output_type": "execute_result"
    }
   ],
   "source": [
    "zz[1,3] \n",
    "# 1 -> Satır\n",
    "# 3 -> Sütun"
   ]
  },
  {
   "cell_type": "code",
   "execution_count": 46,
   "id": "f9b8b598",
   "metadata": {
    "execution": {
     "iopub.execute_input": "2022-04-22T09:07:44.156379Z",
     "iopub.status.busy": "2022-04-22T09:07:44.155548Z",
     "iopub.status.idle": "2022-04-22T09:07:44.161597Z",
     "shell.execute_reply": "2022-04-22T09:07:44.162108Z",
     "shell.execute_reply.started": "2022-02-09T14:53:58.217383Z"
    },
    "papermill": {
     "duration": 0.107409,
     "end_time": "2022-04-22T09:07:44.162330",
     "exception": false,
     "start_time": "2022-04-22T09:07:44.054921",
     "status": "completed"
    },
    "tags": []
   },
   "outputs": [
    {
     "data": {
      "text/plain": [
       "array([[17, 19,  2,  4, 16],\n",
       "       [ 0, 14, 17, 97,  2],\n",
       "       [17,  8, 12, 19,  9]])"
      ]
     },
     "execution_count": 46,
     "metadata": {},
     "output_type": "execute_result"
    }
   ],
   "source": [
    "zz[1,3]=97\n",
    "zz"
   ]
  },
  {
   "cell_type": "markdown",
   "id": "32e81f74",
   "metadata": {
    "papermill": {
     "duration": 0.097892,
     "end_time": "2022-04-22T09:07:44.358236",
     "exception": false,
     "start_time": "2022-04-22T09:07:44.260344",
     "status": "completed"
    },
    "tags": []
   },
   "source": [
    "<font color='red'>\n",
    "\n",
    "### NumPy Array lerde sonradan eklenilen farklı türdeki değişkeni arrayin var olan elemanlarının türüne çevirir. Var olan sistemi bozmaz"
   ]
  },
  {
   "cell_type": "code",
   "execution_count": 47,
   "id": "711f00c7",
   "metadata": {
    "execution": {
     "iopub.execute_input": "2022-04-22T09:07:44.565064Z",
     "iopub.status.busy": "2022-04-22T09:07:44.564303Z",
     "iopub.status.idle": "2022-04-22T09:07:44.569098Z",
     "shell.execute_reply": "2022-04-22T09:07:44.569742Z",
     "shell.execute_reply.started": "2022-02-09T14:57:31.448766Z"
    },
    "papermill": {
     "duration": 0.11062,
     "end_time": "2022-04-22T09:07:44.569945",
     "exception": false,
     "start_time": "2022-04-22T09:07:44.459325",
     "status": "completed"
    },
    "tags": []
   },
   "outputs": [
    {
     "data": {
      "text/plain": [
       "array([[17, 19,  2,  4, 16],\n",
       "       [ 0, 14, 17, 97,  2],\n",
       "       [17,  8, 12, 19,  9]])"
      ]
     },
     "execution_count": 47,
     "metadata": {},
     "output_type": "execute_result"
    }
   ],
   "source": [
    "zz[1,4]= 2.2 \n",
    "zz\n",
    "# Eklenilen float sayıyı Array e Integer olarak ekledi."
   ]
  },
  {
   "cell_type": "markdown",
   "id": "98acdbaa",
   "metadata": {
    "papermill": {
     "duration": 0.098101,
     "end_time": "2022-04-22T09:07:44.768003",
     "exception": false,
     "start_time": "2022-04-22T09:07:44.669902",
     "status": "completed"
    },
    "tags": []
   },
   "source": [
    "<a id=\"17\"></a>\n",
    "\n",
    "# SLICING ile Elemanlara Erişmek"
   ]
  },
  {
   "cell_type": "code",
   "execution_count": 48,
   "id": "e7ada24b",
   "metadata": {
    "execution": {
     "iopub.execute_input": "2022-04-22T09:07:44.966925Z",
     "iopub.status.busy": "2022-04-22T09:07:44.966244Z",
     "iopub.status.idle": "2022-04-22T09:07:44.971284Z",
     "shell.execute_reply": "2022-04-22T09:07:44.971946Z",
     "shell.execute_reply.started": "2022-02-09T15:05:56.31704Z"
    },
    "papermill": {
     "duration": 0.106192,
     "end_time": "2022-04-22T09:07:44.972156",
     "exception": false,
     "start_time": "2022-04-22T09:07:44.865964",
     "status": "completed"
    },
    "tags": []
   },
   "outputs": [
    {
     "data": {
      "text/plain": [
       "array([40, 41, 42, 43, 44, 45, 46, 47, 48, 49])"
      ]
     },
     "execution_count": 48,
     "metadata": {},
     "output_type": "execute_result"
    }
   ],
   "source": [
    "w=np.arange(40,50)\n",
    "w"
   ]
  },
  {
   "cell_type": "code",
   "execution_count": 49,
   "id": "54adaebb",
   "metadata": {
    "execution": {
     "iopub.execute_input": "2022-04-22T09:07:45.182408Z",
     "iopub.status.busy": "2022-04-22T09:07:45.181716Z",
     "iopub.status.idle": "2022-04-22T09:07:45.186734Z",
     "shell.execute_reply": "2022-04-22T09:07:45.187272Z",
     "shell.execute_reply.started": "2022-02-09T15:06:36.796908Z"
    },
    "papermill": {
     "duration": 0.109945,
     "end_time": "2022-04-22T09:07:45.187478",
     "exception": false,
     "start_time": "2022-04-22T09:07:45.077533",
     "status": "completed"
    },
    "tags": []
   },
   "outputs": [
    {
     "data": {
      "text/plain": [
       "array([40, 41, 42])"
      ]
     },
     "execution_count": 49,
     "metadata": {},
     "output_type": "execute_result"
    }
   ],
   "source": [
    "w[0:3]\n",
    "w[:3]\n",
    "# İlk 3 elemanı verir."
   ]
  },
  {
   "cell_type": "code",
   "execution_count": 50,
   "id": "a1c22f2f",
   "metadata": {
    "execution": {
     "iopub.execute_input": "2022-04-22T09:07:45.389073Z",
     "iopub.status.busy": "2022-04-22T09:07:45.388252Z",
     "iopub.status.idle": "2022-04-22T09:07:45.392584Z",
     "shell.execute_reply": "2022-04-22T09:07:45.393258Z",
     "shell.execute_reply.started": "2022-02-09T15:07:10.834034Z"
    },
    "papermill": {
     "duration": 0.107407,
     "end_time": "2022-04-22T09:07:45.393464",
     "exception": false,
     "start_time": "2022-04-22T09:07:45.286057",
     "status": "completed"
    },
    "tags": []
   },
   "outputs": [
    {
     "data": {
      "text/plain": [
       "array([45, 46, 47, 48, 49])"
      ]
     },
     "execution_count": 50,
     "metadata": {},
     "output_type": "execute_result"
    }
   ],
   "source": [
    "w[5:]\n",
    "# 5. elemandan (5. eleman dahil) arrayin sonuna kadar olan elemanları verir."
   ]
  },
  {
   "cell_type": "code",
   "execution_count": 51,
   "id": "c75781dc",
   "metadata": {
    "execution": {
     "iopub.execute_input": "2022-04-22T09:07:45.603501Z",
     "iopub.status.busy": "2022-04-22T09:07:45.602390Z",
     "iopub.status.idle": "2022-04-22T09:07:45.609278Z",
     "shell.execute_reply": "2022-04-22T09:07:45.609947Z",
     "shell.execute_reply.started": "2022-02-09T15:08:57.798228Z"
    },
    "papermill": {
     "duration": 0.113611,
     "end_time": "2022-04-22T09:07:45.610172",
     "exception": false,
     "start_time": "2022-04-22T09:07:45.496561",
     "status": "completed"
    },
    "tags": []
   },
   "outputs": [
    {
     "data": {
      "text/plain": [
       "array([40, 42, 44, 46, 48])"
      ]
     },
     "execution_count": 51,
     "metadata": {},
     "output_type": "execute_result"
    }
   ],
   "source": [
    "w[0::2]\n",
    "# 0 -> Başlangıç indexi\n",
    "# 2 -> 2 şerli"
   ]
  },
  {
   "cell_type": "code",
   "execution_count": 52,
   "id": "16ace3ab",
   "metadata": {
    "execution": {
     "iopub.execute_input": "2022-04-22T09:07:45.812862Z",
     "iopub.status.busy": "2022-04-22T09:07:45.811855Z",
     "iopub.status.idle": "2022-04-22T09:07:45.817782Z",
     "shell.execute_reply": "2022-04-22T09:07:45.818403Z",
     "shell.execute_reply.started": "2022-02-09T15:10:43.544176Z"
    },
    "papermill": {
     "duration": 0.108794,
     "end_time": "2022-04-22T09:07:45.818603",
     "exception": false,
     "start_time": "2022-04-22T09:07:45.709809",
     "status": "completed"
    },
    "tags": []
   },
   "outputs": [
    {
     "data": {
      "text/plain": [
       "array([43, 46, 49])"
      ]
     },
     "execution_count": 52,
     "metadata": {},
     "output_type": "execute_result"
    }
   ],
   "source": [
    "w[3::3]\n",
    "# 3 -> Başlangıç indexi\n",
    "# 3 -> 3 erli"
   ]
  },
  {
   "cell_type": "markdown",
   "id": "9e7aa9da",
   "metadata": {
    "papermill": {
     "duration": 0.102729,
     "end_time": "2022-04-22T09:07:46.021942",
     "exception": false,
     "start_time": "2022-04-22T09:07:45.919213",
     "status": "completed"
    },
    "tags": []
   },
   "source": [
    "## İKİ BOYUTTA SLICE\n",
    "\n",
    "### [satır,sütun]"
   ]
  },
  {
   "cell_type": "code",
   "execution_count": 53,
   "id": "82bfdd04",
   "metadata": {
    "execution": {
     "iopub.execute_input": "2022-04-22T09:07:46.226536Z",
     "iopub.status.busy": "2022-04-22T09:07:46.225552Z",
     "iopub.status.idle": "2022-04-22T09:07:46.233465Z",
     "shell.execute_reply": "2022-04-22T09:07:46.232914Z",
     "shell.execute_reply.started": "2022-02-09T15:14:46.334148Z"
    },
    "papermill": {
     "duration": 0.111192,
     "end_time": "2022-04-22T09:07:46.233633",
     "exception": false,
     "start_time": "2022-04-22T09:07:46.122441",
     "status": "completed"
    },
    "tags": []
   },
   "outputs": [
    {
     "data": {
      "text/plain": [
       "array([[ 1,  2,  3,  4,  5],\n",
       "       [ 6,  7,  8,  9, 10],\n",
       "       [11, 12, 13, 14, 15],\n",
       "       [16, 17, 18, 19, 20],\n",
       "       [21, 22, 23, 24, 25]])"
      ]
     },
     "execution_count": 53,
     "metadata": {},
     "output_type": "execute_result"
    }
   ],
   "source": [
    "ww=np.arange(1,26).reshape(5,5)\n",
    "ww"
   ]
  },
  {
   "cell_type": "code",
   "execution_count": 54,
   "id": "1395da69",
   "metadata": {
    "execution": {
     "iopub.execute_input": "2022-04-22T09:07:46.440922Z",
     "iopub.status.busy": "2022-04-22T09:07:46.439885Z",
     "iopub.status.idle": "2022-04-22T09:07:46.445610Z",
     "shell.execute_reply": "2022-04-22T09:07:46.446262Z",
     "shell.execute_reply.started": "2022-02-09T15:15:02.353918Z"
    },
    "papermill": {
     "duration": 0.111362,
     "end_time": "2022-04-22T09:07:46.446465",
     "exception": false,
     "start_time": "2022-04-22T09:07:46.335103",
     "status": "completed"
    },
    "tags": []
   },
   "outputs": [
    {
     "data": {
      "text/plain": [
       "array([ 1,  6, 11, 16, 21])"
      ]
     },
     "execution_count": 54,
     "metadata": {},
     "output_type": "execute_result"
    }
   ],
   "source": [
    "ww[:,0]\n",
    "#İlk sütun"
   ]
  },
  {
   "cell_type": "code",
   "execution_count": 55,
   "id": "f8f90b9a",
   "metadata": {
    "execution": {
     "iopub.execute_input": "2022-04-22T09:07:46.657199Z",
     "iopub.status.busy": "2022-04-22T09:07:46.656243Z",
     "iopub.status.idle": "2022-04-22T09:07:46.662001Z",
     "shell.execute_reply": "2022-04-22T09:07:46.662606Z",
     "shell.execute_reply.started": "2022-02-09T15:16:19.867261Z"
    },
    "papermill": {
     "duration": 0.113588,
     "end_time": "2022-04-22T09:07:46.662851",
     "exception": false,
     "start_time": "2022-04-22T09:07:46.549263",
     "status": "completed"
    },
    "tags": []
   },
   "outputs": [
    {
     "data": {
      "text/plain": [
       "array([1, 2, 3, 4, 5])"
      ]
     },
     "execution_count": 55,
     "metadata": {},
     "output_type": "execute_result"
    }
   ],
   "source": [
    "ww[0,:]\n",
    "# İlk satır"
   ]
  },
  {
   "cell_type": "code",
   "execution_count": 56,
   "id": "e30b4b39",
   "metadata": {
    "execution": {
     "iopub.execute_input": "2022-04-22T09:07:46.872665Z",
     "iopub.status.busy": "2022-04-22T09:07:46.869229Z",
     "iopub.status.idle": "2022-04-22T09:07:46.875604Z",
     "shell.execute_reply": "2022-04-22T09:07:46.876101Z",
     "shell.execute_reply.started": "2022-02-09T15:17:21.929783Z"
    },
    "papermill": {
     "duration": 0.112528,
     "end_time": "2022-04-22T09:07:46.876305",
     "exception": false,
     "start_time": "2022-04-22T09:07:46.763777",
     "status": "completed"
    },
    "tags": []
   },
   "outputs": [
    {
     "data": {
      "text/plain": [
       "array([[1, 2, 3],\n",
       "       [6, 7, 8]])"
      ]
     },
     "execution_count": 56,
     "metadata": {},
     "output_type": "execute_result"
    }
   ],
   "source": [
    "ww[0:2,0:3]\n",
    "# İlk 2 satır\n",
    "# İlk 3 sütun"
   ]
  },
  {
   "cell_type": "markdown",
   "id": "e52762ca",
   "metadata": {
    "papermill": {
     "duration": 0.101226,
     "end_time": "2022-04-22T09:07:47.078201",
     "exception": false,
     "start_time": "2022-04-22T09:07:46.976975",
     "status": "completed"
    },
    "tags": []
   },
   "source": [
    "<a id=\"18\"></a>\n",
    "\n",
    "# ALT KÜME İŞLEMLERİ (COPY)"
   ]
  },
  {
   "cell_type": "markdown",
   "id": "88591edc",
   "metadata": {
    "papermill": {
     "duration": 0.101802,
     "end_time": "2022-04-22T09:07:47.281269",
     "exception": false,
     "start_time": "2022-04-22T09:07:47.179467",
     "status": "completed"
    },
    "tags": []
   },
   "source": [
    "##### alt_kume de değiştirdiğimiz eleman p ana kümesinide etkiler."
   ]
  },
  {
   "cell_type": "code",
   "execution_count": 57,
   "id": "17ff004b",
   "metadata": {
    "execution": {
     "iopub.execute_input": "2022-04-22T09:07:47.500040Z",
     "iopub.status.busy": "2022-04-22T09:07:47.499162Z",
     "iopub.status.idle": "2022-04-22T09:07:47.503262Z",
     "shell.execute_reply": "2022-04-22T09:07:47.502679Z",
     "shell.execute_reply.started": "2022-02-09T15:31:59.690809Z"
    },
    "papermill": {
     "duration": 0.112171,
     "end_time": "2022-04-22T09:07:47.503420",
     "exception": false,
     "start_time": "2022-04-22T09:07:47.391249",
     "status": "completed"
    },
    "tags": []
   },
   "outputs": [
    {
     "data": {
      "text/plain": [
       "array([[5, 7, 3, 5, 5],\n",
       "       [7, 1, 2, 8, 4],\n",
       "       [7, 1, 5, 8, 3],\n",
       "       [6, 2, 0, 1, 7],\n",
       "       [5, 2, 6, 3, 3]])"
      ]
     },
     "execution_count": 57,
     "metadata": {},
     "output_type": "execute_result"
    }
   ],
   "source": [
    "p=np.random.randint(10,size=(5,5))\n",
    "p"
   ]
  },
  {
   "cell_type": "code",
   "execution_count": 58,
   "id": "fc2c5293",
   "metadata": {
    "execution": {
     "iopub.execute_input": "2022-04-22T09:07:47.718402Z",
     "iopub.status.busy": "2022-04-22T09:07:47.717458Z",
     "iopub.status.idle": "2022-04-22T09:07:47.721922Z",
     "shell.execute_reply": "2022-04-22T09:07:47.721223Z",
     "shell.execute_reply.started": "2022-02-09T15:34:02.923867Z"
    },
    "papermill": {
     "duration": 0.114714,
     "end_time": "2022-04-22T09:07:47.722085",
     "exception": false,
     "start_time": "2022-04-22T09:07:47.607371",
     "status": "completed"
    },
    "tags": []
   },
   "outputs": [
    {
     "data": {
      "text/plain": [
       "array([[5, 7],\n",
       "       [7, 1],\n",
       "       [7, 1]])"
      ]
     },
     "execution_count": 58,
     "metadata": {},
     "output_type": "execute_result"
    }
   ],
   "source": [
    "alt_kume=p[0:3,0:2]\n",
    "alt_kume"
   ]
  },
  {
   "cell_type": "code",
   "execution_count": 59,
   "id": "c82ba9e5",
   "metadata": {
    "execution": {
     "iopub.execute_input": "2022-04-22T09:07:47.935167Z",
     "iopub.status.busy": "2022-04-22T09:07:47.934401Z",
     "iopub.status.idle": "2022-04-22T09:07:47.939942Z",
     "shell.execute_reply": "2022-04-22T09:07:47.940602Z",
     "shell.execute_reply.started": "2022-02-09T15:34:11.389842Z"
    },
    "papermill": {
     "duration": 0.112148,
     "end_time": "2022-04-22T09:07:47.940920",
     "exception": false,
     "start_time": "2022-04-22T09:07:47.828772",
     "status": "completed"
    },
    "tags": []
   },
   "outputs": [
    {
     "data": {
      "text/plain": [
       "array([[999,   7],\n",
       "       [  7,   1],\n",
       "       [  7,   1]])"
      ]
     },
     "execution_count": 59,
     "metadata": {},
     "output_type": "execute_result"
    }
   ],
   "source": [
    "alt_kume[0,0]=999\n",
    "alt_kume"
   ]
  },
  {
   "cell_type": "code",
   "execution_count": 60,
   "id": "825cdfa2",
   "metadata": {
    "execution": {
     "iopub.execute_input": "2022-04-22T09:07:48.157018Z",
     "iopub.status.busy": "2022-04-22T09:07:48.156207Z",
     "iopub.status.idle": "2022-04-22T09:07:48.160454Z",
     "shell.execute_reply": "2022-04-22T09:07:48.161099Z",
     "shell.execute_reply.started": "2022-02-09T15:34:19.334495Z"
    },
    "papermill": {
     "duration": 0.11417,
     "end_time": "2022-04-22T09:07:48.161332",
     "exception": false,
     "start_time": "2022-04-22T09:07:48.047162",
     "status": "completed"
    },
    "tags": []
   },
   "outputs": [
    {
     "data": {
      "text/plain": [
       "array([[999,   7,   3,   5,   5],\n",
       "       [  7,   1,   2,   8,   4],\n",
       "       [  7,   1,   5,   8,   3],\n",
       "       [  6,   2,   0,   1,   7],\n",
       "       [  5,   2,   6,   3,   3]])"
      ]
     },
     "execution_count": 60,
     "metadata": {},
     "output_type": "execute_result"
    }
   ],
   "source": [
    "p"
   ]
  },
  {
   "cell_type": "markdown",
   "id": "0ed27f58",
   "metadata": {
    "papermill": {
     "duration": 0.104172,
     "end_time": "2022-04-22T09:07:48.368571",
     "exception": false,
     "start_time": "2022-04-22T09:07:48.264399",
     "status": "completed"
    },
    "tags": []
   },
   "source": [
    "#### Ana kümeyi bozmamak için copy() metodunu kullanırız."
   ]
  },
  {
   "cell_type": "code",
   "execution_count": 61,
   "id": "99d80e27",
   "metadata": {
    "execution": {
     "iopub.execute_input": "2022-04-22T09:07:48.583448Z",
     "iopub.status.busy": "2022-04-22T09:07:48.582713Z",
     "iopub.status.idle": "2022-04-22T09:07:48.585430Z",
     "shell.execute_reply": "2022-04-22T09:07:48.585948Z",
     "shell.execute_reply.started": "2022-02-09T15:36:59.98189Z"
    },
    "papermill": {
     "duration": 0.111574,
     "end_time": "2022-04-22T09:07:48.586144",
     "exception": false,
     "start_time": "2022-04-22T09:07:48.474570",
     "status": "completed"
    },
    "tags": []
   },
   "outputs": [
    {
     "data": {
      "text/plain": [
       "array([[999,   7],\n",
       "       [  7,   1],\n",
       "       [  7,   1]])"
      ]
     },
     "execution_count": 61,
     "metadata": {},
     "output_type": "execute_result"
    }
   ],
   "source": [
    "alt_kume2=p[0:3,0:2].copy()\n",
    "alt_kume2"
   ]
  },
  {
   "cell_type": "code",
   "execution_count": 62,
   "id": "e4d8d2ed",
   "metadata": {
    "execution": {
     "iopub.execute_input": "2022-04-22T09:07:48.797293Z",
     "iopub.status.busy": "2022-04-22T09:07:48.796487Z",
     "iopub.status.idle": "2022-04-22T09:07:48.801434Z",
     "shell.execute_reply": "2022-04-22T09:07:48.802044Z",
     "shell.execute_reply.started": "2022-02-09T15:37:24.915011Z"
    },
    "papermill": {
     "duration": 0.11208,
     "end_time": "2022-04-22T09:07:48.802272",
     "exception": false,
     "start_time": "2022-04-22T09:07:48.690192",
     "status": "completed"
    },
    "tags": []
   },
   "outputs": [
    {
     "data": {
      "text/plain": [
       "array([[97,  7],\n",
       "       [ 7,  1],\n",
       "       [ 7,  1]])"
      ]
     },
     "execution_count": 62,
     "metadata": {},
     "output_type": "execute_result"
    }
   ],
   "source": [
    "alt_kume2[0,0]=97\n",
    "alt_kume2"
   ]
  },
  {
   "cell_type": "code",
   "execution_count": 63,
   "id": "d4dae63f",
   "metadata": {
    "execution": {
     "iopub.execute_input": "2022-04-22T09:07:49.018166Z",
     "iopub.status.busy": "2022-04-22T09:07:49.017362Z",
     "iopub.status.idle": "2022-04-22T09:07:49.020198Z",
     "shell.execute_reply": "2022-04-22T09:07:49.020722Z",
     "shell.execute_reply.started": "2022-02-09T15:37:30.496848Z"
    },
    "papermill": {
     "duration": 0.114394,
     "end_time": "2022-04-22T09:07:49.020927",
     "exception": false,
     "start_time": "2022-04-22T09:07:48.906533",
     "status": "completed"
    },
    "tags": []
   },
   "outputs": [
    {
     "data": {
      "text/plain": [
       "array([[999,   7,   3,   5,   5],\n",
       "       [  7,   1,   2,   8,   4],\n",
       "       [  7,   1,   5,   8,   3],\n",
       "       [  6,   2,   0,   1,   7],\n",
       "       [  5,   2,   6,   3,   3]])"
      ]
     },
     "execution_count": 63,
     "metadata": {},
     "output_type": "execute_result"
    }
   ],
   "source": [
    "p"
   ]
  },
  {
   "cell_type": "markdown",
   "id": "7846ba39",
   "metadata": {
    "papermill": {
     "duration": 0.109126,
     "end_time": "2022-04-22T09:07:49.255293",
     "exception": false,
     "start_time": "2022-04-22T09:07:49.146167",
     "status": "completed"
    },
    "tags": []
   },
   "source": [
    "<a id=\"19\"></a>\n",
    "\n",
    "# FANCY INDEX"
   ]
  },
  {
   "cell_type": "code",
   "execution_count": 64,
   "id": "fdf3312c",
   "metadata": {
    "execution": {
     "iopub.execute_input": "2022-04-22T09:07:49.467493Z",
     "iopub.status.busy": "2022-04-22T09:07:49.466792Z",
     "iopub.status.idle": "2022-04-22T09:07:49.471316Z",
     "shell.execute_reply": "2022-04-22T09:07:49.471949Z",
     "shell.execute_reply.started": "2022-02-09T15:39:02.508455Z"
    },
    "papermill": {
     "duration": 0.111862,
     "end_time": "2022-04-22T09:07:49.472148",
     "exception": false,
     "start_time": "2022-04-22T09:07:49.360286",
     "status": "completed"
    },
    "tags": []
   },
   "outputs": [
    {
     "data": {
      "text/plain": [
       "array([ 0,  3,  6,  9, 12, 15, 18, 21, 24, 27])"
      ]
     },
     "execution_count": 64,
     "metadata": {},
     "output_type": "execute_result"
    }
   ],
   "source": [
    "u=np.arange(0,30,3)\n",
    "u"
   ]
  },
  {
   "cell_type": "code",
   "execution_count": 65,
   "id": "c0c473e6",
   "metadata": {
    "execution": {
     "iopub.execute_input": "2022-04-22T09:07:49.687276Z",
     "iopub.status.busy": "2022-04-22T09:07:49.686499Z",
     "iopub.status.idle": "2022-04-22T09:07:49.691158Z",
     "shell.execute_reply": "2022-04-22T09:07:49.691611Z",
     "shell.execute_reply.started": "2022-02-09T15:40:05.813843Z"
    },
    "papermill": {
     "duration": 0.115087,
     "end_time": "2022-04-22T09:07:49.691850",
     "exception": false,
     "start_time": "2022-04-22T09:07:49.576763",
     "status": "completed"
    },
    "tags": []
   },
   "outputs": [
    {
     "data": {
      "text/plain": [
       "[3, 9, 9]"
      ]
     },
     "execution_count": 65,
     "metadata": {},
     "output_type": "execute_result"
    }
   ],
   "source": [
    "[u[1],u[3],u[3]] # İstediğimiz index deki sayıları aldık"
   ]
  },
  {
   "cell_type": "code",
   "execution_count": 66,
   "id": "8ca09e52",
   "metadata": {
    "execution": {
     "iopub.execute_input": "2022-04-22T09:07:49.904396Z",
     "iopub.status.busy": "2022-04-22T09:07:49.903622Z",
     "iopub.status.idle": "2022-04-22T09:07:49.908498Z",
     "shell.execute_reply": "2022-04-22T09:07:49.908990Z",
     "shell.execute_reply.started": "2022-02-09T15:40:59.347489Z"
    },
    "papermill": {
     "duration": 0.11246,
     "end_time": "2022-04-22T09:07:49.909209",
     "exception": false,
     "start_time": "2022-04-22T09:07:49.796749",
     "status": "completed"
    },
    "tags": []
   },
   "outputs": [
    {
     "data": {
      "text/plain": [
       "array([ 3,  9, 15])"
      ]
     },
     "execution_count": 66,
     "metadata": {},
     "output_type": "execute_result"
    }
   ],
   "source": [
    "fancy_list=[1,3,5]\n",
    "# İstediğimiz elemanların index lerinden oluşan bir liste oluşturduk.\n",
    "u[fancy_list]\n",
    "# Arrayimizin içinde listeyi çağırdık."
   ]
  },
  {
   "cell_type": "markdown",
   "id": "95a83cf7",
   "metadata": {
    "papermill": {
     "duration": 0.106836,
     "end_time": "2022-04-22T09:07:50.122355",
     "exception": false,
     "start_time": "2022-04-22T09:07:50.015519",
     "status": "completed"
    },
    "tags": []
   },
   "source": [
    "## İKİ BOYUTTA FANCY"
   ]
  },
  {
   "cell_type": "code",
   "execution_count": 67,
   "id": "3407d1ad",
   "metadata": {
    "execution": {
     "iopub.execute_input": "2022-04-22T09:07:50.334896Z",
     "iopub.status.busy": "2022-04-22T09:07:50.334162Z",
     "iopub.status.idle": "2022-04-22T09:07:50.340396Z",
     "shell.execute_reply": "2022-04-22T09:07:50.339710Z",
     "shell.execute_reply.started": "2022-02-09T15:43:09.988927Z"
    },
    "papermill": {
     "duration": 0.113272,
     "end_time": "2022-04-22T09:07:50.340555",
     "exception": false,
     "start_time": "2022-04-22T09:07:50.227283",
     "status": "completed"
    },
    "tags": []
   },
   "outputs": [
    {
     "data": {
      "text/plain": [
       "array([[9, 3, 0],\n",
       "       [5, 2, 6],\n",
       "       [6, 2, 8]])"
      ]
     },
     "execution_count": 67,
     "metadata": {},
     "output_type": "execute_result"
    }
   ],
   "source": [
    "uu=np.random.randint(10,size=(3,3))\n",
    "uu"
   ]
  },
  {
   "cell_type": "code",
   "execution_count": 68,
   "id": "1692c010",
   "metadata": {
    "execution": {
     "iopub.execute_input": "2022-04-22T09:07:50.553505Z",
     "iopub.status.busy": "2022-04-22T09:07:50.552845Z",
     "iopub.status.idle": "2022-04-22T09:07:50.558196Z",
     "shell.execute_reply": "2022-04-22T09:07:50.558834Z",
     "shell.execute_reply.started": "2022-02-09T15:44:32.715471Z"
    },
    "papermill": {
     "duration": 0.113262,
     "end_time": "2022-04-22T09:07:50.559039",
     "exception": false,
     "start_time": "2022-04-22T09:07:50.445777",
     "status": "completed"
    },
    "tags": []
   },
   "outputs": [
    {
     "data": {
      "text/plain": [
       "array([3, 6])"
      ]
     },
     "execution_count": 68,
     "metadata": {},
     "output_type": "execute_result"
    }
   ],
   "source": [
    "satir=np.array([0,1])\n",
    "sutun=np.array([1,2])\n",
    "uu[satir,sutun]"
   ]
  },
  {
   "cell_type": "markdown",
   "id": "873abb45",
   "metadata": {
    "papermill": {
     "duration": 0.104327,
     "end_time": "2022-04-22T09:07:50.769178",
     "exception": false,
     "start_time": "2022-04-22T09:07:50.664851",
     "status": "completed"
    },
    "tags": []
   },
   "source": [
    "<a id=\"20\"></a>\n",
    "\n",
    "# KOŞULLU ELEMAN İŞLEMLERİ"
   ]
  },
  {
   "cell_type": "code",
   "execution_count": 69,
   "id": "9be1cb05",
   "metadata": {
    "execution": {
     "iopub.execute_input": "2022-04-22T09:07:50.983360Z",
     "iopub.status.busy": "2022-04-22T09:07:50.982540Z",
     "iopub.status.idle": "2022-04-22T09:07:50.986626Z",
     "shell.execute_reply": "2022-04-22T09:07:50.987180Z",
     "shell.execute_reply.started": "2022-02-09T15:46:48.345536Z"
    },
    "papermill": {
     "duration": 0.112269,
     "end_time": "2022-04-22T09:07:50.987390",
     "exception": false,
     "start_time": "2022-04-22T09:07:50.875121",
     "status": "completed"
    },
    "tags": []
   },
   "outputs": [],
   "source": [
    "r=np.array([1,2,3,4,5])"
   ]
  },
  {
   "cell_type": "code",
   "execution_count": 70,
   "id": "c76d2d43",
   "metadata": {
    "execution": {
     "iopub.execute_input": "2022-04-22T09:07:51.204247Z",
     "iopub.status.busy": "2022-04-22T09:07:51.203530Z",
     "iopub.status.idle": "2022-04-22T09:07:51.208229Z",
     "shell.execute_reply": "2022-04-22T09:07:51.208768Z",
     "shell.execute_reply.started": "2022-02-09T15:46:53.762497Z"
    },
    "papermill": {
     "duration": 0.115009,
     "end_time": "2022-04-22T09:07:51.208986",
     "exception": false,
     "start_time": "2022-04-22T09:07:51.093977",
     "status": "completed"
    },
    "tags": []
   },
   "outputs": [
    {
     "data": {
      "text/plain": [
       "array([False, False, False,  True,  True])"
      ]
     },
     "execution_count": 70,
     "metadata": {},
     "output_type": "execute_result"
    }
   ],
   "source": [
    "r>3\n",
    "# 3 den büyük değerler için TRUE\n",
    "# 3 den küçük değerler için FALSE"
   ]
  },
  {
   "cell_type": "code",
   "execution_count": 71,
   "id": "531fa916",
   "metadata": {
    "execution": {
     "iopub.execute_input": "2022-04-22T09:07:51.425976Z",
     "iopub.status.busy": "2022-04-22T09:07:51.423476Z",
     "iopub.status.idle": "2022-04-22T09:07:51.429107Z",
     "shell.execute_reply": "2022-04-22T09:07:51.429588Z",
     "shell.execute_reply.started": "2022-02-09T15:48:06.197055Z"
    },
    "papermill": {
     "duration": 0.114757,
     "end_time": "2022-04-22T09:07:51.429795",
     "exception": false,
     "start_time": "2022-04-22T09:07:51.315038",
     "status": "completed"
    },
    "tags": []
   },
   "outputs": [
    {
     "data": {
      "text/plain": [
       "array([4, 5])"
      ]
     },
     "execution_count": 71,
     "metadata": {},
     "output_type": "execute_result"
    }
   ],
   "source": [
    "r[r>3]\n",
    "# 3 den büyük değerleri gösterir"
   ]
  },
  {
   "cell_type": "code",
   "execution_count": 72,
   "id": "f1e019ae",
   "metadata": {
    "execution": {
     "iopub.execute_input": "2022-04-22T09:07:51.643779Z",
     "iopub.status.busy": "2022-04-22T09:07:51.643126Z",
     "iopub.status.idle": "2022-04-22T09:07:51.648086Z",
     "shell.execute_reply": "2022-04-22T09:07:51.648580Z",
     "shell.execute_reply.started": "2022-02-09T15:48:37.333363Z"
    },
    "papermill": {
     "duration": 0.114361,
     "end_time": "2022-04-22T09:07:51.648772",
     "exception": false,
     "start_time": "2022-04-22T09:07:51.534411",
     "status": "completed"
    },
    "tags": []
   },
   "outputs": [
    {
     "data": {
      "text/plain": [
       "array([1, 2, 4, 5])"
      ]
     },
     "execution_count": 72,
     "metadata": {},
     "output_type": "execute_result"
    }
   ],
   "source": [
    "r[r!=3]\n",
    "# 3 dışındaki değerleri verir"
   ]
  },
  {
   "cell_type": "markdown",
   "id": "eb981017",
   "metadata": {
    "papermill": {
     "duration": 0.104781,
     "end_time": "2022-04-22T09:07:51.858794",
     "exception": false,
     "start_time": "2022-04-22T09:07:51.754013",
     "status": "completed"
    },
    "tags": []
   },
   "source": [
    "<a id=\"21\"></a>\n",
    "\n",
    "# MATEMATİKSEL İŞLEMLER"
   ]
  },
  {
   "cell_type": "code",
   "execution_count": 73,
   "id": "ff084d9d",
   "metadata": {
    "execution": {
     "iopub.execute_input": "2022-04-22T09:07:52.074438Z",
     "iopub.status.busy": "2022-04-22T09:07:52.073435Z",
     "iopub.status.idle": "2022-04-22T09:07:52.079126Z",
     "shell.execute_reply": "2022-04-22T09:07:52.079733Z",
     "shell.execute_reply.started": "2022-02-09T15:50:41.603014Z"
    },
    "papermill": {
     "duration": 0.114572,
     "end_time": "2022-04-22T09:07:52.079914",
     "exception": false,
     "start_time": "2022-04-22T09:07:51.965342",
     "status": "completed"
    },
    "tags": []
   },
   "outputs": [
    {
     "data": {
      "text/plain": [
       "array([0, 1, 2, 3, 4])"
      ]
     },
     "execution_count": 73,
     "metadata": {},
     "output_type": "execute_result"
    }
   ],
   "source": [
    "r-1"
   ]
  },
  {
   "cell_type": "code",
   "execution_count": 74,
   "id": "7714cee8",
   "metadata": {
    "execution": {
     "iopub.execute_input": "2022-04-22T09:07:52.296796Z",
     "iopub.status.busy": "2022-04-22T09:07:52.293428Z",
     "iopub.status.idle": "2022-04-22T09:07:52.301175Z",
     "shell.execute_reply": "2022-04-22T09:07:52.300468Z",
     "shell.execute_reply.started": "2022-02-09T15:50:52.667599Z"
    },
    "papermill": {
     "duration": 0.116185,
     "end_time": "2022-04-22T09:07:52.301329",
     "exception": false,
     "start_time": "2022-04-22T09:07:52.185144",
     "status": "completed"
    },
    "tags": []
   },
   "outputs": [
    {
     "data": {
      "text/plain": [
       "array([ 1,  4,  9, 16, 25])"
      ]
     },
     "execution_count": 74,
     "metadata": {},
     "output_type": "execute_result"
    }
   ],
   "source": [
    "r**2"
   ]
  },
  {
   "cell_type": "code",
   "execution_count": 75,
   "id": "c885e898",
   "metadata": {
    "execution": {
     "iopub.execute_input": "2022-04-22T09:07:52.524329Z",
     "iopub.status.busy": "2022-04-22T09:07:52.523549Z",
     "iopub.status.idle": "2022-04-22T09:07:52.526256Z",
     "shell.execute_reply": "2022-04-22T09:07:52.526825Z",
     "shell.execute_reply.started": "2022-02-09T15:51:15.773767Z"
    },
    "papermill": {
     "duration": 0.117137,
     "end_time": "2022-04-22T09:07:52.527026",
     "exception": false,
     "start_time": "2022-04-22T09:07:52.409889",
     "status": "completed"
    },
    "tags": []
   },
   "outputs": [
    {
     "data": {
      "text/plain": [
       "array([0, 1, 2, 3, 4])"
      ]
     },
     "execution_count": 75,
     "metadata": {},
     "output_type": "execute_result"
    }
   ],
   "source": [
    "np.subtract(r,1) \n",
    "#-1"
   ]
  },
  {
   "cell_type": "code",
   "execution_count": 76,
   "id": "4ad585a5",
   "metadata": {
    "execution": {
     "iopub.execute_input": "2022-04-22T09:07:52.745192Z",
     "iopub.status.busy": "2022-04-22T09:07:52.744465Z",
     "iopub.status.idle": "2022-04-22T09:07:52.750100Z",
     "shell.execute_reply": "2022-04-22T09:07:52.750600Z",
     "shell.execute_reply.started": "2022-02-09T15:51:40.252313Z"
    },
    "papermill": {
     "duration": 0.116837,
     "end_time": "2022-04-22T09:07:52.750798",
     "exception": false,
     "start_time": "2022-04-22T09:07:52.633961",
     "status": "completed"
    },
    "tags": []
   },
   "outputs": [
    {
     "data": {
      "text/plain": [
       "array([ 6,  7,  8,  9, 10])"
      ]
     },
     "execution_count": 76,
     "metadata": {},
     "output_type": "execute_result"
    }
   ],
   "source": [
    "np.add(r,5)\n",
    "# +5"
   ]
  },
  {
   "cell_type": "code",
   "execution_count": 77,
   "id": "7393fc58",
   "metadata": {
    "execution": {
     "iopub.execute_input": "2022-04-22T09:07:52.968859Z",
     "iopub.status.busy": "2022-04-22T09:07:52.968162Z",
     "iopub.status.idle": "2022-04-22T09:07:52.974710Z",
     "shell.execute_reply": "2022-04-22T09:07:52.974047Z",
     "shell.execute_reply.started": "2022-02-09T15:52:29.423938Z"
    },
    "papermill": {
     "duration": 0.116722,
     "end_time": "2022-04-22T09:07:52.974855",
     "exception": false,
     "start_time": "2022-04-22T09:07:52.858133",
     "status": "completed"
    },
    "tags": []
   },
   "outputs": [
    {
     "data": {
      "text/plain": [
       "array([ 3,  6,  9, 12, 15])"
      ]
     },
     "execution_count": 77,
     "metadata": {},
     "output_type": "execute_result"
    }
   ],
   "source": [
    "np.multiply(r,3)\n",
    "# x3"
   ]
  },
  {
   "cell_type": "code",
   "execution_count": 78,
   "id": "23d78504",
   "metadata": {
    "execution": {
     "iopub.execute_input": "2022-04-22T09:07:53.196308Z",
     "iopub.status.busy": "2022-04-22T09:07:53.195632Z",
     "iopub.status.idle": "2022-04-22T09:07:53.198453Z",
     "shell.execute_reply": "2022-04-22T09:07:53.198963Z",
     "shell.execute_reply.started": "2022-02-09T15:53:05.072435Z"
    },
    "papermill": {
     "duration": 0.115719,
     "end_time": "2022-04-22T09:07:53.199148",
     "exception": false,
     "start_time": "2022-04-22T09:07:53.083429",
     "status": "completed"
    },
    "tags": []
   },
   "outputs": [
    {
     "data": {
      "text/plain": [
       "array([0.5, 1. , 1.5, 2. , 2.5])"
      ]
     },
     "execution_count": 78,
     "metadata": {},
     "output_type": "execute_result"
    }
   ],
   "source": [
    "np.divide(r,2)\n",
    "# /2"
   ]
  },
  {
   "cell_type": "code",
   "execution_count": 79,
   "id": "8e350ea6",
   "metadata": {
    "execution": {
     "iopub.execute_input": "2022-04-22T09:07:53.419443Z",
     "iopub.status.busy": "2022-04-22T09:07:53.418686Z",
     "iopub.status.idle": "2022-04-22T09:07:53.423527Z",
     "shell.execute_reply": "2022-04-22T09:07:53.424083Z",
     "shell.execute_reply.started": "2022-02-09T15:53:31.32436Z"
    },
    "papermill": {
     "duration": 0.117369,
     "end_time": "2022-04-22T09:07:53.424282",
     "exception": false,
     "start_time": "2022-04-22T09:07:53.306913",
     "status": "completed"
    },
    "tags": []
   },
   "outputs": [
    {
     "data": {
      "text/plain": [
       "array([  1,  16,  81, 256, 625])"
      ]
     },
     "execution_count": 79,
     "metadata": {},
     "output_type": "execute_result"
    }
   ],
   "source": [
    "np.power(r,4)\n",
    "# 4. kuvvetini al"
   ]
  },
  {
   "cell_type": "code",
   "execution_count": 80,
   "id": "8ee29bab",
   "metadata": {
    "execution": {
     "iopub.execute_input": "2022-04-22T09:07:53.645359Z",
     "iopub.status.busy": "2022-04-22T09:07:53.644488Z",
     "iopub.status.idle": "2022-04-22T09:07:53.651146Z",
     "shell.execute_reply": "2022-04-22T09:07:53.651645Z",
     "shell.execute_reply.started": "2022-02-09T15:54:40.590897Z"
    },
    "papermill": {
     "duration": 0.118187,
     "end_time": "2022-04-22T09:07:53.651855",
     "exception": false,
     "start_time": "2022-04-22T09:07:53.533668",
     "status": "completed"
    },
    "tags": []
   },
   "outputs": [
    {
     "data": {
      "text/plain": [
       "array([ 9,  6, 10,  5])"
      ]
     },
     "execution_count": 80,
     "metadata": {},
     "output_type": "execute_result"
    }
   ],
   "source": [
    "np.absolute(np.array([-9,6,-10,-5]))\n",
    "# mutlak değer"
   ]
  },
  {
   "cell_type": "code",
   "execution_count": 81,
   "id": "23d20649",
   "metadata": {
    "execution": {
     "iopub.execute_input": "2022-04-22T09:07:53.871574Z",
     "iopub.status.busy": "2022-04-22T09:07:53.870680Z",
     "iopub.status.idle": "2022-04-22T09:07:53.879556Z",
     "shell.execute_reply": "2022-04-22T09:07:53.879037Z",
     "shell.execute_reply.started": "2022-02-09T15:55:03.562457Z"
    },
    "papermill": {
     "duration": 0.118633,
     "end_time": "2022-04-22T09:07:53.879718",
     "exception": false,
     "start_time": "2022-04-22T09:07:53.761085",
     "status": "completed"
    },
    "tags": []
   },
   "outputs": [
    {
     "data": {
      "text/plain": [
       "-0.5984600690578581"
      ]
     },
     "execution_count": 81,
     "metadata": {},
     "output_type": "execute_result"
    }
   ],
   "source": [
    "np.cos(180)\n",
    "# Trigonometrik ifadeler."
   ]
  },
  {
   "cell_type": "code",
   "execution_count": 82,
   "id": "78d58f37",
   "metadata": {
    "execution": {
     "iopub.execute_input": "2022-04-22T09:07:54.117260Z",
     "iopub.status.busy": "2022-04-22T09:07:54.116497Z",
     "iopub.status.idle": "2022-04-22T09:07:54.119985Z",
     "shell.execute_reply": "2022-04-22T09:07:54.119328Z",
     "shell.execute_reply.started": "2022-02-09T15:55:57.154099Z"
    },
    "papermill": {
     "duration": 0.132166,
     "end_time": "2022-04-22T09:07:54.120144",
     "exception": false,
     "start_time": "2022-04-22T09:07:53.987978",
     "status": "completed"
    },
    "tags": []
   },
   "outputs": [
    {
     "data": {
      "text/plain": [
       "array([2.30258509, 4.60517019, 5.29831737])"
      ]
     },
     "execution_count": 82,
     "metadata": {},
     "output_type": "execute_result"
    }
   ],
   "source": [
    "np.log(np.array([10,100,200]))"
   ]
  },
  {
   "cell_type": "code",
   "execution_count": 83,
   "id": "6da2cd98",
   "metadata": {
    "execution": {
     "iopub.execute_input": "2022-04-22T09:07:54.346113Z",
     "iopub.status.busy": "2022-04-22T09:07:54.345347Z",
     "iopub.status.idle": "2022-04-22T09:07:54.350798Z",
     "shell.execute_reply": "2022-04-22T09:07:54.351317Z",
     "shell.execute_reply.started": "2022-02-09T15:56:30.535739Z"
    },
    "papermill": {
     "duration": 0.118991,
     "end_time": "2022-04-22T09:07:54.351527",
     "exception": false,
     "start_time": "2022-04-22T09:07:54.232536",
     "status": "completed"
    },
    "tags": []
   },
   "outputs": [
    {
     "data": {
      "text/plain": [
       "array([2., 4., 6.])"
      ]
     },
     "execution_count": 83,
     "metadata": {},
     "output_type": "execute_result"
    }
   ],
   "source": [
    "np.log2(np.array([4,16,64]))\n",
    "# 2 tabanın da logaritma"
   ]
  },
  {
   "cell_type": "markdown",
   "id": "50a0f2ba",
   "metadata": {
    "papermill": {
     "duration": 0.108393,
     "end_time": "2022-04-22T09:07:54.570480",
     "exception": false,
     "start_time": "2022-04-22T09:07:54.462087",
     "status": "completed"
    },
    "tags": []
   },
   "source": [
    "## NumPy ile İki Bilinmeyenli Denklem Çözümü\n",
    "\n",
    "5*x0+x1=12\n",
    "\n",
    "x0+3*x1=10"
   ]
  },
  {
   "cell_type": "code",
   "execution_count": 84,
   "id": "a8cf450e",
   "metadata": {
    "execution": {
     "iopub.execute_input": "2022-04-22T09:07:54.796618Z",
     "iopub.status.busy": "2022-04-22T09:07:54.795911Z",
     "iopub.status.idle": "2022-04-22T09:07:54.798946Z",
     "shell.execute_reply": "2022-04-22T09:07:54.798358Z",
     "shell.execute_reply.started": "2022-02-09T16:01:40.294842Z"
    },
    "papermill": {
     "duration": 0.118158,
     "end_time": "2022-04-22T09:07:54.799100",
     "exception": false,
     "start_time": "2022-04-22T09:07:54.680942",
     "status": "completed"
    },
    "tags": []
   },
   "outputs": [],
   "source": [
    "d=np.array([[5,1],[1,3]])\n",
    "f=np.array([12,10])"
   ]
  },
  {
   "cell_type": "code",
   "execution_count": 85,
   "id": "bb335847",
   "metadata": {
    "execution": {
     "iopub.execute_input": "2022-04-22T09:07:55.027278Z",
     "iopub.status.busy": "2022-04-22T09:07:55.026537Z",
     "iopub.status.idle": "2022-04-22T09:07:55.029922Z",
     "shell.execute_reply": "2022-04-22T09:07:55.030441Z",
     "shell.execute_reply.started": "2022-02-09T16:02:13.983173Z"
    },
    "papermill": {
     "duration": 0.121772,
     "end_time": "2022-04-22T09:07:55.030625",
     "exception": false,
     "start_time": "2022-04-22T09:07:54.908853",
     "status": "completed"
    },
    "tags": []
   },
   "outputs": [
    {
     "data": {
      "text/plain": [
       "array([1.85714286, 2.71428571])"
      ]
     },
     "execution_count": 85,
     "metadata": {},
     "output_type": "execute_result"
    }
   ],
   "source": [
    "sonuc=np.linalg.solve(d,f)\n",
    "sonuc"
   ]
  }
 ],
 "metadata": {
  "kernelspec": {
   "display_name": "Python 3 (ipykernel)",
   "language": "python",
   "name": "python3"
  },
  "language_info": {
   "codemirror_mode": {
    "name": "ipython",
    "version": 3
   },
   "file_extension": ".py",
   "mimetype": "text/x-python",
   "name": "python",
   "nbconvert_exporter": "python",
   "pygments_lexer": "ipython3",
   "version": "3.9.7"
  },
  "papermill": {
   "default_parameters": {},
   "duration": 37.458664,
   "end_time": "2022-04-22T09:07:55.958617",
   "environment_variables": {},
   "exception": null,
   "input_path": "__notebook__.ipynb",
   "output_path": "__notebook__.ipynb",
   "parameters": {},
   "start_time": "2022-04-22T09:07:18.499953",
   "version": "2.3.3"
  }
 },
 "nbformat": 4,
 "nbformat_minor": 5
}
